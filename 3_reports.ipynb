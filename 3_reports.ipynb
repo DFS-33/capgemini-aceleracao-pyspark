{
 "cells": [
  {
   "cell_type": "markdown",
   "id": "eb0d033f",
   "metadata": {},
   "source": [
    "## Relatórios\n",
    "Agora, chegamos no momento em que a qualidade foi aferida e as transformações necessárias para que os\n",
    "dados sejam úteis, já foram realizadas. Este momento conseguimos responder perguntas importantes para\n",
    "direcionar esforços para melhorar a qualidade dos dados e também responder perguntas de negócio que\n",
    "são essenciais para tomada de decisão."
   ]
  },
  {
   "cell_type": "code",
   "execution_count": 2,
   "id": "922efeb7",
   "metadata": {},
   "outputs": [],
   "source": [
    "# Locate spark\n",
    "import findspark\n",
    "findspark.init()"
   ]
  },
  {
   "cell_type": "code",
   "execution_count": 3,
   "id": "0c1d24f3",
   "metadata": {},
   "outputs": [],
   "source": [
    "import matplotlib\n",
    "import matplotlib.pyplot as plt"
   ]
  },
  {
   "cell_type": "code",
   "execution_count": 4,
   "id": "d26df9e2",
   "metadata": {},
   "outputs": [],
   "source": [
    "# Importando pacotes\n",
    "import re\n",
    "from pyspark import SparkContext, SparkConf\n",
    "from pyspark.sql import SparkSession\n",
    "from pyspark.sql import functions as F  # Importando todas as funções \n",
    "from pyspark.sql.types import StructType, StructField, StringType, IntegerType, FloatType"
   ]
  },
  {
   "cell_type": "code",
   "execution_count": 5,
   "id": "d2f87a74",
   "metadata": {},
   "outputs": [],
   "source": [
    "# Expressoes regulares comuns\n",
    "# Boas práticas (variáveis constantes em maiusculo)\n",
    "REGEX_ALPHA    = r'[a-zA-Z]+'\n",
    "REGEX_INTEGER  = r'[0-9]+'\n",
    "REGEX_FLOAT    = r'[0-9]+\\.[0-9]+'\n",
    "REGEX_ALPHANUM = r'[0-9a-zA-Z]+'\n",
    "REGEX_EMPTY_STR= r'[\\t ]+$'\n",
    "REGEX_SPECIAL  = r'[!@#$%&*\\(\\)_]+'\n",
    "REGEX_NNUMBER  = r'^N[1-9][0-9]{2,3}([ABCDEFGHJKLMNPRSTUVXWYZ]{1,2})'\n",
    "REGEX_NNUMBER_INVALID = r'(N0.*$)|(.*[IO].*)'\n",
    "REGEX_TIME_FMT = r'^(([0-1]?[0-9])|(2[0-3]))([0-5][0-9])$'"
   ]
  },
  {
   "cell_type": "code",
   "execution_count": 6,
   "id": "7cc97778",
   "metadata": {},
   "outputs": [],
   "source": [
    "# Funcoes auxiliares \n",
    "def split_csv(line):\n",
    "    return tuple(map(lambda x: x.replace('\"',''), line.split(\",\")))\n",
    "\n",
    "def check_empty_column(col):\n",
    "    return (F.col(col).isNull() | (F.col(col) =='') | F.col(col).rlike(REGEX_EMPTY_STR))"
   ]
  },
  {
   "cell_type": "code",
   "execution_count": 7,
   "id": "c6a86104",
   "metadata": {},
   "outputs": [],
   "source": [
    "# Criar o contexto do spark\n",
    "sc = SparkContext()\n",
    "\n",
    "# Instancia o criador de sessao do spark\n",
    "spark = (SparkSession.builder\n",
    "                     .master(\"local[7]\")\n",
    "                     .appName(\"Aceleração PySpark - Capgemini\"))"
   ]
  },
  {
   "cell_type": "code",
   "execution_count": null,
   "id": "f77a3748",
   "metadata": {},
   "outputs": [],
   "source": []
  },
  {
   "cell_type": "code",
   "execution_count": 8,
   "id": "f171fde6",
   "metadata": {},
   "outputs": [],
   "source": [
    "# Lendo arquivo parquet\n",
    "\n",
    "flights_proc = (spark.getOrCreate().read\n",
    "                   .format(\"parquet\")\n",
    "                   .option(\"header\",\"True\")\n",
    "                   .load(\"Datasets/transformacao/flights_proc.parquet\"))\n",
    "\n",
    "\n",
    "# Lendo arquivo parquet\n",
    "planes_proc = (spark.getOrCreate().read\n",
    "                   .format(\"parquet\")\n",
    "                   .option(\"header\",\"True\")\n",
    "                   .load(\"Datasets/transformacao/planes_proc.parquet\"))\n",
    "\n",
    "\n",
    "# Lendo arquivo parquet\n",
    "airports_proc = (spark.getOrCreate().read\n",
    "                   .format(\"parquet\")\n",
    "                   .option(\"header\",\"True\")\n",
    "                   .load(\"Datasets/transformacao/airports_proc.parquet\"))\n"
   ]
  },
  {
   "cell_type": "code",
   "execution_count": 9,
   "id": "8b7d6c76",
   "metadata": {},
   "outputs": [],
   "source": [
    "# Criacao das visões temporarias\n",
    "flights_proc.createOrReplaceTempView('flights')\n",
    "planes_proc.createOrReplaceTempView('planes')\n",
    "airports_proc.createOrReplaceTempView('airports')"
   ]
  },
  {
   "cell_type": "code",
   "execution_count": null,
   "id": "583d661f",
   "metadata": {},
   "outputs": [],
   "source": []
  },
  {
   "cell_type": "markdown",
   "id": "3af22dc7",
   "metadata": {},
   "source": [
    "### 1. Crie uma base de dados unificando os datasets transformados<br> ( airports_proc.parquet ,planes_proc.parquet , flights_proc.parquet )<br> considerando as seguintes chaves em comum:\n",
    "**faa - flights.origin** <br>\n",
    "**airports.faa - flights.dest** <br>\n",
    "**planes.tailnum - flights.tailnum**<br>"
   ]
  },
  {
   "cell_type": "code",
   "execution_count": 10,
   "id": "3d7469f2",
   "metadata": {},
   "outputs": [],
   "source": [
    "# Renomeando colunas\n",
    "# Renomeando colunas\n",
    "flights_proc = flights_proc.select(*(F.col(x).alias('fl_' + x ) for x in flights_proc.columns))\n",
    "planes_proc = planes_proc.select(*(F.col(x).alias('pl_' + x ) for x in planes_proc.columns))\n",
    "airports_proc2 = airports_proc.select(*(F.col(x).alias('air2_' + x ) for x in airports_proc.columns))\n",
    "airports_proc = airports_proc.select(*(F.col(x).alias('air_' + x ) for x in airports_proc.columns))"
   ]
  },
  {
   "cell_type": "code",
   "execution_count": 11,
   "id": "8d6d6f0d",
   "metadata": {},
   "outputs": [
    {
     "name": "stdout",
     "output_type": "stream",
     "text": [
      "root\n",
      " |-- fl_dep_time: string (nullable = true)\n",
      " |-- fl_dep_delay: integer (nullable = true)\n",
      " |-- fl_arr_time: string (nullable = true)\n",
      " |-- fl_arr_delay: integer (nullable = true)\n",
      " |-- fl_carrier: string (nullable = true)\n",
      " |-- fl_tailnum: string (nullable = true)\n",
      " |-- fl_flight: string (nullable = true)\n",
      " |-- fl_origin: string (nullable = true)\n",
      " |-- fl_dest: string (nullable = true)\n",
      " |-- fl_air_time: double (nullable = true)\n",
      " |-- fl_distance: integer (nullable = true)\n",
      " |-- fl_dep_datetime: timestamp (nullable = true)\n",
      " |-- fl_air_time_projected: integer (nullable = true)\n",
      " |-- fl_air_time_expected: integer (nullable = true)\n",
      " |-- fl_haul_duration: string (nullable = true)\n",
      " |-- fl_dep_season: string (nullable = true)\n",
      " |-- fl_dep_delay_category: string (nullable = true)\n",
      "\n",
      "root\n",
      " |-- pl_tailnum: string (nullable = true)\n",
      " |-- pl_year: string (nullable = true)\n",
      " |-- pl_type: string (nullable = true)\n",
      " |-- pl_manufacturer: string (nullable = true)\n",
      " |-- pl_model: string (nullable = true)\n",
      " |-- pl_engines: integer (nullable = true)\n",
      " |-- pl_seats: integer (nullable = true)\n",
      " |-- pl_speed: long (nullable = true)\n",
      " |-- pl_engine: string (nullable = true)\n",
      " |-- pl_tailchar: string (nullable = true)\n",
      " |-- pl_old_manufacturer: string (nullable = true)\n",
      " |-- pl_old_model: string (nullable = true)\n",
      " |-- pl_old_year: integer (nullable = true)\n",
      " |-- pl_age: integer (nullable = true)\n",
      " |-- pl_engine_type: string (nullable = true)\n",
      "\n",
      "root\n",
      " |-- air_faa: string (nullable = true)\n",
      " |-- air_name: string (nullable = true)\n",
      " |-- air_lat: float (nullable = true)\n",
      " |-- air_lon: float (nullable = true)\n",
      " |-- air_alt: integer (nullable = true)\n",
      " |-- air_tz: integer (nullable = true)\n",
      " |-- air_dst: string (nullable = true)\n",
      " |-- air_region: string (nullable = true)\n",
      " |-- air_type: string (nullable = true)\n",
      " |-- air_military: boolean (nullable = true)\n",
      " |-- air_administration: string (nullable = true)\n",
      "\n"
     ]
    }
   ],
   "source": [
    "# Verificando schemas \n",
    "flights_proc.printSchema()\n",
    "planes_proc.printSchema()\n",
    "airports_proc.printSchema()"
   ]
  },
  {
   "cell_type": "code",
   "execution_count": 12,
   "id": "130546e1",
   "metadata": {},
   "outputs": [
    {
     "data": {
      "text/plain": [
       "10000"
      ]
     },
     "execution_count": 12,
     "metadata": {},
     "output_type": "execute_result"
    }
   ],
   "source": [
    "## Contando a quantidade linhas do dataset flights \n",
    "flights_proc.count()\n"
   ]
  },
  {
   "cell_type": "code",
   "execution_count": null,
   "id": "62aaa240",
   "metadata": {},
   "outputs": [],
   "source": []
  },
  {
   "cell_type": "code",
   "execution_count": 13,
   "id": "8c2a7ee7",
   "metadata": {},
   "outputs": [],
   "source": [
    "## corrigido\n",
    "df_final = flights_proc.join(airports_proc, (flights_proc.fl_origin == airports_proc.air_faa) ,'left')\\\n",
    "                       .join(airports_proc2,(flights_proc.fl_dest  == airports_proc2.air2_faa),'left')\\\n",
    "                       .join(planes_proc,   (flights_proc.fl_tailnum == planes_proc.pl_tailnum),'left')"
   ]
  },
  {
   "cell_type": "code",
   "execution_count": 14,
   "id": "edcf752f",
   "metadata": {},
   "outputs": [],
   "source": [
    "df_1 = airports_proc\n",
    "df_2 = airports_proc"
   ]
  },
  {
   "cell_type": "code",
   "execution_count": null,
   "id": "d6fc2d68",
   "metadata": {},
   "outputs": [],
   "source": []
  },
  {
   "cell_type": "markdown",
   "id": "fece0e45",
   "metadata": {},
   "source": [
    "### 2. Quantos aeroportos existem em cada region ?\n"
   ]
  },
  {
   "cell_type": "code",
   "execution_count": 15,
   "id": "2f23c3f7",
   "metadata": {},
   "outputs": [
    {
     "name": "stdout",
     "output_type": "stream",
     "text": [
      "-RECORD 0------------------------------------\n",
      " fl_dep_time           | 658                 \n",
      " fl_dep_delay          | -7                  \n",
      " fl_arr_time           | 935                 \n",
      " fl_arr_delay          | -5                  \n",
      " fl_carrier            | VX                  \n",
      " fl_tailnum            | N846VA              \n",
      " fl_flight             | 1780                \n",
      " fl_origin             | SEA                 \n",
      " fl_dest               | LAX                 \n",
      " fl_air_time           | 132.0               \n",
      " fl_distance           | 954                 \n",
      " fl_dep_datetime       | 2014-12-08 06:58:00 \n",
      " fl_air_time_projected | 115                 \n",
      " fl_air_time_expected  | 127                 \n",
      " fl_haul_duration      | SHORT-HAUL          \n",
      " fl_dep_season         | FALL                \n",
      " fl_dep_delay_category | ANTECIPATED         \n",
      " air_faa               | SEA                 \n",
      " air_name              | Seattle Tacoma Intl \n",
      " air_lat               | 47.449              \n",
      " air_lon               | -122.3093           \n",
      " air_alt               | 433                 \n",
      " air_tz                | -8                  \n",
      " air_dst               | A                   \n",
      " air_region            | MAINLAND-WEST       \n",
      " air_type              | NaN                 \n",
      " air_military          | false               \n",
      " air_administration    | I                   \n",
      " air2_faa              | LAX                 \n",
      " air2_name             | Los Angeles Intl    \n",
      " air2_lat              | 33.942535           \n",
      " air2_lon              | -118.40807          \n",
      " air2_alt              | 126                 \n",
      " air2_tz               | -8                  \n",
      " air2_dst              | A                   \n",
      " air2_region           | MAINLAND-WEST       \n",
      " air2_type             | NaN                 \n",
      " air2_military         | false               \n",
      " air2_administration   | I                   \n",
      " pl_tailnum            | N846VA              \n",
      " pl_year               | 2002                \n",
      " pl_type               | MULTI_ENG           \n",
      " pl_manufacturer       | AIRBUS              \n",
      " pl_model              | A320-214            \n",
      " pl_engines            | 2                   \n",
      " pl_seats              | 182                 \n",
      " pl_speed              | 506                 \n",
      " pl_engine             | Turbo-fan           \n",
      " pl_tailchar           | 846VA               \n",
      " pl_old_manufacturer   | AIRBUS              \n",
      " pl_old_model          | A320-214            \n",
      " pl_old_year           | 2011                \n",
      " pl_age                | 20                  \n",
      " pl_engine_type        | FAN                 \n",
      "only showing top 1 row\n",
      "\n"
     ]
    }
   ],
   "source": [
    "df_final.show(1,vertical=True)"
   ]
  },
  {
   "cell_type": "code",
   "execution_count": 16,
   "id": "92d5b8e7",
   "metadata": {},
   "outputs": [
    {
     "name": "stdout",
     "output_type": "stream",
     "text": [
      "+-------------+-----+\n",
      "|  air2_region|count|\n",
      "+-------------+-----+\n",
      "|       ALASKA|    9|\n",
      "|MAINLAND-EAST|   24|\n",
      "|MAINLAND-WEST|   36|\n",
      "+-------------+-----+\n",
      "\n"
     ]
    },
    {
     "data": {
      "image/png": "[encoded data removed]",
      "text/plain": [
       "<Figure size 1080x360 with 1 Axes>"
      ]
     },
     "metadata": {
      "needs_background": "light"
     },
     "output_type": "display_data"
    }
   ],
   "source": [
    "df_final.groupBy(F.col('air2_region')).agg(F.countDistinct('air2_faa').alias('count')).show()\n",
    "\n",
    "### plot\n",
    "df_plot = df_final.groupBy(F.col('air2_region')).agg(F.countDistinct('air2_faa').alias('count'))\n",
    "x = df_plot.toPandas()['air2_region'].values.tolist()\n",
    "y = df_plot.toPandas()['count'].values.tolist()\n",
    "\n",
    "plt.figure(figsize=(15,5))\n",
    "plt.bar(x,y)\n",
    "plt.title('qtde_aeroporto por regiao')\n",
    "plt.show()"
   ]
  },
  {
   "cell_type": "markdown",
   "id": "1b1a2d2e",
   "metadata": {},
   "source": [
    "### 3. Qual é a maior diferença de altitude dos voos? Considere: max(alt_origin - alt_dest)"
   ]
  },
  {
   "cell_type": "code",
   "execution_count": 19,
   "id": "45bfd156",
   "metadata": {},
   "outputs": [
    {
     "data": {
      "text/html": [
       "<div>\n",
       "<style scoped>\n",
       "    .dataframe tbody tr th:only-of-type {\n",
       "        vertical-align: middle;\n",
       "    }\n",
       "\n",
       "    .dataframe tbody tr th {\n",
       "        vertical-align: top;\n",
       "    }\n",
       "\n",
       "    .dataframe thead th {\n",
       "        text-align: right;\n",
       "    }\n",
       "</style>\n",
       "<table border=\"1\" class=\"dataframe\">\n",
       "  <thead>\n",
       "    <tr style=\"text-align: right;\">\n",
       "      <th></th>\n",
       "      <th>max-somando</th>\n",
       "    </tr>\n",
       "  </thead>\n",
       "  <tbody>\n",
       "    <tr>\n",
       "      <th>0</th>\n",
       "      <td>429</td>\n",
       "    </tr>\n",
       "  </tbody>\n",
       "</table>\n",
       "</div>"
      ],
      "text/plain": [
       "   max-somando\n",
       "0          429"
      ]
     },
     "execution_count": 19,
     "metadata": {},
     "output_type": "execute_result"
    }
   ],
   "source": [
    "df_final.agg(F.max(F.col('air_alt') - F.col('air2_alt')).alias('max-somando')).toPandas()"
   ]
  },
  {
   "cell_type": "markdown",
   "id": "af94ff6e",
   "metadata": {},
   "source": [
    "### 4. Qual é o atraso médio?"
   ]
  },
  {
   "cell_type": "code",
   "execution_count": 21,
   "id": "577dbd6f",
   "metadata": {},
   "outputs": [
    {
     "data": {
      "text/html": [
       "<div>\n",
       "<style scoped>\n",
       "    .dataframe tbody tr th:only-of-type {\n",
       "        vertical-align: middle;\n",
       "    }\n",
       "\n",
       "    .dataframe tbody tr th {\n",
       "        vertical-align: top;\n",
       "    }\n",
       "\n",
       "    .dataframe thead th {\n",
       "        text-align: right;\n",
       "    }\n",
       "</style>\n",
       "<table border=\"1\" class=\"dataframe\">\n",
       "  <thead>\n",
       "    <tr style=\"text-align: right;\">\n",
       "      <th></th>\n",
       "      <th>soma_atraso</th>\n",
       "    </tr>\n",
       "  </thead>\n",
       "  <tbody>\n",
       "    <tr>\n",
       "      <th>0</th>\n",
       "      <td>8.2757</td>\n",
       "    </tr>\n",
       "  </tbody>\n",
       "</table>\n",
       "</div>"
      ],
      "text/plain": [
       "   soma_atraso\n",
       "0       8.2757"
      ]
     },
     "execution_count": 21,
     "metadata": {},
     "output_type": "execute_result"
    }
   ],
   "source": [
    "df_final.agg(F.mean(F.col('fl_dep_delay') + F.col('fl_arr_delay')).alias('soma_atraso')).toPandas()"
   ]
  },
  {
   "cell_type": "code",
   "execution_count": 20,
   "id": "ee641725",
   "metadata": {},
   "outputs": [
    {
     "data": {
      "text/html": [
       "<div>\n",
       "<style scoped>\n",
       "    .dataframe tbody tr th:only-of-type {\n",
       "        vertical-align: middle;\n",
       "    }\n",
       "\n",
       "    .dataframe tbody tr th {\n",
       "        vertical-align: top;\n",
       "    }\n",
       "\n",
       "    .dataframe thead th {\n",
       "        text-align: right;\n",
       "    }\n",
       "</style>\n",
       "<table border=\"1\" class=\"dataframe\">\n",
       "  <thead>\n",
       "    <tr style=\"text-align: right;\">\n",
       "      <th></th>\n",
       "      <th>media</th>\n",
       "    </tr>\n",
       "  </thead>\n",
       "  <tbody>\n",
       "    <tr>\n",
       "      <th>0</th>\n",
       "      <td>35</td>\n",
       "    </tr>\n",
       "  </tbody>\n",
       "</table>\n",
       "</div>"
      ],
      "text/plain": [
       "   media\n",
       "0     35"
      ]
     },
     "execution_count": 20,
     "metadata": {},
     "output_type": "execute_result"
    }
   ],
   "source": [
    "### \n",
    "(df_final.where((F.col(\"fl_dep_delay\") > 0) | (F.col(\"fl_arr_delay\") > 0))\n",
    ".agg(F.ceil(F.avg(F.col('fl_dep_delay') + F.col('fl_arr_delay'))).alias(\"media\")).toPandas()\n",
    "\n",
    ")"
   ]
  },
  {
   "cell_type": "markdown",
   "id": "ff111e07",
   "metadata": {},
   "source": [
    "### 5. Qual é o atraso médio para cada região?"
   ]
  },
  {
   "cell_type": "code",
   "execution_count": 22,
   "id": "4b56e14e",
   "metadata": {},
   "outputs": [
    {
     "name": "stdout",
     "output_type": "stream",
     "text": [
      "+-------------+-----------+\n",
      "|  air2_region|soma_atraso|\n",
      "+-------------+-----------+\n",
      "|       ALASKA|       4.38|\n",
      "|MAINLAND-EAST|      10.08|\n",
      "|MAINLAND-WEST|       8.29|\n",
      "+-------------+-----------+\n",
      "\n"
     ]
    },
    {
     "data": {
      "image/png": "[encoded data removed]",
      "text/plain": [
       "<Figure size 1080x360 with 1 Axes>"
      ]
     },
     "metadata": {
      "needs_background": "light"
     },
     "output_type": "display_data"
    }
   ],
   "source": [
    "df_final.groupBy('air2_region').agg(F.round(F.avg(F.col('fl_dep_delay') + F.col('fl_arr_delay')),2).alias('soma_atraso')).show()\n",
    "\n",
    "\n",
    "## plot\n",
    "df_plot1 = (df_final.groupBy('air2_region')\n",
    "                    .agg(F.round(F.avg(F.col('fl_dep_delay') + F.col('fl_arr_delay')),2)\n",
    "                    .alias('soma_atraso')))\n",
    "\n",
    "x = df_plot1.toPandas()['air2_region'].values.tolist()\n",
    "y = df_plot1.toPandas()['soma_atraso'].values.tolist()\n",
    "\n",
    "\n",
    "plt.figure(figsize=(15,5))\n",
    "plt.bar(x,y)\n",
    "plt.title('Atraso médio para cada região')\n",
    "plt.show()\n"
   ]
  },
  {
   "cell_type": "markdown",
   "id": "153d68ef",
   "metadata": {},
   "source": [
    "### 6. Qual é o atraso acumulado por ano?"
   ]
  },
  {
   "cell_type": "code",
   "execution_count": 23,
   "id": "0410f06b",
   "metadata": {},
   "outputs": [
    {
     "data": {
      "text/html": [
       "<div>\n",
       "<style scoped>\n",
       "    .dataframe tbody tr th:only-of-type {\n",
       "        vertical-align: middle;\n",
       "    }\n",
       "\n",
       "    .dataframe tbody tr th {\n",
       "        vertical-align: top;\n",
       "    }\n",
       "\n",
       "    .dataframe thead th {\n",
       "        text-align: right;\n",
       "    }\n",
       "</style>\n",
       "<table border=\"1\" class=\"dataframe\">\n",
       "  <thead>\n",
       "    <tr style=\"text-align: right;\">\n",
       "      <th></th>\n",
       "      <th>soma_atraso</th>\n",
       "    </tr>\n",
       "  </thead>\n",
       "  <tbody>\n",
       "    <tr>\n",
       "      <th>0</th>\n",
       "      <td>82757</td>\n",
       "    </tr>\n",
       "  </tbody>\n",
       "</table>\n",
       "</div>"
      ],
      "text/plain": [
       "   soma_atraso\n",
       "0        82757"
      ]
     },
     "execution_count": 23,
     "metadata": {},
     "output_type": "execute_result"
    }
   ],
   "source": [
    "df_final.agg(F.sum(F.col('fl_dep_delay') + F.col('fl_arr_delay')).alias('soma_atraso')).toPandas()"
   ]
  },
  {
   "cell_type": "code",
   "execution_count": 24,
   "id": "84bc04ee",
   "metadata": {},
   "outputs": [
    {
     "data": {
      "text/html": [
       "<div>\n",
       "<style scoped>\n",
       "    .dataframe tbody tr th:only-of-type {\n",
       "        vertical-align: middle;\n",
       "    }\n",
       "\n",
       "    .dataframe tbody tr th {\n",
       "        vertical-align: top;\n",
       "    }\n",
       "\n",
       "    .dataframe thead th {\n",
       "        text-align: right;\n",
       "    }\n",
       "</style>\n",
       "<table border=\"1\" class=\"dataframe\">\n",
       "  <thead>\n",
       "    <tr style=\"text-align: right;\">\n",
       "      <th></th>\n",
       "      <th>ano</th>\n",
       "      <th>acumulado_ano</th>\n",
       "    </tr>\n",
       "  </thead>\n",
       "  <tbody>\n",
       "    <tr>\n",
       "      <th>0</th>\n",
       "      <td>2014</td>\n",
       "      <td>60395</td>\n",
       "    </tr>\n",
       "  </tbody>\n",
       "</table>\n",
       "</div>"
      ],
      "text/plain": [
       "    ano  acumulado_ano\n",
       "0  2014          60395"
      ]
     },
     "execution_count": 24,
     "metadata": {},
     "output_type": "execute_result"
    }
   ],
   "source": [
    "(df_final.select(F.year(\"fl_dep_datetime\").alias('ano'),\"fl_dep_delay\",'fl_arr_delay')\n",
    ".groupBy(\"ano\")\n",
    ".agg(F.sum('fl_dep_delay').alias('acumulado_ano'))\n",
    ".toPandas()\n",
    ")"
   ]
  },
  {
   "cell_type": "code",
   "execution_count": null,
   "id": "ad0bd15b",
   "metadata": {},
   "outputs": [],
   "source": [
    "F.mean(F.col('fl_dep_delay') + F.col('fl_arr_delay')"
   ]
  },
  {
   "cell_type": "code",
   "execution_count": 25,
   "id": "57e545cc",
   "metadata": {},
   "outputs": [
    {
     "data": {
      "text/html": [
       "<div>\n",
       "<style scoped>\n",
       "    .dataframe tbody tr th:only-of-type {\n",
       "        vertical-align: middle;\n",
       "    }\n",
       "\n",
       "    .dataframe tbody tr th {\n",
       "        vertical-align: top;\n",
       "    }\n",
       "\n",
       "    .dataframe thead th {\n",
       "        text-align: right;\n",
       "    }\n",
       "</style>\n",
       "<table border=\"1\" class=\"dataframe\">\n",
       "  <thead>\n",
       "    <tr style=\"text-align: right;\">\n",
       "      <th></th>\n",
       "      <th>ano</th>\n",
       "      <th>acumulado_ano_soma</th>\n",
       "    </tr>\n",
       "  </thead>\n",
       "  <tbody>\n",
       "    <tr>\n",
       "      <th>0</th>\n",
       "      <td>2014</td>\n",
       "      <td>82757</td>\n",
       "    </tr>\n",
       "  </tbody>\n",
       "</table>\n",
       "</div>"
      ],
      "text/plain": [
       "    ano  acumulado_ano_soma\n",
       "0  2014               82757"
      ]
     },
     "execution_count": 25,
     "metadata": {},
     "output_type": "execute_result"
    }
   ],
   "source": [
    "(df_final.select(F.year(\"fl_dep_datetime\").alias('ano'),\"fl_dep_delay\",'fl_arr_delay')\n",
    ".groupBy(\"ano\")\n",
    ".agg(F.sum(F.col('fl_dep_delay') + F.col('fl_arr_delay')).alias('acumulado_ano_soma'))\n",
    ".toPandas()\n",
    ")"
   ]
  },
  {
   "cell_type": "markdown",
   "id": "7f706011",
   "metadata": {},
   "source": [
    "### 7. Qual é o atraso acumulado por ano para cada região?"
   ]
  },
  {
   "cell_type": "code",
   "execution_count": 26,
   "id": "7c6a386f",
   "metadata": {},
   "outputs": [
    {
     "data": {
      "text/html": [
       "<div>\n",
       "<style scoped>\n",
       "    .dataframe tbody tr th:only-of-type {\n",
       "        vertical-align: middle;\n",
       "    }\n",
       "\n",
       "    .dataframe tbody tr th {\n",
       "        vertical-align: top;\n",
       "    }\n",
       "\n",
       "    .dataframe thead th {\n",
       "        text-align: right;\n",
       "    }\n",
       "</style>\n",
       "<table border=\"1\" class=\"dataframe\">\n",
       "  <thead>\n",
       "    <tr style=\"text-align: right;\">\n",
       "      <th></th>\n",
       "      <th>ano</th>\n",
       "      <th>air2_region</th>\n",
       "      <th>atraso_acumulado_ano_somando</th>\n",
       "    </tr>\n",
       "  </thead>\n",
       "  <tbody>\n",
       "    <tr>\n",
       "      <th>0</th>\n",
       "      <td>2014</td>\n",
       "      <td>ALASKA</td>\n",
       "      <td>4435</td>\n",
       "    </tr>\n",
       "    <tr>\n",
       "      <th>1</th>\n",
       "      <td>2014</td>\n",
       "      <td>MAINLAND-EAST</td>\n",
       "      <td>21618</td>\n",
       "    </tr>\n",
       "    <tr>\n",
       "      <th>2</th>\n",
       "      <td>2014</td>\n",
       "      <td>MAINLAND-WEST</td>\n",
       "      <td>56704</td>\n",
       "    </tr>\n",
       "  </tbody>\n",
       "</table>\n",
       "</div>"
      ],
      "text/plain": [
       "    ano    air2_region  atraso_acumulado_ano_somando\n",
       "0  2014         ALASKA                          4435\n",
       "1  2014  MAINLAND-EAST                         21618\n",
       "2  2014  MAINLAND-WEST                         56704"
      ]
     },
     "execution_count": 26,
     "metadata": {},
     "output_type": "execute_result"
    }
   ],
   "source": [
    "(df_final.select(F.year(\"fl_dep_datetime\").alias('ano'),\"fl_dep_delay\",'fl_arr_delay','air2_region')\n",
    ".groupBy(\"ano\",'air2_region')\n",
    ".agg(F.sum(F.col('fl_dep_delay') + F.col('fl_arr_delay')).alias('atraso_acumulado_ano_somando'))\n",
    ".toPandas()\n",
    ")"
   ]
  },
  {
   "cell_type": "code",
   "execution_count": 27,
   "id": "4704bf2a",
   "metadata": {},
   "outputs": [
    {
     "data": {
      "text/html": [
       "<div>\n",
       "<style scoped>\n",
       "    .dataframe tbody tr th:only-of-type {\n",
       "        vertical-align: middle;\n",
       "    }\n",
       "\n",
       "    .dataframe tbody tr th {\n",
       "        vertical-align: top;\n",
       "    }\n",
       "\n",
       "    .dataframe thead th {\n",
       "        text-align: right;\n",
       "    }\n",
       "</style>\n",
       "<table border=\"1\" class=\"dataframe\">\n",
       "  <thead>\n",
       "    <tr style=\"text-align: right;\">\n",
       "      <th></th>\n",
       "      <th>ano</th>\n",
       "      <th>air2_region</th>\n",
       "      <th>atraso_acumulado_ano_sem_somar</th>\n",
       "    </tr>\n",
       "  </thead>\n",
       "  <tbody>\n",
       "    <tr>\n",
       "      <th>0</th>\n",
       "      <td>2014</td>\n",
       "      <td>ALASKA</td>\n",
       "      <td>4891</td>\n",
       "    </tr>\n",
       "    <tr>\n",
       "      <th>1</th>\n",
       "      <td>2014</td>\n",
       "      <td>MAINLAND-EAST</td>\n",
       "      <td>16679</td>\n",
       "    </tr>\n",
       "    <tr>\n",
       "      <th>2</th>\n",
       "      <td>2014</td>\n",
       "      <td>MAINLAND-WEST</td>\n",
       "      <td>38825</td>\n",
       "    </tr>\n",
       "  </tbody>\n",
       "</table>\n",
       "</div>"
      ],
      "text/plain": [
       "    ano    air2_region  atraso_acumulado_ano_sem_somar\n",
       "0  2014         ALASKA                            4891\n",
       "1  2014  MAINLAND-EAST                           16679\n",
       "2  2014  MAINLAND-WEST                           38825"
      ]
     },
     "execution_count": 27,
     "metadata": {},
     "output_type": "execute_result"
    }
   ],
   "source": [
    "(df_final.select(F.year(\"fl_dep_datetime\").alias('ano'),\"fl_dep_delay\",'air2_region')\n",
    ".groupBy(\"ano\",'air2_region')\n",
    ".agg(F.sum(F.col('fl_dep_delay')).alias('atraso_acumulado_ano_sem_somar'))\n",
    ".toPandas()\n",
    ")"
   ]
  },
  {
   "cell_type": "markdown",
   "id": "4c2fffdc",
   "metadata": {},
   "source": [
    "### 8. Qual é o tempo de voo médio?"
   ]
  },
  {
   "cell_type": "code",
   "execution_count": null,
   "id": "0b7a5241",
   "metadata": {},
   "outputs": [],
   "source": [
    "df_final.agg(F.round(F.mean(F.col('fl_air_time')),2).alias('VOO_MEDIO')).toPandas()"
   ]
  },
  {
   "cell_type": "code",
   "execution_count": 28,
   "id": "a6ce180b",
   "metadata": {
    "scrolled": false
   },
   "outputs": [
    {
     "data": {
      "text/html": [
       "<div>\n",
       "<style scoped>\n",
       "    .dataframe tbody tr th:only-of-type {\n",
       "        vertical-align: middle;\n",
       "    }\n",
       "\n",
       "    .dataframe tbody tr th {\n",
       "        vertical-align: top;\n",
       "    }\n",
       "\n",
       "    .dataframe thead th {\n",
       "        text-align: right;\n",
       "    }\n",
       "</style>\n",
       "<table border=\"1\" class=\"dataframe\">\n",
       "  <thead>\n",
       "    <tr style=\"text-align: right;\">\n",
       "      <th></th>\n",
       "      <th>voo_medio</th>\n",
       "    </tr>\n",
       "  </thead>\n",
       "  <tbody>\n",
       "    <tr>\n",
       "      <th>0</th>\n",
       "      <td>152.87</td>\n",
       "    </tr>\n",
       "  </tbody>\n",
       "</table>\n",
       "</div>"
      ],
      "text/plain": [
       "   voo_medio\n",
       "0     152.87"
      ]
     },
     "execution_count": 28,
     "metadata": {},
     "output_type": "execute_result"
    }
   ],
   "source": [
    "(df_final.select(F.col(\"fl_air_time\"))\n",
    ".agg(F.round(F.mean(F.col('fl_air_time')),2).alias('voo_medio'))\n",
    ".toPandas()\n",
    ")"
   ]
  },
  {
   "cell_type": "markdown",
   "id": "d241a817",
   "metadata": {},
   "source": [
    "### 9. Qual é o tempo de voo médio para cada região?"
   ]
  },
  {
   "cell_type": "code",
   "execution_count": 29,
   "id": "7c25da58",
   "metadata": {},
   "outputs": [
    {
     "data": {
      "text/html": [
       "<div>\n",
       "<style scoped>\n",
       "    .dataframe tbody tr th:only-of-type {\n",
       "        vertical-align: middle;\n",
       "    }\n",
       "\n",
       "    .dataframe tbody tr th {\n",
       "        vertical-align: top;\n",
       "    }\n",
       "\n",
       "    .dataframe thead th {\n",
       "        text-align: right;\n",
       "    }\n",
       "</style>\n",
       "<table border=\"1\" class=\"dataframe\">\n",
       "  <thead>\n",
       "    <tr style=\"text-align: right;\">\n",
       "      <th></th>\n",
       "      <th>air2_region</th>\n",
       "      <th>voo_medio</th>\n",
       "    </tr>\n",
       "  </thead>\n",
       "  <tbody>\n",
       "    <tr>\n",
       "      <th>0</th>\n",
       "      <td>MAINLAND-WEST</td>\n",
       "      <td>115.39</td>\n",
       "    </tr>\n",
       "    <tr>\n",
       "      <th>1</th>\n",
       "      <td>ALASKA</td>\n",
       "      <td>227.87</td>\n",
       "    </tr>\n",
       "    <tr>\n",
       "      <th>2</th>\n",
       "      <td>MAINLAND-EAST</td>\n",
       "      <td>237.10</td>\n",
       "    </tr>\n",
       "  </tbody>\n",
       "</table>\n",
       "</div>"
      ],
      "text/plain": [
       "     air2_region  voo_medio\n",
       "0  MAINLAND-WEST     115.39\n",
       "1         ALASKA     227.87\n",
       "2  MAINLAND-EAST     237.10"
      ]
     },
     "execution_count": 29,
     "metadata": {},
     "output_type": "execute_result"
    }
   ],
   "source": [
    "(df_final.select(F.col(\"fl_air_time\"),F.col(\"air2_region\")) ## air2_region -- destino\n",
    ".groupBy(\"air2_region\")\n",
    ".agg(F.round(F.mean(F.col('fl_air_time')),2).alias('voo_medio'))\n",
    ".orderBy('voo_medio')\n",
    ".toPandas()\n",
    ")\n",
    "\n"
   ]
  },
  {
   "cell_type": "code",
   "execution_count": 30,
   "id": "79f70e32",
   "metadata": {},
   "outputs": [
    {
     "data": {
      "image/png": "[encoded data removed]",
      "text/plain": [
       "<Figure size 1080x360 with 1 Axes>"
      ]
     },
     "metadata": {
      "needs_background": "light"
     },
     "output_type": "display_data"
    }
   ],
   "source": [
    "### definindo variavel  \n",
    "df_plot2 = (df_final.select(F.col(\"fl_air_time\"),F.col(\"air2_region\"))\n",
    "                .groupBy(\"air2_region\")\n",
    "                .agg(F.round(F.mean(F.col('fl_air_time')),2).alias('voo_medio'))\n",
    "                .orderBy('voo_medio')\n",
    "           )\n",
    "\n",
    "### plotando \n",
    "x = df_plot2.toPandas()['air2_region'].values.tolist()\n",
    "y = df_plot2.toPandas()['voo_medio'].values.tolist()\n",
    "\n",
    "\n",
    "plt.figure(figsize=(15,5))\n",
    "plt.bar(x,y)\n",
    "plt.title('Tempo voo médio P cada regiao')\n",
    "plt.show()\n"
   ]
  },
  {
   "cell_type": "markdown",
   "id": "30f8bb4c",
   "metadata": {},
   "source": [
    "### 10. Qual é o tempo de voo médio para cada rota (origem e destino)?"
   ]
  },
  {
   "cell_type": "code",
   "execution_count": 31,
   "id": "4851678c",
   "metadata": {},
   "outputs": [
    {
     "data": {
      "text/html": [
       "<div>\n",
       "<style scoped>\n",
       "    .dataframe tbody tr th:only-of-type {\n",
       "        vertical-align: middle;\n",
       "    }\n",
       "\n",
       "    .dataframe tbody tr th {\n",
       "        vertical-align: top;\n",
       "    }\n",
       "\n",
       "    .dataframe thead th {\n",
       "        text-align: right;\n",
       "    }\n",
       "</style>\n",
       "<table border=\"1\" class=\"dataframe\">\n",
       "  <thead>\n",
       "    <tr style=\"text-align: right;\">\n",
       "      <th></th>\n",
       "      <th>fl_origin</th>\n",
       "      <th>fl_dest</th>\n",
       "      <th>voo_medio</th>\n",
       "    </tr>\n",
       "  </thead>\n",
       "  <tbody>\n",
       "    <tr>\n",
       "      <th>0</th>\n",
       "      <td>SEA</td>\n",
       "      <td>RNO</td>\n",
       "      <td>74.38</td>\n",
       "    </tr>\n",
       "    <tr>\n",
       "      <th>1</th>\n",
       "      <td>SEA</td>\n",
       "      <td>DTW</td>\n",
       "      <td>219.82</td>\n",
       "    </tr>\n",
       "    <tr>\n",
       "      <th>2</th>\n",
       "      <td>SEA</td>\n",
       "      <td>CLE</td>\n",
       "      <td>233.50</td>\n",
       "    </tr>\n",
       "    <tr>\n",
       "      <th>3</th>\n",
       "      <td>SEA</td>\n",
       "      <td>LAX</td>\n",
       "      <td>126.86</td>\n",
       "    </tr>\n",
       "    <tr>\n",
       "      <th>4</th>\n",
       "      <td>PDX</td>\n",
       "      <td>SEA</td>\n",
       "      <td>34.93</td>\n",
       "    </tr>\n",
       "    <tr>\n",
       "      <th>...</th>\n",
       "      <td>...</td>\n",
       "      <td>...</td>\n",
       "      <td>...</td>\n",
       "    </tr>\n",
       "    <tr>\n",
       "      <th>108</th>\n",
       "      <td>SEA</td>\n",
       "      <td>JFK</td>\n",
       "      <td>281.54</td>\n",
       "    </tr>\n",
       "    <tr>\n",
       "      <th>109</th>\n",
       "      <td>SEA</td>\n",
       "      <td>FAI</td>\n",
       "      <td>198.13</td>\n",
       "    </tr>\n",
       "    <tr>\n",
       "      <th>110</th>\n",
       "      <td>PDX</td>\n",
       "      <td>HOU</td>\n",
       "      <td>226.33</td>\n",
       "    </tr>\n",
       "    <tr>\n",
       "      <th>111</th>\n",
       "      <td>PDX</td>\n",
       "      <td>BUR</td>\n",
       "      <td>108.51</td>\n",
       "    </tr>\n",
       "    <tr>\n",
       "      <th>112</th>\n",
       "      <td>SEA</td>\n",
       "      <td>MCO</td>\n",
       "      <td>298.65</td>\n",
       "    </tr>\n",
       "  </tbody>\n",
       "</table>\n",
       "<p>113 rows × 3 columns</p>\n",
       "</div>"
      ],
      "text/plain": [
       "    fl_origin fl_dest  voo_medio\n",
       "0         SEA     RNO      74.38\n",
       "1         SEA     DTW     219.82\n",
       "2         SEA     CLE     233.50\n",
       "3         SEA     LAX     126.86\n",
       "4         PDX     SEA      34.93\n",
       "..        ...     ...        ...\n",
       "108       SEA     JFK     281.54\n",
       "109       SEA     FAI     198.13\n",
       "110       PDX     HOU     226.33\n",
       "111       PDX     BUR     108.51\n",
       "112       SEA     MCO     298.65\n",
       "\n",
       "[113 rows x 3 columns]"
      ]
     },
     "execution_count": 31,
     "metadata": {},
     "output_type": "execute_result"
    }
   ],
   "source": [
    "(\n",
    "df_final.select(F.col('fl_origin'),F.col('fl_dest'),F.col('fl_air_time'))\n",
    "        .groupBy('fl_origin','fl_dest')\n",
    "        .agg(F.round(F.mean(F.col('fl_air_time')),2).alias('voo_medio'))\n",
    "        .toPandas()\n",
    "\n",
    ")"
   ]
  },
  {
   "cell_type": "markdown",
   "id": "cdc0ea36",
   "metadata": {},
   "source": [
    "### 11. Qual é o tempo de voo acumulado por ano?"
   ]
  },
  {
   "cell_type": "code",
   "execution_count": 33,
   "id": "1d476d4d",
   "metadata": {},
   "outputs": [
    {
     "data": {
      "text/html": [
       "<div>\n",
       "<style scoped>\n",
       "    .dataframe tbody tr th:only-of-type {\n",
       "        vertical-align: middle;\n",
       "    }\n",
       "\n",
       "    .dataframe tbody tr th {\n",
       "        vertical-align: top;\n",
       "    }\n",
       "\n",
       "    .dataframe thead th {\n",
       "        text-align: right;\n",
       "    }\n",
       "</style>\n",
       "<table border=\"1\" class=\"dataframe\">\n",
       "  <thead>\n",
       "    <tr style=\"text-align: right;\">\n",
       "      <th></th>\n",
       "      <th>ano</th>\n",
       "      <th>Acumulado_ano_min</th>\n",
       "    </tr>\n",
       "  </thead>\n",
       "  <tbody>\n",
       "    <tr>\n",
       "      <th>0</th>\n",
       "      <td>2014</td>\n",
       "      <td>1528665.0</td>\n",
       "    </tr>\n",
       "  </tbody>\n",
       "</table>\n",
       "</div>"
      ],
      "text/plain": [
       "    ano  Acumulado_ano_min\n",
       "0  2014          1528665.0"
      ]
     },
     "execution_count": 33,
     "metadata": {},
     "output_type": "execute_result"
    }
   ],
   "source": [
    "(df_final.select(F.year(\"fl_dep_datetime\").alias('ano'),\"fl_air_time\")\n",
    ".groupBy(\"ano\")\n",
    ".agg(F.sum('fl_air_time').alias('Acumulado_ano_min'))\n",
    ".toPandas()\n",
    ")"
   ]
  },
  {
   "cell_type": "markdown",
   "id": "5605debd",
   "metadata": {},
   "source": [
    "### 12. Qual é o tempo de voo acumulado para cada região?"
   ]
  },
  {
   "cell_type": "code",
   "execution_count": 34,
   "id": "0c371760",
   "metadata": {},
   "outputs": [
    {
     "data": {
      "image/png": "[encoded data removed]",
      "text/plain": [
       "<Figure size 1080x360 with 1 Axes>"
      ]
     },
     "metadata": {
      "needs_background": "light"
     },
     "output_type": "display_data"
    },
    {
     "data": {
      "text/html": [
       "<div>\n",
       "<style scoped>\n",
       "    .dataframe tbody tr th:only-of-type {\n",
       "        vertical-align: middle;\n",
       "    }\n",
       "\n",
       "    .dataframe tbody tr th {\n",
       "        vertical-align: top;\n",
       "    }\n",
       "\n",
       "    .dataframe thead th {\n",
       "        text-align: right;\n",
       "    }\n",
       "</style>\n",
       "<table border=\"1\" class=\"dataframe\">\n",
       "  <thead>\n",
       "    <tr style=\"text-align: right;\">\n",
       "      <th></th>\n",
       "      <th>air2_region</th>\n",
       "      <th>voo_acumulado</th>\n",
       "    </tr>\n",
       "  </thead>\n",
       "  <tbody>\n",
       "    <tr>\n",
       "      <th>0</th>\n",
       "      <td>ALASKA</td>\n",
       "      <td>230607.0</td>\n",
       "    </tr>\n",
       "    <tr>\n",
       "      <th>1</th>\n",
       "      <td>MAINLAND-EAST</td>\n",
       "      <td>508353.0</td>\n",
       "    </tr>\n",
       "    <tr>\n",
       "      <th>2</th>\n",
       "      <td>MAINLAND-WEST</td>\n",
       "      <td>789705.0</td>\n",
       "    </tr>\n",
       "  </tbody>\n",
       "</table>\n",
       "</div>"
      ],
      "text/plain": [
       "     air2_region  voo_acumulado\n",
       "0         ALASKA       230607.0\n",
       "1  MAINLAND-EAST       508353.0\n",
       "2  MAINLAND-WEST       789705.0"
      ]
     },
     "execution_count": 34,
     "metadata": {},
     "output_type": "execute_result"
    }
   ],
   "source": [
    "### definindo variavel  \n",
    "df_plot3 = (df_final.select(F.col(\"fl_air_time\"),F.col(\"air2_region\"))\n",
    ".groupBy(\"air2_region\")\n",
    ".agg(F.round(F.sum(F.col('fl_air_time')),2).alias('voo_acumulado'))\n",
    ".orderBy('voo_acumulado')\n",
    ")\n",
    "\n",
    "\n",
    "### plotando \n",
    "x = df_plot3.toPandas()['air2_region'].values.tolist()\n",
    "y = df_plot3.toPandas()['voo_acumulado'].values.tolist()\n",
    "\n",
    "\n",
    "plt.figure(figsize=(15,5))\n",
    "plt.bar(x,y)\n",
    "plt.title('voo_acumulado por regiao')\n",
    "plt.show()\n",
    "\n",
    "\n",
    "### resultado em forma de tabela\n",
    "(df_final.select(F.col(\"fl_air_time\"),F.col(\"air2_region\"))\n",
    ".groupBy(\"air2_region\")\n",
    ".agg(F.round(F.sum(F.col('fl_air_time')),2).alias('voo_acumulado'))\n",
    ".orderBy('voo_acumulado')\n",
    ".toPandas()\n",
    ")\n"
   ]
  },
  {
   "cell_type": "markdown",
   "id": "e57d9714",
   "metadata": {},
   "source": [
    "### 13. Qual é a distância de voo médio?"
   ]
  },
  {
   "cell_type": "code",
   "execution_count": 36,
   "id": "65a6790f",
   "metadata": {},
   "outputs": [
    {
     "data": {
      "text/html": [
       "<div>\n",
       "<style scoped>\n",
       "    .dataframe tbody tr th:only-of-type {\n",
       "        vertical-align: middle;\n",
       "    }\n",
       "\n",
       "    .dataframe tbody tr th {\n",
       "        vertical-align: top;\n",
       "    }\n",
       "\n",
       "    .dataframe thead th {\n",
       "        text-align: right;\n",
       "    }\n",
       "</style>\n",
       "<table border=\"1\" class=\"dataframe\">\n",
       "  <thead>\n",
       "    <tr style=\"text-align: right;\">\n",
       "      <th></th>\n",
       "      <th>distancia_media</th>\n",
       "    </tr>\n",
       "  </thead>\n",
       "  <tbody>\n",
       "    <tr>\n",
       "      <th>0</th>\n",
       "      <td>1208.15</td>\n",
       "    </tr>\n",
       "  </tbody>\n",
       "</table>\n",
       "</div>"
      ],
      "text/plain": [
       "   distancia_media\n",
       "0          1208.15"
      ]
     },
     "execution_count": 36,
     "metadata": {},
     "output_type": "execute_result"
    }
   ],
   "source": [
    "(df_final.select(F.col(\"fl_distance\"))\n",
    ".agg(F.round(F.mean(F.col('fl_distance')),2).alias('distancia_media'))\n",
    ".toPandas()\n",
    ")"
   ]
  },
  {
   "cell_type": "code",
   "execution_count": null,
   "id": "070d096b",
   "metadata": {},
   "outputs": [],
   "source": []
  },
  {
   "cell_type": "markdown",
   "id": "97926015",
   "metadata": {},
   "source": [
    "### 14. Qual é a distância de voo médio para cada região?"
   ]
  },
  {
   "cell_type": "code",
   "execution_count": 37,
   "id": "2ab3191b",
   "metadata": {},
   "outputs": [
    {
     "data": {
      "text/html": [
       "<div>\n",
       "<style scoped>\n",
       "    .dataframe tbody tr th:only-of-type {\n",
       "        vertical-align: middle;\n",
       "    }\n",
       "\n",
       "    .dataframe tbody tr th {\n",
       "        vertical-align: top;\n",
       "    }\n",
       "\n",
       "    .dataframe thead th {\n",
       "        text-align: right;\n",
       "    }\n",
       "</style>\n",
       "<table border=\"1\" class=\"dataframe\">\n",
       "  <thead>\n",
       "    <tr style=\"text-align: right;\">\n",
       "      <th></th>\n",
       "      <th>air2_region</th>\n",
       "      <th>distancia_media_regiao</th>\n",
       "    </tr>\n",
       "  </thead>\n",
       "  <tbody>\n",
       "    <tr>\n",
       "      <th>0</th>\n",
       "      <td>MAINLAND-WEST</td>\n",
       "      <td>867.92</td>\n",
       "    </tr>\n",
       "    <tr>\n",
       "      <th>1</th>\n",
       "      <td>ALASKA</td>\n",
       "      <td>1741.65</td>\n",
       "    </tr>\n",
       "    <tr>\n",
       "      <th>2</th>\n",
       "      <td>MAINLAND-EAST</td>\n",
       "      <td>2042.40</td>\n",
       "    </tr>\n",
       "  </tbody>\n",
       "</table>\n",
       "</div>"
      ],
      "text/plain": [
       "     air2_region  distancia_media_regiao\n",
       "0  MAINLAND-WEST                  867.92\n",
       "1         ALASKA                 1741.65\n",
       "2  MAINLAND-EAST                 2042.40"
      ]
     },
     "execution_count": 37,
     "metadata": {},
     "output_type": "execute_result"
    }
   ],
   "source": [
    "(df_final.select(F.col(\"fl_distance\"),F.col(\"air2_region\"))\n",
    ".groupBy(\"air2_region\")\n",
    ".agg(F.round(F.mean(F.col('fl_distance')),2).alias('distancia_media_regiao'))\n",
    ".orderBy('distancia_media_regiao')\n",
    ".toPandas()\n",
    ")"
   ]
  },
  {
   "cell_type": "code",
   "execution_count": null,
   "id": "1ac5547a",
   "metadata": {},
   "outputs": [],
   "source": []
  },
  {
   "cell_type": "markdown",
   "id": "5189b49c",
   "metadata": {},
   "source": [
    "### 15. Qual é a distância de voo médio para cada rota (origem e destino)?"
   ]
  },
  {
   "cell_type": "code",
   "execution_count": 38,
   "id": "3ba9c1e1",
   "metadata": {},
   "outputs": [
    {
     "data": {
      "text/html": [
       "<div>\n",
       "<style scoped>\n",
       "    .dataframe tbody tr th:only-of-type {\n",
       "        vertical-align: middle;\n",
       "    }\n",
       "\n",
       "    .dataframe tbody tr th {\n",
       "        vertical-align: top;\n",
       "    }\n",
       "\n",
       "    .dataframe thead th {\n",
       "        text-align: right;\n",
       "    }\n",
       "</style>\n",
       "<table border=\"1\" class=\"dataframe\">\n",
       "  <thead>\n",
       "    <tr style=\"text-align: right;\">\n",
       "      <th></th>\n",
       "      <th>fl_origin</th>\n",
       "      <th>fl_dest</th>\n",
       "      <th>distancia_media</th>\n",
       "    </tr>\n",
       "  </thead>\n",
       "  <tbody>\n",
       "    <tr>\n",
       "      <th>0</th>\n",
       "      <td>SEA</td>\n",
       "      <td>RNO</td>\n",
       "      <td>564.0</td>\n",
       "    </tr>\n",
       "    <tr>\n",
       "      <th>1</th>\n",
       "      <td>SEA</td>\n",
       "      <td>DTW</td>\n",
       "      <td>1927.0</td>\n",
       "    </tr>\n",
       "    <tr>\n",
       "      <th>2</th>\n",
       "      <td>SEA</td>\n",
       "      <td>CLE</td>\n",
       "      <td>2021.0</td>\n",
       "    </tr>\n",
       "    <tr>\n",
       "      <th>3</th>\n",
       "      <td>SEA</td>\n",
       "      <td>LAX</td>\n",
       "      <td>954.0</td>\n",
       "    </tr>\n",
       "    <tr>\n",
       "      <th>4</th>\n",
       "      <td>PDX</td>\n",
       "      <td>SEA</td>\n",
       "      <td>129.0</td>\n",
       "    </tr>\n",
       "    <tr>\n",
       "      <th>...</th>\n",
       "      <td>...</td>\n",
       "      <td>...</td>\n",
       "      <td>...</td>\n",
       "    </tr>\n",
       "    <tr>\n",
       "      <th>108</th>\n",
       "      <td>SEA</td>\n",
       "      <td>JFK</td>\n",
       "      <td>2422.0</td>\n",
       "    </tr>\n",
       "    <tr>\n",
       "      <th>109</th>\n",
       "      <td>SEA</td>\n",
       "      <td>FAI</td>\n",
       "      <td>1533.0</td>\n",
       "    </tr>\n",
       "    <tr>\n",
       "      <th>110</th>\n",
       "      <td>PDX</td>\n",
       "      <td>HOU</td>\n",
       "      <td>1843.0</td>\n",
       "    </tr>\n",
       "    <tr>\n",
       "      <th>111</th>\n",
       "      <td>PDX</td>\n",
       "      <td>BUR</td>\n",
       "      <td>817.0</td>\n",
       "    </tr>\n",
       "    <tr>\n",
       "      <th>112</th>\n",
       "      <td>SEA</td>\n",
       "      <td>MCO</td>\n",
       "      <td>2554.0</td>\n",
       "    </tr>\n",
       "  </tbody>\n",
       "</table>\n",
       "<p>113 rows × 3 columns</p>\n",
       "</div>"
      ],
      "text/plain": [
       "    fl_origin fl_dest  distancia_media\n",
       "0         SEA     RNO            564.0\n",
       "1         SEA     DTW           1927.0\n",
       "2         SEA     CLE           2021.0\n",
       "3         SEA     LAX            954.0\n",
       "4         PDX     SEA            129.0\n",
       "..        ...     ...              ...\n",
       "108       SEA     JFK           2422.0\n",
       "109       SEA     FAI           1533.0\n",
       "110       PDX     HOU           1843.0\n",
       "111       PDX     BUR            817.0\n",
       "112       SEA     MCO           2554.0\n",
       "\n",
       "[113 rows x 3 columns]"
      ]
     },
     "execution_count": 38,
     "metadata": {},
     "output_type": "execute_result"
    }
   ],
   "source": [
    "(\n",
    "df_final.select(F.col('fl_origin'),F.col('fl_dest'),F.col('fl_distance'))\n",
    "        .groupBy('fl_origin','fl_dest')\n",
    "        .agg(F.round(F.mean(F.col('fl_distance'))).alias('distancia_media'))\n",
    "        .toPandas()\n",
    "\n",
    ")"
   ]
  },
  {
   "cell_type": "code",
   "execution_count": null,
   "id": "df69e9a1",
   "metadata": {},
   "outputs": [],
   "source": []
  },
  {
   "cell_type": "code",
   "execution_count": null,
   "id": "2339e136",
   "metadata": {},
   "outputs": [],
   "source": []
  },
  {
   "cell_type": "markdown",
   "id": "448d1723",
   "metadata": {},
   "source": [
    "### 16. Qual é a distância de voo acumulada por ano?"
   ]
  },
  {
   "cell_type": "code",
   "execution_count": 39,
   "id": "7902b777",
   "metadata": {},
   "outputs": [
    {
     "data": {
      "text/html": [
       "<div>\n",
       "<style scoped>\n",
       "    .dataframe tbody tr th:only-of-type {\n",
       "        vertical-align: middle;\n",
       "    }\n",
       "\n",
       "    .dataframe tbody tr th {\n",
       "        vertical-align: top;\n",
       "    }\n",
       "\n",
       "    .dataframe thead th {\n",
       "        text-align: right;\n",
       "    }\n",
       "</style>\n",
       "<table border=\"1\" class=\"dataframe\">\n",
       "  <thead>\n",
       "    <tr style=\"text-align: right;\">\n",
       "      <th></th>\n",
       "      <th>ano</th>\n",
       "      <th>Acumulado_ano_min</th>\n",
       "    </tr>\n",
       "  </thead>\n",
       "  <tbody>\n",
       "    <tr>\n",
       "      <th>0</th>\n",
       "      <td>2014</td>\n",
       "      <td>12081516</td>\n",
       "    </tr>\n",
       "  </tbody>\n",
       "</table>\n",
       "</div>"
      ],
      "text/plain": [
       "    ano  Acumulado_ano_min\n",
       "0  2014           12081516"
      ]
     },
     "execution_count": 39,
     "metadata": {},
     "output_type": "execute_result"
    }
   ],
   "source": [
    "(df_final.select(F.year(\"fl_dep_datetime\").alias('ano'),\"fl_distance\")\n",
    ".groupBy(\"ano\")\n",
    ".agg(F.sum('fl_distance').alias('Acumulado_ano_min'))\n",
    ".toPandas()\n",
    ")"
   ]
  },
  {
   "cell_type": "code",
   "execution_count": null,
   "id": "e4e10f08",
   "metadata": {},
   "outputs": [],
   "source": []
  },
  {
   "cell_type": "code",
   "execution_count": null,
   "id": "20624036",
   "metadata": {},
   "outputs": [],
   "source": []
  },
  {
   "cell_type": "markdown",
   "id": "932c17be",
   "metadata": {},
   "source": [
    "### 17. Qual é a distância de voo acumulada para cada região?"
   ]
  },
  {
   "cell_type": "code",
   "execution_count": 40,
   "id": "4879e5c0",
   "metadata": {},
   "outputs": [
    {
     "data": {
      "text/html": [
       "<div>\n",
       "<style scoped>\n",
       "    .dataframe tbody tr th:only-of-type {\n",
       "        vertical-align: middle;\n",
       "    }\n",
       "\n",
       "    .dataframe tbody tr th {\n",
       "        vertical-align: top;\n",
       "    }\n",
       "\n",
       "    .dataframe thead th {\n",
       "        text-align: right;\n",
       "    }\n",
       "</style>\n",
       "<table border=\"1\" class=\"dataframe\">\n",
       "  <thead>\n",
       "    <tr style=\"text-align: right;\">\n",
       "      <th></th>\n",
       "      <th>air2_region</th>\n",
       "      <th>distancia_acumulada_regiao</th>\n",
       "    </tr>\n",
       "  </thead>\n",
       "  <tbody>\n",
       "    <tr>\n",
       "      <th>0</th>\n",
       "      <td>ALASKA</td>\n",
       "      <td>1762553</td>\n",
       "    </tr>\n",
       "    <tr>\n",
       "      <th>1</th>\n",
       "      <td>MAINLAND-EAST</td>\n",
       "      <td>4378902</td>\n",
       "    </tr>\n",
       "    <tr>\n",
       "      <th>2</th>\n",
       "      <td>MAINLAND-WEST</td>\n",
       "      <td>5940061</td>\n",
       "    </tr>\n",
       "  </tbody>\n",
       "</table>\n",
       "</div>"
      ],
      "text/plain": [
       "     air2_region  distancia_acumulada_regiao\n",
       "0         ALASKA                     1762553\n",
       "1  MAINLAND-EAST                     4378902\n",
       "2  MAINLAND-WEST                     5940061"
      ]
     },
     "execution_count": 40,
     "metadata": {},
     "output_type": "execute_result"
    }
   ],
   "source": [
    "(df_final.select(F.col(\"fl_distance\"),F.col(\"air2_region\"))\n",
    ".groupBy(\"air2_region\")\n",
    ".agg(F.round(F.sum(F.col('fl_distance')),2).alias('distancia_acumulada_regiao'))\n",
    ".orderBy('distancia_acumulada_regiao')\n",
    ".toPandas()\n",
    ")"
   ]
  },
  {
   "cell_type": "markdown",
   "id": "a36846d7",
   "metadata": {},
   "source": [
    "### 18. Qual é o número de passageiros médio por rota (origem e destino)?"
   ]
  },
  {
   "cell_type": "code",
   "execution_count": 41,
   "id": "7d5981d4",
   "metadata": {},
   "outputs": [
    {
     "data": {
      "text/html": [
       "<div>\n",
       "<style scoped>\n",
       "    .dataframe tbody tr th:only-of-type {\n",
       "        vertical-align: middle;\n",
       "    }\n",
       "\n",
       "    .dataframe tbody tr th {\n",
       "        vertical-align: top;\n",
       "    }\n",
       "\n",
       "    .dataframe thead th {\n",
       "        text-align: right;\n",
       "    }\n",
       "</style>\n",
       "<table border=\"1\" class=\"dataframe\">\n",
       "  <thead>\n",
       "    <tr style=\"text-align: right;\">\n",
       "      <th></th>\n",
       "      <th>fl_origin</th>\n",
       "      <th>fl_dest</th>\n",
       "      <th>distancia_media</th>\n",
       "    </tr>\n",
       "  </thead>\n",
       "  <tbody>\n",
       "    <tr>\n",
       "      <th>0</th>\n",
       "      <td>SEA</td>\n",
       "      <td>RNO</td>\n",
       "      <td>141.13</td>\n",
       "    </tr>\n",
       "    <tr>\n",
       "      <th>1</th>\n",
       "      <td>SEA</td>\n",
       "      <td>DTW</td>\n",
       "      <td>212.43</td>\n",
       "    </tr>\n",
       "    <tr>\n",
       "      <th>2</th>\n",
       "      <td>SEA</td>\n",
       "      <td>CLE</td>\n",
       "      <td>182.00</td>\n",
       "    </tr>\n",
       "    <tr>\n",
       "      <th>3</th>\n",
       "      <td>SEA</td>\n",
       "      <td>LAX</td>\n",
       "      <td>154.71</td>\n",
       "    </tr>\n",
       "    <tr>\n",
       "      <th>4</th>\n",
       "      <td>PDX</td>\n",
       "      <td>SEA</td>\n",
       "      <td>64.28</td>\n",
       "    </tr>\n",
       "    <tr>\n",
       "      <th>...</th>\n",
       "      <td>...</td>\n",
       "      <td>...</td>\n",
       "      <td>...</td>\n",
       "    </tr>\n",
       "    <tr>\n",
       "      <th>108</th>\n",
       "      <td>SEA</td>\n",
       "      <td>JFK</td>\n",
       "      <td>182.60</td>\n",
       "    </tr>\n",
       "    <tr>\n",
       "      <th>109</th>\n",
       "      <td>SEA</td>\n",
       "      <td>FAI</td>\n",
       "      <td>179.90</td>\n",
       "    </tr>\n",
       "    <tr>\n",
       "      <th>110</th>\n",
       "      <td>PDX</td>\n",
       "      <td>HOU</td>\n",
       "      <td>141.50</td>\n",
       "    </tr>\n",
       "    <tr>\n",
       "      <th>111</th>\n",
       "      <td>PDX</td>\n",
       "      <td>BUR</td>\n",
       "      <td>79.65</td>\n",
       "    </tr>\n",
       "    <tr>\n",
       "      <th>112</th>\n",
       "      <td>SEA</td>\n",
       "      <td>MCO</td>\n",
       "      <td>165.48</td>\n",
       "    </tr>\n",
       "  </tbody>\n",
       "</table>\n",
       "<p>113 rows × 3 columns</p>\n",
       "</div>"
      ],
      "text/plain": [
       "    fl_origin fl_dest  distancia_media\n",
       "0         SEA     RNO           141.13\n",
       "1         SEA     DTW           212.43\n",
       "2         SEA     CLE           182.00\n",
       "3         SEA     LAX           154.71\n",
       "4         PDX     SEA            64.28\n",
       "..        ...     ...              ...\n",
       "108       SEA     JFK           182.60\n",
       "109       SEA     FAI           179.90\n",
       "110       PDX     HOU           141.50\n",
       "111       PDX     BUR            79.65\n",
       "112       SEA     MCO           165.48\n",
       "\n",
       "[113 rows x 3 columns]"
      ]
     },
     "execution_count": 41,
     "metadata": {},
     "output_type": "execute_result"
    }
   ],
   "source": [
    "(\n",
    "df_final.select(F.col('fl_origin'),F.col('fl_dest'),F.col('pl_seats'))\n",
    "        .where(F.col('pl_seats') >  0)\n",
    "        .groupBy('fl_origin','fl_dest')\n",
    "        .agg(F.round(F.mean(F.col('pl_seats')),2).alias('distancia_media'))\n",
    "        .toPandas()\n",
    "\n",
    ")"
   ]
  },
  {
   "cell_type": "code",
   "execution_count": null,
   "id": "9f495bfd",
   "metadata": {},
   "outputs": [],
   "source": []
  },
  {
   "cell_type": "markdown",
   "id": "04c33fb7",
   "metadata": {},
   "source": [
    "### 19. Qual é o número de passageiros acumulado por ano?"
   ]
  },
  {
   "cell_type": "code",
   "execution_count": 43,
   "id": "637a847e",
   "metadata": {},
   "outputs": [
    {
     "data": {
      "text/html": [
       "<div>\n",
       "<style scoped>\n",
       "    .dataframe tbody tr th:only-of-type {\n",
       "        vertical-align: middle;\n",
       "    }\n",
       "\n",
       "    .dataframe tbody tr th {\n",
       "        vertical-align: top;\n",
       "    }\n",
       "\n",
       "    .dataframe thead th {\n",
       "        text-align: right;\n",
       "    }\n",
       "</style>\n",
       "<table border=\"1\" class=\"dataframe\">\n",
       "  <thead>\n",
       "    <tr style=\"text-align: right;\">\n",
       "      <th></th>\n",
       "      <th>ano</th>\n",
       "      <th>passageiros_ano_min</th>\n",
       "    </tr>\n",
       "  </thead>\n",
       "  <tbody>\n",
       "    <tr>\n",
       "      <th>0</th>\n",
       "      <td>2014</td>\n",
       "      <td>1509544</td>\n",
       "    </tr>\n",
       "  </tbody>\n",
       "</table>\n",
       "</div>"
      ],
      "text/plain": [
       "    ano  passageiros_ano_min\n",
       "0  2014              1509544"
      ]
     },
     "execution_count": 43,
     "metadata": {},
     "output_type": "execute_result"
    }
   ],
   "source": [
    "(df_final.select(F.year(\"fl_dep_datetime\").alias('ano'),\"pl_seats\")\n",
    ".groupBy(\"ano\")\n",
    ".agg(F.sum('pl_seats').alias('passageiros_ano_min'))\n",
    ".toPandas()\n",
    ")"
   ]
  },
  {
   "cell_type": "code",
   "execution_count": null,
   "id": "2a81c22d",
   "metadata": {},
   "outputs": [],
   "source": []
  },
  {
   "cell_type": "code",
   "execution_count": null,
   "id": "dac252dd",
   "metadata": {},
   "outputs": [],
   "source": []
  },
  {
   "cell_type": "markdown",
   "id": "9341d1da",
   "metadata": {},
   "source": [
    "### 20. Qual é o destino mais popular?"
   ]
  },
  {
   "cell_type": "code",
   "execution_count": 44,
   "id": "33ee10c2",
   "metadata": {},
   "outputs": [
    {
     "name": "stdout",
     "output_type": "stream",
     "text": [
      "+-------+-------+\n",
      "|fl_dest|destino|\n",
      "+-------+-------+\n",
      "|    SFO|    787|\n",
      "+-------+-------+\n",
      "only showing top 1 row\n",
      "\n"
     ]
    }
   ],
   "source": [
    "(\n",
    "df_final.select(F.col('fl_dest'))\n",
    "        .groupBy('fl_dest')\n",
    "        .agg(F.round(F.count(F.col('fl_dest')),2).alias('destino'))\n",
    "        .orderBy('destino',ascending=False)\n",
    "        .show(1)\n",
    "\n",
    ")"
   ]
  },
  {
   "cell_type": "code",
   "execution_count": 46,
   "id": "d9258a26",
   "metadata": {},
   "outputs": [],
   "source": [
    "df_final.createOrReplaceTempView('df_final')"
   ]
  },
  {
   "cell_type": "code",
   "execution_count": 47,
   "id": "3d174e21",
   "metadata": {},
   "outputs": [
    {
     "name": "stdout",
     "output_type": "stream",
     "text": [
      "+--------+-------+\n",
      "|count(1)|fl_dest|\n",
      "+--------+-------+\n",
      "|     787|    SFO|\n",
      "+--------+-------+\n",
      "only showing top 1 row\n",
      "\n"
     ]
    }
   ],
   "source": [
    "# Usando SQL\n",
    "\n",
    "spark.getOrCreate().sql(f\"\"\"\n",
    "SELECT \n",
    "    count(*),fl_dest\n",
    "FROM df_final\n",
    "GROUP BY fl_dest\n",
    "order by 1 desc \n",
    "\"\"\").show(1)\n",
    "\n"
   ]
  },
  {
   "cell_type": "markdown",
   "id": "53f647cc",
   "metadata": {},
   "source": [
    "### 21. Qual é o destino recebe mais passageiros?"
   ]
  },
  {
   "cell_type": "code",
   "execution_count": 48,
   "id": "2838f163",
   "metadata": {},
   "outputs": [
    {
     "name": "stdout",
     "output_type": "stream",
     "text": [
      "+-------+----------------+\n",
      "|fl_dest|dest_passageiros|\n",
      "+-------+----------------+\n",
      "|    SFO|          119635|\n",
      "+-------+----------------+\n",
      "only showing top 1 row\n",
      "\n"
     ]
    }
   ],
   "source": [
    "(\n",
    "df_final.select(F.col('fl_dest'),F.col('pl_seats'))\n",
    "        .groupBy('fl_dest')\n",
    "        .agg(F.round(F.sum(F.col('pl_seats')),2).alias('dest_passageiros'))\n",
    "        .orderBy('dest_passageiros',ascending=False)\n",
    "        .show(1)\n",
    "\n",
    ")"
   ]
  },
  {
   "cell_type": "code",
   "execution_count": null,
   "id": "a3297ecf",
   "metadata": {},
   "outputs": [],
   "source": []
  },
  {
   "cell_type": "code",
   "execution_count": null,
   "id": "0b25b966",
   "metadata": {},
   "outputs": [],
   "source": []
  },
  {
   "cell_type": "markdown",
   "id": "b9e7589a",
   "metadata": {},
   "source": [
    "### 22. Qual é o destino mais distante de PDX ?"
   ]
  },
  {
   "cell_type": "code",
   "execution_count": 137,
   "id": "a0a3636a",
   "metadata": {
    "scrolled": true
   },
   "outputs": [
    {
     "name": "stdout",
     "output_type": "stream",
     "text": [
      "+-------+---------+\n",
      "|fl_dest|distância|\n",
      "+-------+---------+\n",
      "|    LIH|     2631|\n",
      "+-------+---------+\n",
      "only showing top 1 row\n",
      "\n"
     ]
    }
   ],
   "source": [
    "(\n",
    "df_final.select(F.col('fl_dest'),F.col('fl_distance'))\n",
    "        .where(F.col('fl_origin')=='PDX')\n",
    "        .groupBy(F.col('fl_dest'))\n",
    "        .agg(F.max('fl_distance').alias('distância'))\n",
    "        .orderBy('distância',ascending=False)\n",
    "        .show(1)\n",
    "\n",
    ")"
   ]
  },
  {
   "cell_type": "markdown",
   "id": "ce370e99",
   "metadata": {},
   "source": [
    "### 23. Qual é o destino tem mais voos por mes?"
   ]
  },
  {
   "cell_type": "code",
   "execution_count": 133,
   "id": "f4067613",
   "metadata": {},
   "outputs": [
    {
     "name": "stdout",
     "output_type": "stream",
     "text": [
      "+---+-------+------------+\n",
      "|mes|fl_dest|dest_voo_mes|\n",
      "+---+-------+------------+\n",
      "|  5|    LAX|          77|\n",
      "+---+-------+------------+\n",
      "only showing top 1 row\n",
      "\n"
     ]
    }
   ],
   "source": [
    "(df_final.select(F.month(\"fl_dep_datetime\").alias('mes'),F.col(\"fl_dest\"))\n",
    "         .groupBy(\"mes\",'fl_dest')\n",
    "         .agg(F.count('fl_dest').alias('dest_voo_mes'))\n",
    "         .orderBy('dest_voo_mes', ascending=False)\n",
    "         .show(1)\n",
    ")"
   ]
  },
  {
   "cell_type": "code",
   "execution_count": null,
   "id": "9f5c9462",
   "metadata": {},
   "outputs": [],
   "source": []
  },
  {
   "cell_type": "code",
   "execution_count": null,
   "id": "c9df3f29",
   "metadata": {},
   "outputs": [],
   "source": []
  },
  {
   "cell_type": "code",
   "execution_count": null,
   "id": "cd2300c4",
   "metadata": {},
   "outputs": [],
   "source": []
  },
  {
   "cell_type": "markdown",
   "id": "08910321",
   "metadata": {},
   "source": [
    "### 24. Qual é o modelo de avião mais popular?"
   ]
  },
  {
   "cell_type": "code",
   "execution_count": 143,
   "id": "4d4a9bca",
   "metadata": {},
   "outputs": [
    {
     "name": "stdout",
     "output_type": "stream",
     "text": [
      "+--------+-----+\n",
      "|pl_model|count|\n",
      "+--------+-----+\n",
      "| 737-890| 1463|\n",
      "+--------+-----+\n",
      "only showing top 1 row\n",
      "\n"
     ]
    }
   ],
   "source": [
    "df_final.groupBy('pl_model').count().sort('count', ascending = False).show(1)"
   ]
  },
  {
   "cell_type": "code",
   "execution_count": 73,
   "id": "3fb25f8b",
   "metadata": {},
   "outputs": [
    {
     "name": "stdout",
     "output_type": "stream",
     "text": [
      "+--------+--------------+\n",
      "|pl_model|modelo_popular|\n",
      "+--------+--------------+\n",
      "| 737-890|          1463|\n",
      "+--------+--------------+\n",
      "only showing top 1 row\n",
      "\n"
     ]
    }
   ],
   "source": [
    "(df_final.select(F.col('pl_model'))\n",
    "         .groupBy('pl_model')\n",
    "         .agg(F.count('pl_model').alias('modelo_popular'))\n",
    "         .orderBy('modelo_popular', ascending=False)\n",
    "         .show(1)\n",
    ")"
   ]
  },
  {
   "cell_type": "code",
   "execution_count": 142,
   "id": "ba6fe93e",
   "metadata": {},
   "outputs": [
    {
     "name": "stdout",
     "output_type": "stream",
     "text": [
      "+--------+--------------+\n",
      "|pl_model|modelo_popular|\n",
      "+--------+--------------+\n",
      "| 737-890|          1463|\n",
      "+--------+--------------+\n",
      "only showing top 1 row\n",
      "\n"
     ]
    }
   ],
   "source": [
    "(df_final.groupBy('pl_model')\n",
    "         .agg(F.count('pl_model').alias('modelo_popular'))\n",
    "         .orderBy('modelo_popular', ascending=False)\n",
    "         .show(1)\n",
    ")"
   ]
  },
  {
   "cell_type": "code",
   "execution_count": null,
   "id": "b57fa3af",
   "metadata": {},
   "outputs": [],
   "source": []
  },
  {
   "cell_type": "code",
   "execution_count": null,
   "id": "32432799",
   "metadata": {},
   "outputs": [],
   "source": []
  },
  {
   "cell_type": "markdown",
   "id": "0efeec6d",
   "metadata": {},
   "source": [
    "### 25. Qual é o modelo de avião mais popular por destino?"
   ]
  },
  {
   "cell_type": "code",
   "execution_count": 77,
   "id": "c22369d6",
   "metadata": {},
   "outputs": [
    {
     "name": "stdout",
     "output_type": "stream",
     "text": [
      "+--------+-------+-----------+\n",
      "|pl_model|fl_dest|modelo_dest|\n",
      "+--------+-------+-----------+\n",
      "| 737-7H4|    OAK|        141|\n",
      "+--------+-------+-----------+\n",
      "only showing top 1 row\n",
      "\n"
     ]
    }
   ],
   "source": [
    "(df_final.select(F.col('pl_model'),F.col('fl_dest'))\n",
    "         .groupBy('pl_model','fl_dest')\n",
    "         .agg(F.count('pl_model').alias('modelo_dest'))\n",
    "         .orderBy('modelo_dest', ascending=False)\n",
    "         .show(1)\n",
    ")"
   ]
  },
  {
   "cell_type": "code",
   "execution_count": null,
   "id": "681b2885",
   "metadata": {},
   "outputs": [],
   "source": []
  },
  {
   "cell_type": "markdown",
   "id": "e14a9941",
   "metadata": {},
   "source": [
    "### 26. Qual é o número médio de motores para cada categoria de haul_duration ?"
   ]
  },
  {
   "cell_type": "code",
   "execution_count": 140,
   "id": "5616b131",
   "metadata": {},
   "outputs": [
    {
     "name": "stdout",
     "output_type": "stream",
     "text": [
      "+----------------+-------------+\n",
      "|fl_haul_duration|media_motores|\n",
      "+----------------+-------------+\n",
      "|       LONG-HAUL|          2.0|\n",
      "|     MEDIUM-HAUL|          2.0|\n",
      "|      SHORT-HAUL|          2.0|\n",
      "+----------------+-------------+\n",
      "\n"
     ]
    },
    {
     "data": {
      "image/png": "[encoded data removed]",
      "text/plain": [
       "<Figure size 720x288 with 1 Axes>"
      ]
     },
     "metadata": {
      "needs_background": "light"
     },
     "output_type": "display_data"
    }
   ],
   "source": [
    "df_final.groupBy('fl_haul_duration').agg(F.round(F.avg(F.col('pl_engines')),2).alias('media_motores')).show(5)\n",
    "\n",
    "\n",
    "## plot\n",
    "df_plot4 = (df_final.groupBy('fl_haul_duration')\n",
    "                    .agg(F.round(F.avg(F.col('pl_engines')),2)\n",
    "                    .alias('media_motores')))\n",
    "\n",
    "x = df_plot4.toPandas()['fl_haul_duration'].values.tolist()\n",
    "y = df_plot4.toPandas()['media_motores'].values.tolist()\n",
    "\n",
    "\n",
    "plt.figure(figsize=(10,4))\n",
    "plt.bar(x,y)\n",
    "plt.title('numero_medio_motores')\n",
    "plt.show()"
   ]
  },
  {
   "cell_type": "code",
   "execution_count": 85,
   "id": "0e59b84d",
   "metadata": {},
   "outputs": [
    {
     "data": {
      "text/html": [
       "<div>\n",
       "<style scoped>\n",
       "    .dataframe tbody tr th:only-of-type {\n",
       "        vertical-align: middle;\n",
       "    }\n",
       "\n",
       "    .dataframe tbody tr th {\n",
       "        vertical-align: top;\n",
       "    }\n",
       "\n",
       "    .dataframe thead th {\n",
       "        text-align: right;\n",
       "    }\n",
       "</style>\n",
       "<table border=\"1\" class=\"dataframe\">\n",
       "  <thead>\n",
       "    <tr style=\"text-align: right;\">\n",
       "      <th></th>\n",
       "      <th>fl_haul_duration</th>\n",
       "    </tr>\n",
       "  </thead>\n",
       "  <tbody>\n",
       "    <tr>\n",
       "      <th>0</th>\n",
       "      <td>LONG-HAUL</td>\n",
       "    </tr>\n",
       "    <tr>\n",
       "      <th>1</th>\n",
       "      <td>MEDIUM-HAUL</td>\n",
       "    </tr>\n",
       "    <tr>\n",
       "      <th>2</th>\n",
       "      <td>SHORT-HAUL</td>\n",
       "    </tr>\n",
       "  </tbody>\n",
       "</table>\n",
       "</div>"
      ],
      "text/plain": [
       "  fl_haul_duration\n",
       "0        LONG-HAUL\n",
       "1      MEDIUM-HAUL\n",
       "2       SHORT-HAUL"
      ]
     },
     "execution_count": 85,
     "metadata": {},
     "output_type": "execute_result"
    }
   ],
   "source": [
    "df_final.select(F.col('fl_haul_duration')).distinct().toPandas()"
   ]
  },
  {
   "cell_type": "markdown",
   "id": "4415ae16",
   "metadata": {},
   "source": [
    "### 27. Qual é a estação mais popular para voos?"
   ]
  },
  {
   "cell_type": "code",
   "execution_count": 138,
   "id": "37fae133",
   "metadata": {},
   "outputs": [
    {
     "name": "stdout",
     "output_type": "stream",
     "text": [
      "+-------------+---------------+\n",
      "|fl_dep_season|estacao_popular|\n",
      "+-------------+---------------+\n",
      "|        SUMER|           2918|\n",
      "+-------------+---------------+\n",
      "only showing top 1 row\n",
      "\n"
     ]
    }
   ],
   "source": [
    "(df_final.select(F.col('fl_dep_season'))\n",
    "         .groupBy('fl_dep_season')\n",
    "         .agg(F.count('fl_dep_season').alias('estacao_popular'))\n",
    "         .orderBy('estacao_popular', ascending=False)\n",
    "         .show(1)\n",
    ")"
   ]
  },
  {
   "cell_type": "code",
   "execution_count": null,
   "id": "3c0bd61f",
   "metadata": {},
   "outputs": [],
   "source": []
  },
  {
   "cell_type": "markdown",
   "id": "bd37ef3c",
   "metadata": {},
   "source": [
    "### 28. Qual é a estação mais popular para voos em cada um dos destinos?"
   ]
  },
  {
   "cell_type": "code",
   "execution_count": 111,
   "id": "52c031ad",
   "metadata": {},
   "outputs": [
    {
     "name": "stdout",
     "output_type": "stream",
     "text": [
      "+-------------+-------+-----+\n",
      "|fl_dep_season|fl_dest|count|\n",
      "+-------------+-------+-----+\n",
      "|        SUMER|    SFO|  217|\n",
      "+-------------+-------+-----+\n",
      "only showing top 1 row\n",
      "\n"
     ]
    }
   ],
   "source": [
    "df_final.groupBy('fl_dep_season', 'fl_dest').count().sort('count', ascending = False).show(1)"
   ]
  },
  {
   "cell_type": "code",
   "execution_count": 107,
   "id": "1864d176",
   "metadata": {},
   "outputs": [
    {
     "name": "stdout",
     "output_type": "stream",
     "text": [
      "+-------------+-------+-----+\n",
      "|fl_dep_season|fl_dest|count|\n",
      "+-------------+-------+-----+\n",
      "|        SUMER|    SFO|  217|\n",
      "+-------------+-------+-----+\n",
      "only showing top 1 row\n",
      "\n"
     ]
    }
   ],
   "source": [
    "(\n",
    "df_final.groupBy('fl_dep_season', 'fl_dest')\n",
    "        .count().sort('count', ascending = False).show(1)\n",
    ")"
   ]
  },
  {
   "cell_type": "code",
   "execution_count": 110,
   "id": "57d3d8a6",
   "metadata": {},
   "outputs": [
    {
     "name": "stdout",
     "output_type": "stream",
     "text": [
      "+-------------+-------+-----------+\n",
      "|fl_dep_season|fl_dest|modelo_dest|\n",
      "+-------------+-------+-----------+\n",
      "|        SUMER|    SFO|        217|\n",
      "+-------------+-------+-----------+\n",
      "only showing top 1 row\n",
      "\n"
     ]
    }
   ],
   "source": [
    "(df_final.select(F.col('fl_dep_season'),F.col('fl_dest'))\n",
    "         .groupBy('fl_dep_season','fl_dest')\n",
    "         .agg(F.count('fl_dest').alias('modelo_dest'))\n",
    "         .orderBy('modelo_dest', ascending=False)\n",
    "         .show(1)\n",
    ")"
   ]
  },
  {
   "cell_type": "markdown",
   "id": "1845340d",
   "metadata": {},
   "source": [
    "### 29. Qual é a categoria de atrasos mais comum?"
   ]
  },
  {
   "cell_type": "code",
   "execution_count": 124,
   "id": "ea5f4a79",
   "metadata": {},
   "outputs": [
    {
     "name": "stdout",
     "output_type": "stream",
     "text": [
      "+---------------------+-----+\n",
      "|fl_dep_delay_category|count|\n",
      "+---------------------+-----+\n",
      "|                MINOR| 3065|\n",
      "+---------------------+-----+\n",
      "only showing top 1 row\n",
      "\n"
     ]
    }
   ],
   "source": [
    "(\n",
    "df_final.where(df_final.fl_dep_delay_category != 'ANTECIPATED')\n",
    "        .groupBy('fl_dep_delay_category')\n",
    "        .count().sort('count', ascending = False).show(1)\n",
    ")"
   ]
  },
  {
   "cell_type": "code",
   "execution_count": 125,
   "id": "bc9620b3",
   "metadata": {},
   "outputs": [
    {
     "name": "stdout",
     "output_type": "stream",
     "text": [
      "+---------------------+-------------+\n",
      "|fl_dep_delay_category|atrasos_comum|\n",
      "+---------------------+-------------+\n",
      "|                MINOR|         3065|\n",
      "+---------------------+-------------+\n",
      "only showing top 1 row\n",
      "\n"
     ]
    }
   ],
   "source": [
    "(df_final.select(F.col('fl_dep_delay_category'))\n",
    "         .where(df_final.fl_dep_delay_category != 'ANTECIPATED')\n",
    "         .groupBy('fl_dep_delay_category')\n",
    "         .agg(F.count('fl_dep_delay_category').alias('atrasos_comum'))\n",
    "         .orderBy('atrasos_comum', ascending=False)\n",
    "         .show(1)\n",
    ")"
   ]
  },
  {
   "cell_type": "markdown",
   "id": "c2584004",
   "metadata": {},
   "source": [
    "### 30. Qual é a categoria de atrasos mais comum por rota?"
   ]
  },
  {
   "cell_type": "code",
   "execution_count": 128,
   "id": "1cf855ab",
   "metadata": {},
   "outputs": [
    {
     "name": "stdout",
     "output_type": "stream",
     "text": [
      "+---------------------+---------+-------+-----+\n",
      "|fl_dep_delay_category|fl_origin|fl_dest|count|\n",
      "+---------------------+---------+-------+-----+\n",
      "|                MINOR|      SEA|    SFO|  159|\n",
      "+---------------------+---------+-------+-----+\n",
      "only showing top 1 row\n",
      "\n"
     ]
    }
   ],
   "source": [
    "(\n",
    "df_final.where(df_final.fl_dep_delay_category != 'ANTECIPATED')\n",
    "        .groupBy('fl_dep_delay_category', 'fl_origin','fl_dest')\n",
    "        .count().sort('count', ascending = False).show(1)\n",
    ")"
   ]
  },
  {
   "cell_type": "code",
   "execution_count": null,
   "id": "1e038373",
   "metadata": {},
   "outputs": [],
   "source": []
  }
 ],
 "metadata": {
  "kernelspec": {
   "display_name": "Python 3 (ipykernel)",
   "language": "python",
   "name": "python3"
  },
  "language_info": {
   "codemirror_mode": {
    "name": "ipython",
    "version": 3
   },
   "file_extension": ".py",
   "mimetype": "text/x-python",
   "name": "python",
   "nbconvert_exporter": "python",
   "pygments_lexer": "ipython3",
   "version": "3.9.7"
  }
 },
 "nbformat": 4,
 "nbformat_minor": 5
}
