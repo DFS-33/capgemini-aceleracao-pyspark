{
 "cells": [
  {
   "cell_type": "markdown",
   "id": "104b4c82",
   "metadata": {},
   "source": [
    "### Qualidade\n",
    "Antes de realizarmos transformações nos dados, é importante estabelecermos processos que apontem\n",
    "erros de qualidade nos dados que estamos trabalhado, dessa forma é possível ter clareza das\n",
    "inconsistências comuns e assim criar formas de melhorar a qualidade dos dados. Pensando nisso, a\n",
    "primeira atividade planejada é criarmos uma coluna adicional reportando o tipo de inconsistência que\n",
    "encontramos nos datasets."
   ]
  },
  {
   "cell_type": "markdown",
   "id": "9f5fea52",
   "metadata": {},
   "source": [
    "### Dicionário\n",
    "* <b>faa (string):</b> Identificador do aeroporto determinado pela Federal Aviation Administration. Formato: 3-\n",
    "5 caracteres alfanuméricos.<br>\n",
    "* <b> name (string)</b>: Nome do aeroporto.<br>\n",
    "* <b> lat (float):</b> Latitude do aeroporto. Intervalo de valores [−180, 180]. <br>\n",
    "* <b> lon (float):</b> Longitude do aeroporto Intervalo de valores . [−180, 180] <br>\n",
    "* <b> alt (int):</b> Altitude do aeroporto. Unidade de medida em pés. Intervalo de valores [0,+∞) . <br>\n",
    "* <b> tz (float):</b> Fuso horário baseado no deslocamento de horas a partir de UTC/GMT. Intervalo de valores [−11,+14] \n",
    ". Pode ser fuso fracionário [1] <br>\n",
    "* <b> dst (category):</b> Horário de verão. Descrição dos possíveis valores [2]: <br>\n",
    "*  E (Europe)\n",
    "*  A (US/Canada)\n",
    "*  S (South America) \n",
    "*  O (Australia) \n",
    "*  Z (New Zealand)\n",
    "*  N (None) \n",
    "*  U (Unknown) "
   ]
  },
  {
   "cell_type": "code",
   "execution_count": 1,
   "id": "f9af78d7",
   "metadata": {},
   "outputs": [
    {
     "name": "stdout",
     "output_type": "stream",
     "text": [
      "Requirement already satisfied: pyspark in c:\\users\\dsilva10\\anaconda3\\lib\\site-packages (3.2.1)\n",
      "Requirement already satisfied: py4j==0.10.9.3 in c:\\users\\dsilva10\\anaconda3\\lib\\site-packages (from pyspark) (0.10.9.3)\n",
      "Requirement already satisfied: findspark in c:\\users\\dsilva10\\anaconda3\\lib\\site-packages (2.0.1)\n"
     ]
    }
   ],
   "source": [
    "# Installing required packages\n",
    "!pip install pyspark\n",
    "!pip install findspark"
   ]
  },
  {
   "cell_type": "code",
   "execution_count": 2,
   "id": "c4afe77a",
   "metadata": {},
   "outputs": [],
   "source": [
    "# Locate spark\n",
    "import findspark\n",
    "findspark.init()"
   ]
  },
  {
   "cell_type": "code",
   "execution_count": 3,
   "id": "b220a7c0",
   "metadata": {},
   "outputs": [],
   "source": [
    "# Importando pacotes\n",
    "import re\n",
    "from pyspark import SparkContext, SparkConf\n",
    "from pyspark.sql import SparkSession\n",
    "from pyspark.sql import functions as F  # Importando todas as funções \n",
    "from pyspark.sql.types import StructType, StructField, StringType, IntegerType, FloatType,BooleanType"
   ]
  },
  {
   "cell_type": "code",
   "execution_count": 43,
   "id": "bb738c34",
   "metadata": {},
   "outputs": [],
   "source": [
    "# Expressoes regulares comuns\n",
    "# Boas práticas (variáveis constantes em maiusculo)\n",
    "REGEX_ALPHA    = r'[a-zA-Z]+'\n",
    "REGEX_INTEGER  = r'[0-9]+'\n",
    "REGEX_FLOAT    = r'[0-9]+\\.[0-9]+'\n",
    "REGEX_ALPHANUM = r'[0-9a-zA-Z]+'\n",
    "REGEX_EMPTY_STR= r'[\\t ]+$'\n",
    "REGEX_SPECIAL  = r'[!@#$%&*\\(\\)_]+'\n",
    "REGEX_NNUMBER  = r'^N[1-9][0-9]{2,3}([ABCDEFGHJKLMNPRSTUVXWYZ]{1,2})'\n",
    "REGEX_NNUMBER_INVALID = r'(N0.*$)|(.*[IO].*)'\n",
    "REGEX_TIME_FMT = r'^(([0-1]?[0-9])|(2[0-3]))([0-5][0-9])$'\n",
    "REGEX_NNUMBER_NEGATIVE = r'^-\\d*\\.?\\d+$'\n",
    "REGEX_PARENTESE = r'[(\\)]+'"
   ]
  },
  {
   "cell_type": "code",
   "execution_count": 37,
   "id": "13389ad4",
   "metadata": {},
   "outputs": [],
   "source": [
    "# Funcoes auxiliares \n",
    "def split_csv(line):\n",
    "    return tuple(map(lambda x: x.replace('\"',''), line.split(\",\")))\n",
    "\n",
    "def check_empty_column(col):\n",
    "    return (F.col(col).isNull() | (F.col(col) =='') | F.col(col).rlike(REGEX_EMPTY_STR))\n",
    "\n",
    "def create_regex_from_list(_list):\n",
    "    return r'|'.join(map(lambda x : f\".*({x}).*\", _list))\n",
    "\n",
    "\n",
    "def format_year_date(col):\n",
    "    return (F.date_format(F.current_date(),\"yyyy\") - col).cast('int')"
   ]
  },
  {
   "cell_type": "code",
   "execution_count": 6,
   "id": "9c0654d4",
   "metadata": {},
   "outputs": [],
   "source": [
    "# Criar o contexto do spark\n",
    "sc = SparkContext()\n",
    "\n",
    "# Instancia o criador de sessao do spark\n",
    "spark = (SparkSession.builder\n",
    "                     .master(\"local[7]\")\n",
    "                     .appName(\"Aceleração PySpark - Capgemini\"))"
   ]
  },
  {
   "cell_type": "code",
   "execution_count": 7,
   "id": "12e7b566",
   "metadata": {},
   "outputs": [],
   "source": [
    "# Criando Structure (Schema)\n",
    "\n",
    "schema_airports = StructType([\n",
    "    StructField(\"faa\",  StringType(),  True),\n",
    "    StructField(\"name\", StringType(),  True),\n",
    "    StructField(\"lat\",  FloatType(),   True),\n",
    "    StructField(\"lon\",  FloatType(),   True),\n",
    "    StructField(\"alt\",  IntegerType(), True),\n",
    "    StructField(\"tz\",   IntegerType(), True),\n",
    "    StructField(\"dst\",  StringType(),  True)\n",
    "])\n",
    "\n",
    "schema_planes = StructType([\n",
    "    StructField(\"tailnum\",      StringType(),  True),\n",
    "    StructField(\"year\",         IntegerType(), True),\n",
    "    StructField(\"type\",         StringType(),  True),\n",
    "    StructField(\"manufacturer\", StringType(),  True),\n",
    "    StructField(\"model\",        StringType(),  True),\n",
    "    StructField(\"engines\",      IntegerType(), True),\n",
    "    StructField(\"seats\",        IntegerType(), True),\n",
    "    StructField(\"speed\",        IntegerType(), True),\n",
    "    StructField(\"engine\",       StringType(),  True)\n",
    "])\n",
    "\n",
    "schema_flights = StructType([\n",
    "    StructField(\"year\",      IntegerType(), True),\n",
    "    StructField(\"month\",     IntegerType(), True),\n",
    "    StructField(\"day\",       IntegerType(), True),\n",
    "    StructField(\"dep_time\",  StringType(),  True),\n",
    "    StructField(\"dep_delay\", IntegerType(), True),\n",
    "    StructField(\"arr_time\",  StringType(),  True),\n",
    "    StructField(\"arr_delay\", IntegerType(), True),\n",
    "    StructField(\"carrier\",   StringType(),  True),\n",
    "    StructField(\"tailnum\",   StringType(),  True),\n",
    "    StructField(\"flight\",    StringType(),  True),\n",
    "    StructField(\"origin\",    StringType(),  True),\n",
    "    StructField(\"dest\",      StringType(),  True),\n",
    "    StructField(\"air_time\",  IntegerType(), True),\n",
    "    StructField(\"distance\",  IntegerType(), True),\n",
    "    StructField(\"hour\",      IntegerType(), True),\n",
    "    StructField(\"minute\",    IntegerType(), True),\n",
    "])"
   ]
  },
  {
   "cell_type": "code",
   "execution_count": 8,
   "id": "119fd085",
   "metadata": {},
   "outputs": [],
   "source": [
    "# Lendo Datasets \n",
    "df_airports = (spark.getOrCreate().read\n",
    "                   .format(\"csv\")\n",
    "                   .option(\"header\",\"True\")\n",
    "                   .schema(schema_airports)\n",
    "                   .load(\"../../pyspark-capgemini/data/airports.csv\"))\n",
    "\n",
    "\n",
    "df_planes = (spark.getOrCreate().read\n",
    "                   .format(\"csv\")\n",
    "                   .option(\"header\",\"True\")\n",
    "                   .schema(schema_planes)\n",
    "                   .load(\"../../pyspark-capgemini/data/planes.csv\"))\n",
    "\n",
    "\n",
    "df_flights = (spark.getOrCreate().read\n",
    "                   .format(\"csv\")\n",
    "                   .option(\"header\",\"True\")\n",
    "                   .schema(schema_flights)\n",
    "                   .load(\"../../pyspark-capgemini/data/flights.csv\"))"
   ]
  },
  {
   "cell_type": "code",
   "execution_count": 9,
   "id": "cf60df03",
   "metadata": {},
   "outputs": [
    {
     "name": "stdout",
     "output_type": "stream",
     "text": [
      "root\n",
      " |-- faa: string (nullable = true)\n",
      " |-- name: string (nullable = true)\n",
      " |-- lat: float (nullable = true)\n",
      " |-- lon: float (nullable = true)\n",
      " |-- alt: integer (nullable = true)\n",
      " |-- tz: integer (nullable = true)\n",
      " |-- dst: string (nullable = true)\n",
      "\n"
     ]
    }
   ],
   "source": [
    "df_airports.printSchema()"
   ]
  },
  {
   "cell_type": "code",
   "execution_count": 10,
   "id": "8b9bf061",
   "metadata": {},
   "outputs": [],
   "source": [
    "# Criacao das visões temporarias\n",
    "df_airports.createOrReplaceTempView('airports')"
   ]
  },
  {
   "cell_type": "code",
   "execution_count": 11,
   "id": "9611908a",
   "metadata": {},
   "outputs": [],
   "source": [
    "# Leitura dos dados como RDD\n",
    "rdd_airports = sc.textFile(\"../../pyspark-capgemini/data/airports.csv\")"
   ]
  },
  {
   "cell_type": "code",
   "execution_count": 12,
   "id": "1621830f",
   "metadata": {},
   "outputs": [],
   "source": [
    "# armazena a primeira linha (colunas) do arquivo como referencia.\n",
    "header_airports = rdd_airports.first()\n",
    "\n",
    "# Remove a primeira linha (colunas) do rdd\n",
    "rdd_airports = rdd_airports.filter(lambda line: line != header_airports).map(split_csv)\n"
   ]
  },
  {
   "cell_type": "markdown",
   "id": "e036c131",
   "metadata": {},
   "source": [
    "### Criando função para adicionar linhas e testar o código. "
   ]
  },
  {
   "cell_type": "code",
   "execution_count": 15,
   "id": "f1e12fd7",
   "metadata": {},
   "outputs": [],
   "source": [
    "def add_test_rows_for_airports(data,_format): #convenção para usar _ para diferenciar de nomes reservados\n",
    "        # Adiciona linhas para testar regras de negócio\n",
    "        values = [\n",
    "        #faa    name  lat       lon               alt         tz            dst\n",
    "        (0 ,     0,    0    ,   0            ,    '-20'     ,  0,             0),\n",
    "        (''   , ''  , ''      , ''              , ''        ,   ''  ,        ''),\n",
    "        ('   ', None, '12O.12', '-80.Aa6195833' , '-50'  ,   '5',          'U'),\n",
    "        ('AAA', None, '12O.12', '-80.Aa6195833' , '-50'  ,   '4',         'U' ),\n",
    "        ('222', None, None    , '-80.Aa6195833' , '-100'    ,        '-14', 'U'),\n",
    "        ('__!', None, None    , '-80.Aa6195833' , '-100'    ,        '-14', 'U')\n",
    "    ]\n",
    "        if _format ==\"df\":\n",
    "            return spark.getOrCreate().createDataFrame(values,data.columns).union(data)\n",
    "        elif _format == \"rdd\":\n",
    "            return sc.parallelize(tuple(values)).union(data)\n",
    "        \n",
    "        \n",
    "    \n",
    "    \n",
    "    "
   ]
  },
  {
   "cell_type": "code",
   "execution_count": 16,
   "id": "6b8ff72c",
   "metadata": {
    "collapsed": true
   },
   "outputs": [
    {
     "ename": "TypeError",
     "evalue": "field faa: Can not merge type <class 'pyspark.sql.types.LongType'> and <class 'pyspark.sql.types.StringType'>",
     "output_type": "error",
     "traceback": [
      "\u001b[1;31m---------------------------------------------------------------------------\u001b[0m",
      "\u001b[1;31mTypeError\u001b[0m                                 Traceback (most recent call last)",
      "\u001b[1;32m~\\AppData\\Local\\Temp/ipykernel_1112/1871477136.py\u001b[0m in \u001b[0;36m<module>\u001b[1;34m\u001b[0m\n\u001b[0;32m      1\u001b[0m \u001b[1;31m# Adicionando linhas ao Dataframe\u001b[0m\u001b[1;33m\u001b[0m\u001b[1;33m\u001b[0m\u001b[0m\n\u001b[1;32m----> 2\u001b[1;33m \u001b[0mdf_airports\u001b[0m  \u001b[1;33m=\u001b[0m \u001b[0madd_test_rows_for_airports\u001b[0m\u001b[1;33m(\u001b[0m\u001b[0mdf_airports\u001b[0m\u001b[1;33m,\u001b[0m  \u001b[1;34m\"df\"\u001b[0m\u001b[1;33m)\u001b[0m\u001b[1;33m\u001b[0m\u001b[1;33m\u001b[0m\u001b[0m\n\u001b[0m",
      "\u001b[1;32m~\\AppData\\Local\\Temp/ipykernel_1112/3142906748.py\u001b[0m in \u001b[0;36madd_test_rows_for_airports\u001b[1;34m(data, _format)\u001b[0m\n\u001b[0;32m     11\u001b[0m     ]\n\u001b[0;32m     12\u001b[0m         \u001b[1;32mif\u001b[0m \u001b[0m_format\u001b[0m \u001b[1;33m==\u001b[0m\u001b[1;34m\"df\"\u001b[0m\u001b[1;33m:\u001b[0m\u001b[1;33m\u001b[0m\u001b[1;33m\u001b[0m\u001b[0m\n\u001b[1;32m---> 13\u001b[1;33m             \u001b[1;32mreturn\u001b[0m \u001b[0mspark\u001b[0m\u001b[1;33m.\u001b[0m\u001b[0mgetOrCreate\u001b[0m\u001b[1;33m(\u001b[0m\u001b[1;33m)\u001b[0m\u001b[1;33m.\u001b[0m\u001b[0mcreateDataFrame\u001b[0m\u001b[1;33m(\u001b[0m\u001b[0mvalues\u001b[0m\u001b[1;33m,\u001b[0m\u001b[0mdata\u001b[0m\u001b[1;33m.\u001b[0m\u001b[0mcolumns\u001b[0m\u001b[1;33m)\u001b[0m\u001b[1;33m.\u001b[0m\u001b[0munion\u001b[0m\u001b[1;33m(\u001b[0m\u001b[0mdata\u001b[0m\u001b[1;33m)\u001b[0m\u001b[1;33m\u001b[0m\u001b[1;33m\u001b[0m\u001b[0m\n\u001b[0m\u001b[0;32m     14\u001b[0m         \u001b[1;32melif\u001b[0m \u001b[0m_format\u001b[0m \u001b[1;33m==\u001b[0m \u001b[1;34m\"rdd\"\u001b[0m\u001b[1;33m:\u001b[0m\u001b[1;33m\u001b[0m\u001b[1;33m\u001b[0m\u001b[0m\n\u001b[0;32m     15\u001b[0m             \u001b[1;32mreturn\u001b[0m \u001b[0msc\u001b[0m\u001b[1;33m.\u001b[0m\u001b[0mparallelize\u001b[0m\u001b[1;33m(\u001b[0m\u001b[0mtuple\u001b[0m\u001b[1;33m(\u001b[0m\u001b[0mvalues\u001b[0m\u001b[1;33m)\u001b[0m\u001b[1;33m)\u001b[0m\u001b[1;33m.\u001b[0m\u001b[0munion\u001b[0m\u001b[1;33m(\u001b[0m\u001b[0mdata\u001b[0m\u001b[1;33m)\u001b[0m\u001b[1;33m\u001b[0m\u001b[1;33m\u001b[0m\u001b[0m\n",
      "\u001b[1;32mC:\\spark-3.2.1-bin-hadoop2.7\\python\\pyspark\\sql\\session.py\u001b[0m in \u001b[0;36mcreateDataFrame\u001b[1;34m(self, data, schema, samplingRatio, verifySchema)\u001b[0m\n\u001b[0;32m    673\u001b[0m             return super(SparkSession, self).createDataFrame(\n\u001b[0;32m    674\u001b[0m                 data, schema, samplingRatio, verifySchema)\n\u001b[1;32m--> 675\u001b[1;33m         \u001b[1;32mreturn\u001b[0m \u001b[0mself\u001b[0m\u001b[1;33m.\u001b[0m\u001b[0m_create_dataframe\u001b[0m\u001b[1;33m(\u001b[0m\u001b[0mdata\u001b[0m\u001b[1;33m,\u001b[0m \u001b[0mschema\u001b[0m\u001b[1;33m,\u001b[0m \u001b[0msamplingRatio\u001b[0m\u001b[1;33m,\u001b[0m \u001b[0mverifySchema\u001b[0m\u001b[1;33m)\u001b[0m\u001b[1;33m\u001b[0m\u001b[1;33m\u001b[0m\u001b[0m\n\u001b[0m\u001b[0;32m    676\u001b[0m \u001b[1;33m\u001b[0m\u001b[0m\n\u001b[0;32m    677\u001b[0m     \u001b[1;32mdef\u001b[0m \u001b[0m_create_dataframe\u001b[0m\u001b[1;33m(\u001b[0m\u001b[0mself\u001b[0m\u001b[1;33m,\u001b[0m \u001b[0mdata\u001b[0m\u001b[1;33m,\u001b[0m \u001b[0mschema\u001b[0m\u001b[1;33m,\u001b[0m \u001b[0msamplingRatio\u001b[0m\u001b[1;33m,\u001b[0m \u001b[0mverifySchema\u001b[0m\u001b[1;33m)\u001b[0m\u001b[1;33m:\u001b[0m\u001b[1;33m\u001b[0m\u001b[1;33m\u001b[0m\u001b[0m\n",
      "\u001b[1;32mC:\\spark-3.2.1-bin-hadoop2.7\\python\\pyspark\\sql\\session.py\u001b[0m in \u001b[0;36m_create_dataframe\u001b[1;34m(self, data, schema, samplingRatio, verifySchema)\u001b[0m\n\u001b[0;32m    698\u001b[0m             \u001b[0mrdd\u001b[0m\u001b[1;33m,\u001b[0m \u001b[0mschema\u001b[0m \u001b[1;33m=\u001b[0m \u001b[0mself\u001b[0m\u001b[1;33m.\u001b[0m\u001b[0m_createFromRDD\u001b[0m\u001b[1;33m(\u001b[0m\u001b[0mdata\u001b[0m\u001b[1;33m.\u001b[0m\u001b[0mmap\u001b[0m\u001b[1;33m(\u001b[0m\u001b[0mprepare\u001b[0m\u001b[1;33m)\u001b[0m\u001b[1;33m,\u001b[0m \u001b[0mschema\u001b[0m\u001b[1;33m,\u001b[0m \u001b[0msamplingRatio\u001b[0m\u001b[1;33m)\u001b[0m\u001b[1;33m\u001b[0m\u001b[1;33m\u001b[0m\u001b[0m\n\u001b[0;32m    699\u001b[0m         \u001b[1;32melse\u001b[0m\u001b[1;33m:\u001b[0m\u001b[1;33m\u001b[0m\u001b[1;33m\u001b[0m\u001b[0m\n\u001b[1;32m--> 700\u001b[1;33m             \u001b[0mrdd\u001b[0m\u001b[1;33m,\u001b[0m \u001b[0mschema\u001b[0m \u001b[1;33m=\u001b[0m \u001b[0mself\u001b[0m\u001b[1;33m.\u001b[0m\u001b[0m_createFromLocal\u001b[0m\u001b[1;33m(\u001b[0m\u001b[0mmap\u001b[0m\u001b[1;33m(\u001b[0m\u001b[0mprepare\u001b[0m\u001b[1;33m,\u001b[0m \u001b[0mdata\u001b[0m\u001b[1;33m)\u001b[0m\u001b[1;33m,\u001b[0m \u001b[0mschema\u001b[0m\u001b[1;33m)\u001b[0m\u001b[1;33m\u001b[0m\u001b[1;33m\u001b[0m\u001b[0m\n\u001b[0m\u001b[0;32m    701\u001b[0m         \u001b[0mjrdd\u001b[0m \u001b[1;33m=\u001b[0m \u001b[0mself\u001b[0m\u001b[1;33m.\u001b[0m\u001b[0m_jvm\u001b[0m\u001b[1;33m.\u001b[0m\u001b[0mSerDeUtil\u001b[0m\u001b[1;33m.\u001b[0m\u001b[0mtoJavaArray\u001b[0m\u001b[1;33m(\u001b[0m\u001b[0mrdd\u001b[0m\u001b[1;33m.\u001b[0m\u001b[0m_to_java_object_rdd\u001b[0m\u001b[1;33m(\u001b[0m\u001b[1;33m)\u001b[0m\u001b[1;33m)\u001b[0m\u001b[1;33m\u001b[0m\u001b[1;33m\u001b[0m\u001b[0m\n\u001b[0;32m    702\u001b[0m         \u001b[0mjdf\u001b[0m \u001b[1;33m=\u001b[0m \u001b[0mself\u001b[0m\u001b[1;33m.\u001b[0m\u001b[0m_jsparkSession\u001b[0m\u001b[1;33m.\u001b[0m\u001b[0mapplySchemaToPythonRDD\u001b[0m\u001b[1;33m(\u001b[0m\u001b[0mjrdd\u001b[0m\u001b[1;33m.\u001b[0m\u001b[0mrdd\u001b[0m\u001b[1;33m(\u001b[0m\u001b[1;33m)\u001b[0m\u001b[1;33m,\u001b[0m \u001b[0mschema\u001b[0m\u001b[1;33m.\u001b[0m\u001b[0mjson\u001b[0m\u001b[1;33m(\u001b[0m\u001b[1;33m)\u001b[0m\u001b[1;33m)\u001b[0m\u001b[1;33m\u001b[0m\u001b[1;33m\u001b[0m\u001b[0m\n",
      "\u001b[1;32mC:\\spark-3.2.1-bin-hadoop2.7\\python\\pyspark\\sql\\session.py\u001b[0m in \u001b[0;36m_createFromLocal\u001b[1;34m(self, data, schema)\u001b[0m\n\u001b[0;32m    510\u001b[0m \u001b[1;33m\u001b[0m\u001b[0m\n\u001b[0;32m    511\u001b[0m         \u001b[1;32mif\u001b[0m \u001b[0mschema\u001b[0m \u001b[1;32mis\u001b[0m \u001b[1;32mNone\u001b[0m \u001b[1;32mor\u001b[0m \u001b[0misinstance\u001b[0m\u001b[1;33m(\u001b[0m\u001b[0mschema\u001b[0m\u001b[1;33m,\u001b[0m \u001b[1;33m(\u001b[0m\u001b[0mlist\u001b[0m\u001b[1;33m,\u001b[0m \u001b[0mtuple\u001b[0m\u001b[1;33m)\u001b[0m\u001b[1;33m)\u001b[0m\u001b[1;33m:\u001b[0m\u001b[1;33m\u001b[0m\u001b[1;33m\u001b[0m\u001b[0m\n\u001b[1;32m--> 512\u001b[1;33m             \u001b[0mstruct\u001b[0m \u001b[1;33m=\u001b[0m \u001b[0mself\u001b[0m\u001b[1;33m.\u001b[0m\u001b[0m_inferSchemaFromList\u001b[0m\u001b[1;33m(\u001b[0m\u001b[0mdata\u001b[0m\u001b[1;33m,\u001b[0m \u001b[0mnames\u001b[0m\u001b[1;33m=\u001b[0m\u001b[0mschema\u001b[0m\u001b[1;33m)\u001b[0m\u001b[1;33m\u001b[0m\u001b[1;33m\u001b[0m\u001b[0m\n\u001b[0m\u001b[0;32m    513\u001b[0m             \u001b[0mconverter\u001b[0m \u001b[1;33m=\u001b[0m \u001b[0m_create_converter\u001b[0m\u001b[1;33m(\u001b[0m\u001b[0mstruct\u001b[0m\u001b[1;33m)\u001b[0m\u001b[1;33m\u001b[0m\u001b[1;33m\u001b[0m\u001b[0m\n\u001b[0;32m    514\u001b[0m             \u001b[0mdata\u001b[0m \u001b[1;33m=\u001b[0m \u001b[0mmap\u001b[0m\u001b[1;33m(\u001b[0m\u001b[0mconverter\u001b[0m\u001b[1;33m,\u001b[0m \u001b[0mdata\u001b[0m\u001b[1;33m)\u001b[0m\u001b[1;33m\u001b[0m\u001b[1;33m\u001b[0m\u001b[0m\n",
      "\u001b[1;32mC:\\spark-3.2.1-bin-hadoop2.7\\python\\pyspark\\sql\\session.py\u001b[0m in \u001b[0;36m_inferSchemaFromList\u001b[1;34m(self, data, names)\u001b[0m\n\u001b[0;32m    437\u001b[0m         \u001b[1;32mif\u001b[0m \u001b[1;32mnot\u001b[0m \u001b[0mdata\u001b[0m\u001b[1;33m:\u001b[0m\u001b[1;33m\u001b[0m\u001b[1;33m\u001b[0m\u001b[0m\n\u001b[0;32m    438\u001b[0m             \u001b[1;32mraise\u001b[0m \u001b[0mValueError\u001b[0m\u001b[1;33m(\u001b[0m\u001b[1;34m\"can not infer schema from empty dataset\"\u001b[0m\u001b[1;33m)\u001b[0m\u001b[1;33m\u001b[0m\u001b[1;33m\u001b[0m\u001b[0m\n\u001b[1;32m--> 439\u001b[1;33m         \u001b[0mschema\u001b[0m \u001b[1;33m=\u001b[0m \u001b[0mreduce\u001b[0m\u001b[1;33m(\u001b[0m\u001b[0m_merge_type\u001b[0m\u001b[1;33m,\u001b[0m \u001b[1;33m(\u001b[0m\u001b[0m_infer_schema\u001b[0m\u001b[1;33m(\u001b[0m\u001b[0mrow\u001b[0m\u001b[1;33m,\u001b[0m \u001b[0mnames\u001b[0m\u001b[1;33m)\u001b[0m \u001b[1;32mfor\u001b[0m \u001b[0mrow\u001b[0m \u001b[1;32min\u001b[0m \u001b[0mdata\u001b[0m\u001b[1;33m)\u001b[0m\u001b[1;33m)\u001b[0m\u001b[1;33m\u001b[0m\u001b[1;33m\u001b[0m\u001b[0m\n\u001b[0m\u001b[0;32m    440\u001b[0m         \u001b[1;32mif\u001b[0m \u001b[0m_has_nulltype\u001b[0m\u001b[1;33m(\u001b[0m\u001b[0mschema\u001b[0m\u001b[1;33m)\u001b[0m\u001b[1;33m:\u001b[0m\u001b[1;33m\u001b[0m\u001b[1;33m\u001b[0m\u001b[0m\n\u001b[0;32m    441\u001b[0m             \u001b[1;32mraise\u001b[0m \u001b[0mValueError\u001b[0m\u001b[1;33m(\u001b[0m\u001b[1;34m\"Some of types cannot be determined after inferring\"\u001b[0m\u001b[1;33m)\u001b[0m\u001b[1;33m\u001b[0m\u001b[1;33m\u001b[0m\u001b[0m\n",
      "\u001b[1;32mC:\\spark-3.2.1-bin-hadoop2.7\\python\\pyspark\\sql\\types.py\u001b[0m in \u001b[0;36m_merge_type\u001b[1;34m(a, b, name)\u001b[0m\n\u001b[0;32m   1107\u001b[0m     \u001b[1;32mif\u001b[0m \u001b[0misinstance\u001b[0m\u001b[1;33m(\u001b[0m\u001b[0ma\u001b[0m\u001b[1;33m,\u001b[0m \u001b[0mStructType\u001b[0m\u001b[1;33m)\u001b[0m\u001b[1;33m:\u001b[0m\u001b[1;33m\u001b[0m\u001b[1;33m\u001b[0m\u001b[0m\n\u001b[0;32m   1108\u001b[0m         \u001b[0mnfs\u001b[0m \u001b[1;33m=\u001b[0m \u001b[0mdict\u001b[0m\u001b[1;33m(\u001b[0m\u001b[1;33m(\u001b[0m\u001b[0mf\u001b[0m\u001b[1;33m.\u001b[0m\u001b[0mname\u001b[0m\u001b[1;33m,\u001b[0m \u001b[0mf\u001b[0m\u001b[1;33m.\u001b[0m\u001b[0mdataType\u001b[0m\u001b[1;33m)\u001b[0m \u001b[1;32mfor\u001b[0m \u001b[0mf\u001b[0m \u001b[1;32min\u001b[0m \u001b[0mb\u001b[0m\u001b[1;33m.\u001b[0m\u001b[0mfields\u001b[0m\u001b[1;33m)\u001b[0m\u001b[1;33m\u001b[0m\u001b[1;33m\u001b[0m\u001b[0m\n\u001b[1;32m-> 1109\u001b[1;33m         fields = [StructField(f.name, _merge_type(f.dataType, nfs.get(f.name, NullType()),\n\u001b[0m\u001b[0;32m   1110\u001b[0m                                                   name=new_name(f.name)))\n\u001b[0;32m   1111\u001b[0m                   for f in a.fields]\n",
      "\u001b[1;32mC:\\spark-3.2.1-bin-hadoop2.7\\python\\pyspark\\sql\\types.py\u001b[0m in \u001b[0;36m<listcomp>\u001b[1;34m(.0)\u001b[0m\n\u001b[0;32m   1107\u001b[0m     \u001b[1;32mif\u001b[0m \u001b[0misinstance\u001b[0m\u001b[1;33m(\u001b[0m\u001b[0ma\u001b[0m\u001b[1;33m,\u001b[0m \u001b[0mStructType\u001b[0m\u001b[1;33m)\u001b[0m\u001b[1;33m:\u001b[0m\u001b[1;33m\u001b[0m\u001b[1;33m\u001b[0m\u001b[0m\n\u001b[0;32m   1108\u001b[0m         \u001b[0mnfs\u001b[0m \u001b[1;33m=\u001b[0m \u001b[0mdict\u001b[0m\u001b[1;33m(\u001b[0m\u001b[1;33m(\u001b[0m\u001b[0mf\u001b[0m\u001b[1;33m.\u001b[0m\u001b[0mname\u001b[0m\u001b[1;33m,\u001b[0m \u001b[0mf\u001b[0m\u001b[1;33m.\u001b[0m\u001b[0mdataType\u001b[0m\u001b[1;33m)\u001b[0m \u001b[1;32mfor\u001b[0m \u001b[0mf\u001b[0m \u001b[1;32min\u001b[0m \u001b[0mb\u001b[0m\u001b[1;33m.\u001b[0m\u001b[0mfields\u001b[0m\u001b[1;33m)\u001b[0m\u001b[1;33m\u001b[0m\u001b[1;33m\u001b[0m\u001b[0m\n\u001b[1;32m-> 1109\u001b[1;33m         fields = [StructField(f.name, _merge_type(f.dataType, nfs.get(f.name, NullType()),\n\u001b[0m\u001b[0;32m   1110\u001b[0m                                                   name=new_name(f.name)))\n\u001b[0;32m   1111\u001b[0m                   for f in a.fields]\n",
      "\u001b[1;32mC:\\spark-3.2.1-bin-hadoop2.7\\python\\pyspark\\sql\\types.py\u001b[0m in \u001b[0;36m_merge_type\u001b[1;34m(a, b, name)\u001b[0m\n\u001b[0;32m   1102\u001b[0m     \u001b[1;32melif\u001b[0m \u001b[0mtype\u001b[0m\u001b[1;33m(\u001b[0m\u001b[0ma\u001b[0m\u001b[1;33m)\u001b[0m \u001b[1;32mis\u001b[0m \u001b[1;32mnot\u001b[0m \u001b[0mtype\u001b[0m\u001b[1;33m(\u001b[0m\u001b[0mb\u001b[0m\u001b[1;33m)\u001b[0m\u001b[1;33m:\u001b[0m\u001b[1;33m\u001b[0m\u001b[1;33m\u001b[0m\u001b[0m\n\u001b[0;32m   1103\u001b[0m         \u001b[1;31m# TODO: type cast (such as int -> long)\u001b[0m\u001b[1;33m\u001b[0m\u001b[1;33m\u001b[0m\u001b[0m\n\u001b[1;32m-> 1104\u001b[1;33m         \u001b[1;32mraise\u001b[0m \u001b[0mTypeError\u001b[0m\u001b[1;33m(\u001b[0m\u001b[0mnew_msg\u001b[0m\u001b[1;33m(\u001b[0m\u001b[1;34m\"Can not merge type %s and %s\"\u001b[0m \u001b[1;33m%\u001b[0m \u001b[1;33m(\u001b[0m\u001b[0mtype\u001b[0m\u001b[1;33m(\u001b[0m\u001b[0ma\u001b[0m\u001b[1;33m)\u001b[0m\u001b[1;33m,\u001b[0m \u001b[0mtype\u001b[0m\u001b[1;33m(\u001b[0m\u001b[0mb\u001b[0m\u001b[1;33m)\u001b[0m\u001b[1;33m)\u001b[0m\u001b[1;33m)\u001b[0m\u001b[1;33m)\u001b[0m\u001b[1;33m\u001b[0m\u001b[1;33m\u001b[0m\u001b[0m\n\u001b[0m\u001b[0;32m   1105\u001b[0m \u001b[1;33m\u001b[0m\u001b[0m\n\u001b[0;32m   1106\u001b[0m     \u001b[1;31m# same type\u001b[0m\u001b[1;33m\u001b[0m\u001b[1;33m\u001b[0m\u001b[0m\n",
      "\u001b[1;31mTypeError\u001b[0m: field faa: Can not merge type <class 'pyspark.sql.types.LongType'> and <class 'pyspark.sql.types.StringType'>"
     ]
    }
   ],
   "source": [
    "# Adicionando linhas ao Dataframe\n",
    "df_airports  = add_test_rows_for_airports(df_airports,  \"df\")"
   ]
  },
  {
   "cell_type": "code",
   "execution_count": 17,
   "id": "dae1ce87",
   "metadata": {
    "collapsed": true
   },
   "outputs": [
    {
     "data": {
      "text/plain": [
       "[('04G', 'Lansdowne Airport', '41.1304722', '-80.6195833', '1044', '-5', 'A'),\n",
       " ('06A',\n",
       "  'Moton Field Municipal Airport',\n",
       "  '32.4605722',\n",
       "  '-85.6800278',\n",
       "  '264',\n",
       "  '-5',\n",
       "  'A'),\n",
       " ('06C', 'Schaumburg Regional', '41.9893408', '-88.1012428', '801', '-6', 'A'),\n",
       " ('06N', 'Randall Airport', '41.431912', '-74.3915611', '523', '-5', 'A'),\n",
       " ('09J',\n",
       "  'Jekyll Island Airport',\n",
       "  '31.0744722',\n",
       "  '-81.4277778',\n",
       "  '11',\n",
       "  '-4',\n",
       "  'A'),\n",
       " ('0A9',\n",
       "  'Elizabethton Municipal Airport',\n",
       "  '36.3712222',\n",
       "  '-82.1734167',\n",
       "  '1593',\n",
       "  '-4',\n",
       "  'A'),\n",
       " ('0G6',\n",
       "  'Williams County Airport',\n",
       "  '41.4673056',\n",
       "  '-84.5067778',\n",
       "  '730',\n",
       "  '-5',\n",
       "  'A'),\n",
       " ('0G7',\n",
       "  'Finger Lakes Regional Airport',\n",
       "  '42.8835647',\n",
       "  '-76.7812318',\n",
       "  '492',\n",
       "  '-5',\n",
       "  'A'),\n",
       " ('0P2',\n",
       "  'Shoestring Aviation Airfield',\n",
       "  '39.7948244',\n",
       "  '-76.6471914',\n",
       "  '1000',\n",
       "  '-5',\n",
       "  'U'),\n",
       " ('0S9',\n",
       "  'Jefferson County Intl',\n",
       "  '48.0538086',\n",
       "  '-122.8106436',\n",
       "  '108',\n",
       "  '-8',\n",
       "  'A')]"
      ]
     },
     "execution_count": 17,
     "metadata": {},
     "output_type": "execute_result"
    }
   ],
   "source": [
    "\n",
    "rdd_airports.take(10)"
   ]
  },
  {
   "cell_type": "code",
   "execution_count": null,
   "id": "8f089048",
   "metadata": {},
   "outputs": [],
   "source": []
  },
  {
   "cell_type": "code",
   "execution_count": null,
   "id": "ce132e4f",
   "metadata": {},
   "outputs": [],
   "source": []
  },
  {
   "cell_type": "markdown",
   "id": "080b2aed",
   "metadata": {},
   "source": [
    "# Dataset airports"
   ]
  },
  {
   "cell_type": "markdown",
   "id": "92be721d",
   "metadata": {},
   "source": [
    "### 1 pergunta<br>\n"
   ]
  },
  {
   "cell_type": "code",
   "execution_count": 14,
   "id": "4037be8b",
   "metadata": {},
   "outputs": [
    {
     "name": "stdout",
     "output_type": "stream",
     "text": [
      "+---+-------------+---------+----------+---+---+---+\n",
      "|faa|         name|      lat|       lon|alt| tz|dst|\n",
      "+---+-------------+---------+----------+---+---+---+\n",
      "|IPL|  Imperial Co| 32.83422|-115.57874|-54| -8|  A|\n",
      "|NJK|El Centro Naf|32.829224|-115.67167|-42| -8|  A|\n",
      "+---+-------------+---------+----------+---+---+---+\n",
      "\n",
      "+---+----+---+---+---+---+---+\n",
      "|faa|name|lat|lon|alt| tz|dst|\n",
      "+---+----+---+---+---+---+---+\n",
      "+---+----+---+---+---+---+---+\n",
      "\n"
     ]
    }
   ],
   "source": [
    "# Usando Dataframe\n",
    "\n",
    "df_airports.filter(F.col('alt') < 0 ).show()\n",
    "\n",
    "df_airports = df_airports.withColumn('alt',\n",
    "                                      F.when(F.col('alt') < 0 , 0)\n",
    "                                       .otherwise(F.col('alt'))\n",
    "                                    )\n",
    "                                                                                 \n",
    "\n",
    "df_airports.filter(F.col('alt') < 0 ).show()\n"
   ]
  },
  {
   "cell_type": "code",
   "execution_count": 15,
   "id": "01de64ed",
   "metadata": {},
   "outputs": [
    {
     "data": {
      "text/html": [
       "<div>\n",
       "<style scoped>\n",
       "    .dataframe tbody tr th:only-of-type {\n",
       "        vertical-align: middle;\n",
       "    }\n",
       "\n",
       "    .dataframe tbody tr th {\n",
       "        vertical-align: top;\n",
       "    }\n",
       "\n",
       "    .dataframe thead th {\n",
       "        text-align: right;\n",
       "    }\n",
       "</style>\n",
       "<table border=\"1\" class=\"dataframe\">\n",
       "  <thead>\n",
       "    <tr style=\"text-align: right;\">\n",
       "      <th></th>\n",
       "      <th>alt</th>\n",
       "    </tr>\n",
       "  </thead>\n",
       "  <tbody>\n",
       "    <tr>\n",
       "      <th>0</th>\n",
       "      <td>833</td>\n",
       "    </tr>\n",
       "    <tr>\n",
       "      <th>1</th>\n",
       "      <td>1580</td>\n",
       "    </tr>\n",
       "    <tr>\n",
       "      <th>2</th>\n",
       "      <td>148</td>\n",
       "    </tr>\n",
       "    <tr>\n",
       "      <th>3</th>\n",
       "      <td>463</td>\n",
       "    </tr>\n",
       "    <tr>\n",
       "      <th>4</th>\n",
       "      <td>243</td>\n",
       "    </tr>\n",
       "    <tr>\n",
       "      <th>...</th>\n",
       "      <td>...</td>\n",
       "    </tr>\n",
       "    <tr>\n",
       "      <th>882</th>\n",
       "      <td>89</td>\n",
       "    </tr>\n",
       "    <tr>\n",
       "      <th>883</th>\n",
       "      <td>5431</td>\n",
       "    </tr>\n",
       "    <tr>\n",
       "      <th>884</th>\n",
       "      <td>4173</td>\n",
       "    </tr>\n",
       "    <tr>\n",
       "      <th>885</th>\n",
       "      <td>401</td>\n",
       "    </tr>\n",
       "    <tr>\n",
       "      <th>886</th>\n",
       "      <td>2376</td>\n",
       "    </tr>\n",
       "  </tbody>\n",
       "</table>\n",
       "<p>887 rows × 1 columns</p>\n",
       "</div>"
      ],
      "text/plain": [
       "      alt\n",
       "0     833\n",
       "1    1580\n",
       "2     148\n",
       "3     463\n",
       "4     243\n",
       "..    ...\n",
       "882    89\n",
       "883  5431\n",
       "884  4173\n",
       "885   401\n",
       "886  2376\n",
       "\n",
       "[887 rows x 1 columns]"
      ]
     },
     "execution_count": 15,
     "metadata": {},
     "output_type": "execute_result"
    }
   ],
   "source": [
    "df_airports.select('alt').distinct().toPandas()"
   ]
  },
  {
   "cell_type": "code",
   "execution_count": null,
   "id": "5e448a9b",
   "metadata": {},
   "outputs": [],
   "source": [
    "### Usando SQL\n"
   ]
  },
  {
   "cell_type": "code",
   "execution_count": null,
   "id": "c147c95e",
   "metadata": {},
   "outputs": [],
   "source": [
    "### Usando RDD \n"
   ]
  },
  {
   "cell_type": "markdown",
   "id": "4a9421e9",
   "metadata": {},
   "source": [
    "### 2 pergunta\n"
   ]
  },
  {
   "cell_type": "code",
   "execution_count": 16,
   "id": "30214db4",
   "metadata": {},
   "outputs": [],
   "source": [
    "Horario_verao ={\n",
    "    '(Europe)': \"E\",\n",
    "    '(US/Canada)':\"A\", \n",
    "    '(South America)':\"S\", \n",
    "    '(Australia)':\"O\", \n",
    "    '(New Zealand)':\"Z\", \n",
    "    '(None)': \"N\", \n",
    "    '(Unknown)':'U'}"
   ]
  },
  {
   "cell_type": "code",
   "execution_count": 17,
   "id": "1ac20493",
   "metadata": {},
   "outputs": [
    {
     "name": "stdout",
     "output_type": "stream",
     "text": [
      "{'(Europe)': 'E', '(US/Canada)': 'A', '(South America)': 'S', '(Australia)': 'O', '(New Zealand)': 'Z', '(None)': 'N', '(Unknown)': 'U'}\n"
     ]
    }
   ],
   "source": [
    "print(Horario_verao)"
   ]
  },
  {
   "cell_type": "code",
   "execution_count": 18,
   "id": "3c9a5a3b",
   "metadata": {},
   "outputs": [
    {
     "name": "stdout",
     "output_type": "stream",
     "text": [
      "+---+--------------------+---------+----------+----+---+---+\n",
      "|faa|                name|      lat|       lon| alt| tz|dst|\n",
      "+---+--------------------+---------+----------+----+---+---+\n",
      "|04G|   Lansdowne Airport|41.130474| -80.61958|1044| -5|  A|\n",
      "|06A|Moton Field Munic...| 32.46057| -85.68003| 264| -5|  A|\n",
      "|06C| Schaumburg Regional| 41.98934| -88.10124| 801| -6|  A|\n",
      "|06N|     Randall Airport| 41.43191| -74.39156| 523| -5|  A|\n",
      "|0G6|Williams County A...|41.467304|-84.506775| 730| -5|  A|\n",
      "|0G7|Finger Lakes Regi...|42.883564|-76.781235| 492| -5|  A|\n",
      "|0P2|Shoestring Aviati...|39.794823|-76.647194|1000| -5|  U|\n",
      "|0W3|Harford County Ai...|39.566837|  -76.2024| 409| -5|  A|\n",
      "|10C|  Galt Field Airport| 42.40289|-88.375114| 875| -6|  U|\n",
      "|17G|Port Bucyrus-Craw...|40.781555| -82.97481|1003| -5|  A|\n",
      "|1B9| Mansfield Municipal|42.000134| -71.19677| 122| -5|  A|\n",
      "|1CS|Clow Internationa...|41.695976|-88.129234| 670| -6|  U|\n",
      "|1OH|     Fortman Airport|40.555325| -84.38662| 885| -5|  U|\n",
      "|1RL|Point Roberts Air...| 48.97972|-123.07889|  10| -7|  A|\n",
      "|24C| Lowell City Airport| 42.95392|  -85.3439| 681| -5|  A|\n",
      "|24J|Suwannee County A...|30.300125|  -83.0247| 104| -5|  A|\n",
      "|25D| Forest Lake Airport|45.247746|-92.994385| 925| -5|  A|\n",
      "|29D|  Grove City Airport|41.146027| -80.16775|1371| -5|  A|\n",
      "|2G9|Somerset County A...| 40.03887| -79.01499|2275| -5|  A|\n",
      "|2J9|Quincy Municipal ...| 30.59787| -84.55743| 225| -5|  A|\n",
      "+---+--------------------+---------+----------+----+---+---+\n",
      "only showing top 20 rows\n",
      "\n"
     ]
    }
   ],
   "source": [
    "# Usando Dataframe\n",
    "\n",
    "df_airports.filter(F.col('tz').between(-7,-5)).show()\n",
    "\n",
    "df_airports = df_airports.withColumn('dst',\n",
    "                                     F.when(F.col('tz').between(-7,-5),Horario_verao['(US/Canada)'])\n",
    "                                     .otherwise(F.col('dst'))\n",
    "                                    )"
   ]
  },
  {
   "cell_type": "code",
   "execution_count": null,
   "id": "185a7536",
   "metadata": {},
   "outputs": [],
   "source": [
    "### Usando SQL"
   ]
  },
  {
   "cell_type": "code",
   "execution_count": null,
   "id": "d18dbf7e",
   "metadata": {},
   "outputs": [],
   "source": [
    "### Usando RDD \n"
   ]
  },
  {
   "cell_type": "markdown",
   "id": "6aef052a",
   "metadata": {},
   "source": [
    "### 3 pergunta "
   ]
  },
  {
   "cell_type": "code",
   "execution_count": 19,
   "id": "effa11b3",
   "metadata": {},
   "outputs": [
    {
     "name": "stdout",
     "output_type": "stream",
     "text": [
      "+---+--------------------+---------+----------+----+---+---+\n",
      "|faa|                name|      lat|       lon| alt| tz|dst|\n",
      "+---+--------------------+---------+----------+----+---+---+\n",
      "|19A|Jackson County Ai...|34.175865|  -83.5616| 951| -4|  U|\n",
      "|BLD|Boulder City Muni...|  35.5651|  -114.514|2201| -8|  U|\n",
      "|GCW|Grand Canyon West...|  35.5925| -113.4859|4825| -8|  U|\n",
      "|MXY|    McCarthy Airport| 61.43706|-142.90308|1531| -8|  U|\n",
      "|NGZ|         NAS Alameda|  37.7861| -122.3186|  10| -9|  U|\n",
      "|SWD|      Seward Airport|60.126938|-149.41881|  22| -8|  U|\n",
      "|SXQ|    Soldotna Airport|60.474957|-151.03824| 113| -8|  U|\n",
      "|WWT|      Newtok Airport|60.939167|-164.64111|  25|-10|  U|\n",
      "+---+--------------------+---------+----------+----+---+---+\n",
      "\n"
     ]
    }
   ],
   "source": [
    "# Usando Dataframe\n",
    "df_airports.filter(F.col('dst') == 'U').show()\n",
    "\n",
    "df_airports = df_airports.withColumn('dst',\n",
    "                                     F.when(F.col('dst') =='U', Horario_verao['(US/Canada)'])\n",
    "                                     .otherwise(F.col('dst')))\n",
    "                                     "
   ]
  },
  {
   "cell_type": "code",
   "execution_count": 20,
   "id": "df51320c",
   "metadata": {},
   "outputs": [
    {
     "name": "stdout",
     "output_type": "stream",
     "text": [
      "+---+----+---+---+---+---+---+\n",
      "|faa|name|lat|lon|alt| tz|dst|\n",
      "+---+----+---+---+---+---+---+\n",
      "+---+----+---+---+---+---+---+\n",
      "\n"
     ]
    }
   ],
   "source": [
    "df_airports.where(F.col('dst') == \"U\").show()"
   ]
  },
  {
   "cell_type": "code",
   "execution_count": null,
   "id": "77c9100c",
   "metadata": {},
   "outputs": [],
   "source": []
  },
  {
   "cell_type": "code",
   "execution_count": null,
   "id": "41708bd4",
   "metadata": {},
   "outputs": [],
   "source": [
    "### Usando SQL"
   ]
  },
  {
   "cell_type": "code",
   "execution_count": null,
   "id": "e498b5eb",
   "metadata": {},
   "outputs": [],
   "source": [
    "### Usando RDD "
   ]
  },
  {
   "cell_type": "markdown",
   "id": "74fed75f",
   "metadata": {},
   "source": [
    "### 4.pergunta"
   ]
  },
  {
   "cell_type": "code",
   "execution_count": 21,
   "id": "703eb2c5",
   "metadata": {},
   "outputs": [],
   "source": [
    "region = ['EUA', 'ALASKA', 'OFFSHORE','MAINLAND-WEST','MAINLAND-EAST']"
   ]
  },
  {
   "cell_type": "code",
   "execution_count": 22,
   "id": "8dafea6e",
   "metadata": {},
   "outputs": [
    {
     "name": "stdout",
     "output_type": "stream",
     "text": [
      "+-------------+-----+\n",
      "|       region|count|\n",
      "+-------------+-----+\n",
      "|       ALASKA|  261|\n",
      "|     OFFSHORE|    4|\n",
      "|MAINLAND-EAST|  696|\n",
      "|MAINLAND-WEST|  436|\n",
      "+-------------+-----+\n",
      "\n"
     ]
    }
   ],
   "source": [
    "# Usando Dataframe\n",
    "\n",
    "df_airports = df_airports.withColumn(\"region\", \n",
    "                                    F.when(F.col(\"lon\") < -124, 'ALASKA')\n",
    "                                     .when((F.col(\"lon\") > -50) | (F.col(\"lat\") < 24),'OFFSHORE')\n",
    "                                     .when( F.col(\"lon\").between(-124,-95), 'MAINLAND-WEST')\n",
    "                                     .when( F.col(\"lon\").between(-95, -50), 'MAINLAND-EAST')\n",
    "                                     .otherwise('NaN'))\n",
    "\n",
    "df_airports.groupBy('region').count().show()"
   ]
  },
  {
   "cell_type": "code",
   "execution_count": null,
   "id": "f30f6b9b",
   "metadata": {},
   "outputs": [],
   "source": [
    "### Usando SQL"
   ]
  },
  {
   "cell_type": "code",
   "execution_count": null,
   "id": "1f1857dc",
   "metadata": {},
   "outputs": [],
   "source": [
    "### Usando RDD"
   ]
  },
  {
   "cell_type": "markdown",
   "id": "59bdecdc",
   "metadata": {},
   "source": [
    "###  5. pergunta\n"
   ]
  },
  {
   "cell_type": "code",
   "execution_count": 23,
   "id": "683f8c58",
   "metadata": {},
   "outputs": [
    {
     "name": "stdout",
     "output_type": "stream",
     "text": [
      "+----+-----+\n",
      "|type|count|\n",
      "+----+-----+\n",
      "|  AD|    1|\n",
      "| NaN|  657|\n",
      "|  AS|   19|\n",
      "|  FL|   84|\n",
      "|  AK|   12|\n",
      "|  AP|  624|\n",
      "+----+-----+\n",
      "\n",
      "+---+--------------------+---------+-----------+----+---+---+-------------+----+\n",
      "|faa|                name|      lat|        lon| alt| tz|dst|       region|type|\n",
      "+---+--------------------+---------+-----------+----+---+---+-------------+----+\n",
      "|06C| Schaumburg Regional| 41.98934|  -88.10124| 801| -6|  A|MAINLAND-EAST| NaN|\n",
      "|0P2|Shoestring Aviati...|39.794823| -76.647194|1000| -5|  A|MAINLAND-EAST| NaN|\n",
      "|0S9|Jefferson County ...| 48.05381|-122.810646| 108| -8|  A|MAINLAND-WEST| NaN|\n",
      "|1B9| Mansfield Municipal|42.000134|  -71.19677| 122| -5|  A|MAINLAND-EAST| NaN|\n",
      "|3G3| Wadsworth Municipal| 41.00316|  -81.75644| 974| -5|  A|MAINLAND-EAST| NaN|\n",
      "|49X|   Chemehuevi Valley| 34.52889| -114.43197| 638| -8|  A|MAINLAND-WEST| NaN|\n",
      "|ABE|  Lehigh Valley Intl|40.652084|   -75.4408| 393| -5|  A|MAINLAND-EAST| NaN|\n",
      "|ABI|        Abilene Rgnl| 32.41132|   -99.6819|1791| -6|  A|MAINLAND-WEST| NaN|\n",
      "|ABQ|Albuquerque Inter...|35.040222| -106.60919|5355| -7|  A|MAINLAND-WEST| NaN|\n",
      "|ACK|       Nantucket Mem| 41.25305|  -70.06018|  48| -5|  A|MAINLAND-EAST| NaN|\n",
      "|ACT|           Waco Rgnl|31.611288|  -97.23052| 516| -6|  A|MAINLAND-WEST| NaN|\n",
      "|ACV|              Arcata| 40.97811| -124.10861| 221| -8|  A|       ALASKA| NaN|\n",
      "|ACY|  Atlantic City Intl|39.457584|  -74.57716|  75| -5|  A|MAINLAND-EAST| NaN|\n",
      "|ADM|        Ardmore Muni|34.300835|  -97.00889| 762| -6|  A|MAINLAND-WEST| NaN|\n",
      "|ADQ|              Kodiak|57.749966| -152.49385|  78| -9|  A|       ALASKA| NaN|\n",
      "|ADS|             Addison| 32.96856|  -96.83645| 644| -5|  A|MAINLAND-WEST| NaN|\n",
      "|ADW|         Andrews Afb|38.810806|  -76.86703| 280| -5|  A|MAINLAND-EAST| NaN|\n",
      "|AEX|     Alexandria Intl|  31.3274| -92.549835|  89| -6|  A|MAINLAND-EAST| NaN|\n",
      "|AGN|Angoon Seaplane Base|57.503613|   -134.585|   0| -9|  A|       ALASKA| NaN|\n",
      "|AKC|   Akron Fulton Intl|  41.0375|  -81.46692|1067| -5|  A|MAINLAND-EAST| NaN|\n",
      "+---+--------------------+---------+-----------+----+---+---+-------------+----+\n",
      "only showing top 20 rows\n",
      "\n"
     ]
    }
   ],
   "source": [
    "# Usando dataframe\n",
    "\n",
    "REGEX_AP_CATEGORY = '.*Airport*|.*Tradeport*|.*Heliport*|.*Airpor*|.*Arpt*'\n",
    "REGEX_AD_CATEGORY = '.*Aerodrome*'\n",
    "REGEX_AK_CATEGORY = '.*Airpark*|.*Aero Park*'\n",
    "REGEX_AS_CATEGORY = '.*Station*|.*Air Station*'\n",
    "REGEX_FL_CATEGORY = '.*Field*|.*Fld*'\n",
    "\n",
    "df_airports = df_airports.withColumn('type', (\n",
    "                                        F.when(F.col('name').rlike(REGEX_AP_CATEGORY), 'AP')\n",
    "                                         .when(F.col('name').rlike(REGEX_AD_CATEGORY), 'AD')\n",
    "                                         .when(F.col('name').rlike(REGEX_AK_CATEGORY), 'AK')\n",
    "                                         .when(F.col('name').rlike(REGEX_AS_CATEGORY), 'AS')\n",
    "                                         .when(F.col('name').rlike(REGEX_FL_CATEGORY), 'FL')\n",
    "                                        ).otherwise('NaN'))\n",
    "\n",
    "df_airports.groupBy('type').count().show()\n",
    "df_airports.filter(F.col('type') == 'NaN').show()\n",
    "\n",
    "\n"
   ]
  },
  {
   "cell_type": "code",
   "execution_count": 29,
   "id": "71c55e24",
   "metadata": {},
   "outputs": [],
   "source": [
    "### Usando DataFrame\n",
    "\n",
    "\n",
    "\n",
    "\n",
    "                                     \n",
    "                                         \n"
   ]
  },
  {
   "cell_type": "code",
   "execution_count": 31,
   "id": "5758a741",
   "metadata": {},
   "outputs": [
    {
     "name": "stdout",
     "output_type": "stream",
     "text": [
      "+---+--------------------+---------+----------+----+---+----+---------------+\n",
      "|faa|                name|      lat|       lon| alt| tz| dst|type (category)|\n",
      "+---+--------------------+---------+----------+----+---+----+---------------+\n",
      "|04G|   Lansdowne Airport|41.130474| -80.61958|null| -5|   A|             AP|\n",
      "|06A|Moton Field Munic...| 32.46057| -85.68003|null| -5|   A|             AP|\n",
      "|06N|     Randall Airport| 41.43191| -74.39156|null| -5|   A|             AP|\n",
      "|09J|Jekyll Island Air...|31.074472| -81.42778|null| -4|   A|             AP|\n",
      "|0A9|Elizabethton Muni...|36.371223|-82.173416|null| -4|   A|             AP|\n",
      "|0G6|Williams County A...|41.467304|-84.506775|null| -5|   A|             AP|\n",
      "|0G7|Finger Lakes Regi...|42.883564|-76.781235|null| -5|   A|             AP|\n",
      "|0W3|Harford County Ai...|39.566837|  -76.2024|null| -5|   A|             AP|\n",
      "|10C|  Galt Field Airport| 42.40289|-88.375114|null| -6|null|             AP|\n",
      "|17G|Port Bucyrus-Craw...|40.781555| -82.97481|null| -5|   A|             AP|\n",
      "|19A|Jackson County Ai...|34.175865|  -83.5616|null| -4|   A|             AP|\n",
      "|1A3|Martin Campbell F...|35.015804| -84.34683|null| -4|   A|             AP|\n",
      "|1CS|Clow Internationa...|41.695976|-88.129234|null| -6|null|             AP|\n",
      "|1G3|  Kent State Airport| 41.15139| -81.41511|null| -4|   A|             AP|\n",
      "|1OH|     Fortman Airport|40.555325| -84.38662|null| -5|   A|             AP|\n",
      "|24C| Lowell City Airport| 42.95392|  -85.3439|null| -5|   A|             AP|\n",
      "|24J|Suwannee County A...|30.300125|  -83.0247|null| -5|   A|             AP|\n",
      "|25D| Forest Lake Airport|45.247746|-92.994385|null| -5|   A|             AP|\n",
      "|29D|  Grove City Airport|41.146027| -80.16775|null| -5|   A|             AP|\n",
      "|2A0|  Mark Anton Airport| 35.48625| -84.93108|null| -4|   A|             AP|\n",
      "+---+--------------------+---------+----------+----+---+----+---------------+\n",
      "only showing top 20 rows\n",
      "\n"
     ]
    }
   ],
   "source": [
    "df_airports.where(F.col('type (category)')=='AP').show()"
   ]
  },
  {
   "cell_type": "code",
   "execution_count": null,
   "id": "9785da55",
   "metadata": {},
   "outputs": [],
   "source": [
    "### Usando SQL"
   ]
  },
  {
   "cell_type": "code",
   "execution_count": null,
   "id": "3dd24146",
   "metadata": {},
   "outputs": [],
   "source": [
    "### Usando RDD"
   ]
  },
  {
   "cell_type": "markdown",
   "id": "fa28ea62",
   "metadata": {},
   "source": [
    "### 6.pergunta\n"
   ]
  },
  {
   "cell_type": "code",
   "execution_count": 24,
   "id": "4f077149",
   "metadata": {
    "scrolled": true
   },
   "outputs": [],
   "source": [
    "LIST_TRUE = [\"Base\", \"Aaf\", \"AFs\", \"Ahp\", \"Afb\", \"LRRS\", \"Lrrs\", \"Arb\",\n",
    "             \"Naf\", \"NAS\", \"Nas\", \"Jrb\", \"Ns\", \"As\", \"Cgas\", \"Angb\"]\n",
    "\n",
    "## TRUE_REGEX = r'|'.join(map(lambda x : f\".*({x}).*\", LIST_TRUE))\n"
   ]
  },
  {
   "cell_type": "code",
   "execution_count": 25,
   "id": "6b844277",
   "metadata": {},
   "outputs": [
    {
     "name": "stdout",
     "output_type": "stream",
     "text": [
      "+--------+-----+\n",
      "|military|count|\n",
      "+--------+-----+\n",
      "|    true|  166|\n",
      "|   false| 1231|\n",
      "+--------+-----+\n",
      "\n"
     ]
    }
   ],
   "source": [
    "df_airports = df_airports.withColumn('military',\n",
    "                                    F.when(F.col('name').rlike(create_regex_from_list(LIST_TRUE)), True)\n",
    "                                    .otherwise(False))\n",
    "\n",
    "df_airports.groupBy('military').count().show()\n"
   ]
  },
  {
   "cell_type": "code",
   "execution_count": null,
   "id": "0f6a6ca8",
   "metadata": {},
   "outputs": [],
   "source": [
    "### Usando DataFrame"
   ]
  },
  {
   "cell_type": "code",
   "execution_count": null,
   "id": "86e5972f",
   "metadata": {},
   "outputs": [],
   "source": [
    "### Usando SQL"
   ]
  },
  {
   "cell_type": "code",
   "execution_count": null,
   "id": "db528c65",
   "metadata": {},
   "outputs": [],
   "source": [
    "### Usando RDD"
   ]
  },
  {
   "cell_type": "markdown",
   "id": "34316ae6",
   "metadata": {},
   "source": [
    "### 7 pergunta\n"
   ]
  },
  {
   "cell_type": "code",
   "execution_count": 26,
   "id": "9c24679a",
   "metadata": {},
   "outputs": [],
   "source": [
    "#lists\n",
    "I_TYPES = [\"International\", \"Intl\", \"Intercontinental\"]\n",
    "N_TYPES = [\"National\", \"Natl\"]\n",
    "R_TYPES = [\"Regional\", \"Reigonal\", \"Rgnl\", \"County\", \"Metro\" \"Metropolitan\"]\n",
    "M_TYPES = [\"Municipal\", \"Muni\", 'City']\n",
    "\n",
    "# Usando dataframe\n",
    "df_airports = df_airports.withColumn('administration',(\n",
    "        F.when(\n",
    "            F.col('name').rlike(create_regex_from_list(I_TYPES)), 'I'\n",
    "        ).when(\n",
    "            F.col('name').rlike(create_regex_from_list(N_TYPES)), 'N'\n",
    "        ).when(\n",
    "            F.col('name').rlike(create_regex_from_list(R_TYPES)), 'R'\n",
    "        ).when(\n",
    "            F.col('name').rlike(create_regex_from_list(M_TYPES)), 'M'\n",
    "        ).otherwise('NaN')\n",
    "    ))"
   ]
  },
  {
   "cell_type": "code",
   "execution_count": 27,
   "id": "eece9253",
   "metadata": {},
   "outputs": [
    {
     "name": "stdout",
     "output_type": "stream",
     "text": [
      "+---+--------------------+---------+-----------+----+---+---+-------------+----+--------+--------------+\n",
      "|faa|                name|      lat|        lon| alt| tz|dst|       region|type|military|administration|\n",
      "+---+--------------------+---------+-----------+----+---+---+-------------+----+--------+--------------+\n",
      "|0S9|Jefferson County ...| 48.05381|-122.810646| 108| -8|  A|MAINLAND-WEST| NaN|   false|             I|\n",
      "|1CS|Clow Internationa...|41.695976| -88.129234| 670| -6|  A|MAINLAND-EAST|  AP|   false|             I|\n",
      "|ABE|  Lehigh Valley Intl|40.652084|   -75.4408| 393| -5|  A|MAINLAND-EAST| NaN|   false|             I|\n",
      "|ABQ|Albuquerque Inter...|35.040222| -106.60919|5355| -7|  A|MAINLAND-WEST| NaN|   false|             I|\n",
      "|ACY|  Atlantic City Intl|39.457584|  -74.57716|  75| -5|  A|MAINLAND-EAST| NaN|   false|             I|\n",
      "|AEX|     Alexandria Intl|  31.3274| -92.549835|  89| -6|  A|MAINLAND-EAST| NaN|   false|             I|\n",
      "|AKC|   Akron Fulton Intl|  41.0375|  -81.46692|1067| -5|  A|MAINLAND-EAST| NaN|   false|             I|\n",
      "|ALB|         Albany Intl| 42.74827|  -73.80169| 285| -5|  A|MAINLAND-EAST| NaN|   false|             I|\n",
      "|ALI|          Alice Intl|27.740889|  -98.02695| 178| -6|  A|MAINLAND-WEST| NaN|   false|             I|\n",
      "|AMA|Rick Husband Amar...|35.219368| -101.70593|3607| -6|  A|MAINLAND-WEST| NaN|   false|             I|\n",
      "|ANC|Ted Stevens Ancho...|61.174362| -149.99637| 152| -9|  A|       ALASKA| NaN|   false|             I|\n",
      "|ART|      Watertown Intl| 43.99192| -76.021736| 325| -5|  A|MAINLAND-EAST| NaN|   false|             I|\n",
      "|ATL|Hartsfield Jackso...| 33.63672|  -84.42807|1026| -5|  A|MAINLAND-EAST| NaN|   false|             I|\n",
      "|AUS|Austin Bergstrom ...|30.194529|  -97.66989| 542| -6|  A|MAINLAND-WEST| NaN|   false|             I|\n",
      "|AVP|Wilkes Barre Scra...|41.338478| -75.723404| 962| -5|  A|MAINLAND-EAST| NaN|   false|             I|\n",
      "|BDE|       Baudette Intl|48.728443|  -94.61222|1086| -6|  A|MAINLAND-EAST| NaN|   false|             I|\n",
      "|BDL|        Bradley Intl| 41.93889|  -72.68322| 173| -5|  A|MAINLAND-EAST| NaN|   false|             I|\n",
      "|BFI|Boeing Fld King C...|    47.53| -122.30195|  21| -8|  A|MAINLAND-WEST|  FL|   false|             I|\n",
      "|BGR|         Bangor Intl|44.807446|  -68.82814| 192| -5|  A|MAINLAND-EAST| NaN|   false|             I|\n",
      "|BHM|     Birmingham Intl|33.562943|  -86.75355| 644| -6|  A|MAINLAND-EAST| NaN|   false|             I|\n",
      "+---+--------------------+---------+-----------+----+---+---+-------------+----+--------+--------------+\n",
      "only showing top 20 rows\n",
      "\n"
     ]
    }
   ],
   "source": [
    "df_airports.filter(F.col('administration') =='I').show()"
   ]
  },
  {
   "cell_type": "code",
   "execution_count": 28,
   "id": "0e2d0a5f",
   "metadata": {},
   "outputs": [
    {
     "name": "stdout",
     "output_type": "stream",
     "text": [
      "+--------------+-----+\n",
      "|administration|count|\n",
      "+--------------+-----+\n",
      "|             M|  180|\n",
      "|             N|    5|\n",
      "|             R|  276|\n",
      "|           NaN|  772|\n",
      "|             I|  164|\n",
      "+--------------+-----+\n",
      "\n"
     ]
    }
   ],
   "source": [
    "df_airports.groupBy('administration').count().show()"
   ]
  },
  {
   "cell_type": "markdown",
   "id": "082b9d7e",
   "metadata": {},
   "source": [
    "# Dataset Planes"
   ]
  },
  {
   "cell_type": "markdown",
   "id": "871baa8d",
   "metadata": {},
   "source": [
    "### Pergunta 1 "
   ]
  },
  {
   "cell_type": "code",
   "execution_count": 31,
   "id": "06159a57",
   "metadata": {},
   "outputs": [],
   "source": [
    "df_planes = df_planes.withColumn('tailchar',                                 \n",
    "                                 F.regexp_replace(F.col(\"tailnum\"),\"N\",\"\"))\n"
   ]
  },
  {
   "cell_type": "code",
   "execution_count": 32,
   "id": "66541c69",
   "metadata": {},
   "outputs": [
    {
     "name": "stdout",
     "output_type": "stream",
     "text": [
      "+-------+--------+\n",
      "|tailnum|tailchar|\n",
      "+-------+--------+\n",
      "| N102UW|   102UW|\n",
      "| N103US|   103US|\n",
      "| N104UW|   104UW|\n",
      "| N105UW|   105UW|\n",
      "| N107US|   107US|\n",
      "| N108UW|   108UW|\n",
      "| N109UW|   109UW|\n",
      "| N110UW|   110UW|\n",
      "| N111US|   111US|\n",
      "| N11206|   11206|\n",
      "| N112US|   112US|\n",
      "| N113UW|   113UW|\n",
      "| N114UW|   114UW|\n",
      "| N117UW|   117UW|\n",
      "| N118US|   118US|\n",
      "| N119US|   119US|\n",
      "| N1200K|   1200K|\n",
      "| N1201P|   1201P|\n",
      "| N12114|   12114|\n",
      "| N121DE|   121DE|\n",
      "+-------+--------+\n",
      "only showing top 20 rows\n",
      "\n"
     ]
    }
   ],
   "source": [
    "df_planes.select('tailnum','tailchar').filter(F.col('tailnum').contains('N')).show()"
   ]
  },
  {
   "cell_type": "markdown",
   "id": "55f6aef0",
   "metadata": {},
   "source": [
    "### Pergunta 2"
   ]
  },
  {
   "cell_type": "code",
   "execution_count": 33,
   "id": "0ee21fcc",
   "metadata": {},
   "outputs": [],
   "source": [
    "# Usando Dataframe\n",
    "df_planes.filter(F.col(\"year\") == 0).count()\n",
    "\n",
    "df_planes = df_planes.withColumn('year', (\n",
    "    F.when(F.col('year') == 0, 1996)\n",
    "     .otherwise(F.col('year'))\n",
    "))\n"
   ]
  },
  {
   "cell_type": "code",
   "execution_count": 34,
   "id": "5e495367",
   "metadata": {},
   "outputs": [
    {
     "data": {
      "text/plain": [
       "0"
      ]
     },
     "execution_count": 34,
     "metadata": {},
     "output_type": "execute_result"
    }
   ],
   "source": [
    "df_planes.filter(F.col(\"year\") == 0).count()"
   ]
  },
  {
   "cell_type": "markdown",
   "id": "8fc6b74f",
   "metadata": {},
   "source": [
    "### Pergunta 3"
   ]
  },
  {
   "cell_type": "code",
   "execution_count": 35,
   "id": "5d36c97f",
   "metadata": {},
   "outputs": [
    {
     "name": "stdout",
     "output_type": "stream",
     "text": [
      "+-------+----+--------------------+----------------+--------+-------+-----+-----+---------+--------+\n",
      "|tailnum|year|                type|    manufacturer|   model|engines|seats|speed|   engine|tailchar|\n",
      "+-------+----+--------------------+----------------+--------+-------+-----+-----+---------+--------+\n",
      "| N102UW|1998|Fixed wing multi ...|AIRBUS INDUSTRIE|A320-214|      2|  182| null|Turbo-fan|   102UW|\n",
      "| N103US|1999|Fixed wing multi ...|AIRBUS INDUSTRIE|A320-214|      2|  182| null|Turbo-fan|   103US|\n",
      "| N104UW|1999|Fixed wing multi ...|AIRBUS INDUSTRIE|A320-214|      2|  182| null|Turbo-fan|   104UW|\n",
      "| N105UW|1999|Fixed wing multi ...|AIRBUS INDUSTRIE|A320-214|      2|  182| null|Turbo-fan|   105UW|\n",
      "| N107US|1999|Fixed wing multi ...|AIRBUS INDUSTRIE|A320-214|      2|  182| null|Turbo-fan|   107US|\n",
      "| N108UW|1999|Fixed wing multi ...|AIRBUS INDUSTRIE|A320-214|      2|  182| null|Turbo-fan|   108UW|\n",
      "| N109UW|1999|Fixed wing multi ...|AIRBUS INDUSTRIE|A320-214|      2|  182| null|Turbo-fan|   109UW|\n",
      "| N110UW|1999|Fixed wing multi ...|AIRBUS INDUSTRIE|A320-214|      2|  182| null|Turbo-fan|   110UW|\n",
      "| N111US|1999|Fixed wing multi ...|AIRBUS INDUSTRIE|A320-214|      2|  182| null|Turbo-fan|   111US|\n",
      "| N11206|2000|Fixed wing multi ...|          BOEING| 737-824|      2|  149| null|Turbo-fan|   11206|\n",
      "| N112US|1999|Fixed wing multi ...|AIRBUS INDUSTRIE|A320-214|      2|  182| null|Turbo-fan|   112US|\n",
      "| N113UW|1999|Fixed wing multi ...|AIRBUS INDUSTRIE|A320-214|      2|  182| null|Turbo-fan|   113UW|\n",
      "| N114UW|1999|Fixed wing multi ...|AIRBUS INDUSTRIE|A320-214|      2|  182| null|Turbo-fan|   114UW|\n",
      "| N117UW|2000|Fixed wing multi ...|AIRBUS INDUSTRIE|A320-214|      2|  182| null|Turbo-fan|   117UW|\n",
      "| N118US|2000|Fixed wing multi ...|AIRBUS INDUSTRIE|A320-214|      2|  182| null|Turbo-fan|   118US|\n",
      "| N119US|2000|Fixed wing multi ...|AIRBUS INDUSTRIE|A320-214|      2|  182| null|Turbo-fan|   119US|\n",
      "| N1200K|1998|Fixed wing multi ...|          BOEING| 767-332|      2|  330| null|Turbo-fan|   1200K|\n",
      "| N1201P|1998|Fixed wing multi ...|          BOEING| 767-332|      2|  330| null|Turbo-fan|   1201P|\n",
      "| N12114|1995|Fixed wing multi ...|          BOEING| 757-224|      2|  178| null|Turbo-jet|   12114|\n",
      "| N121DE|1987|Fixed wing multi ...|          BOEING| 767-332|      2|  330| null|Turbo-fan|   121DE|\n",
      "+-------+----+--------------------+----------------+--------+-------+-----+-----+---------+--------+\n",
      "only showing top 20 rows\n",
      "\n"
     ]
    }
   ],
   "source": [
    "# Criando tabela ordenada por Manufacturer e Model\n",
    "df_ordered = df_planes.groupBy(\"manufacturer\",'model').min('year').orderBy('manufacturer','model')\n",
    "\n",
    "# Renomeando colunas\n",
    "df_ordered = df_ordered.withColumnRenamed('manufacturer', 'manufacturer1').withColumnRenamed('model', 'model1') \\\n",
    "                                                                          .withColumnRenamed('min(year)', 'year1')\n",
    "\n",
    "# Criando tabela ordenada somente por manufacturer\n",
    "df_ordered2 = df_planes.groupBy('manufacturer').min('year').orderBy('manufacturer')\n",
    "\n",
    "\n",
    "# Renomeando colunas\n",
    "df_ordered2 = df_ordered2.withColumnRenamed('manufacturer', 'manufacturer2') \\\n",
    ".withColumnRenamed('min(year)', 'year2')\n",
    "\n",
    "\n",
    "df_final = df_planes.join(df_ordered, (df_planes.manufacturer == df_ordered.manufacturer1) &\n",
    "(df_planes.model == df_ordered.model1),'left')\n",
    "\n",
    "# Fazendo left join da tabela df_final com a df_ordered2\n",
    "\n",
    "df_final = df_final.join(df_ordered2, df_final.manufacturer == df_ordered2.manufacturer2 , 'left')\n",
    "\n",
    "\n",
    "\n",
    "# Modificando a coluna year para inputar os anos\n",
    "\n",
    "df_final = df_final.withColumn('year',\n",
    "F.when((F.col('year').isNull()) & (F.col('year1').isNull()) & (F.col('year2').isNull()), \"NaN\")\n",
    ".when((F.col('year').isNull()) & (F.col('year1').isNull()), F.col('year2'))\n",
    ".when(F.col('year').isNull(), F.col('year1'))\n",
    ".otherwise(F.col('year'))\n",
    ")\n",
    "# Dropando as colunas criadas pelo join \n",
    "df_planes = df_final.drop('manufacturer1','manufacturer2','model1','year1','year2')\n",
    "\n",
    "df_planes.show()"
   ]
  },
  {
   "cell_type": "code",
   "execution_count": null,
   "id": "c06d826f",
   "metadata": {},
   "outputs": [],
   "source": []
  },
  {
   "cell_type": "markdown",
   "id": "fb56e0fc",
   "metadata": {},
   "source": [
    "### Pergunta 4"
   ]
  },
  {
   "cell_type": "code",
   "execution_count": 38,
   "id": "65980272",
   "metadata": {},
   "outputs": [
    {
     "name": "stdout",
     "output_type": "stream",
     "text": [
      "-RECORD 0----------------------------\n",
      " tailnum      | N102UW               \n",
      " year         | 1998                 \n",
      " type         | Fixed wing multi ... \n",
      " manufacturer | AIRBUS INDUSTRIE     \n",
      " model        | A320-214             \n",
      " engines      | 2                    \n",
      " seats        | 182                  \n",
      " speed        | null                 \n",
      " engine       | Turbo-fan            \n",
      " tailchar     | 102UW                \n",
      " age          | 24                   \n",
      "-RECORD 1----------------------------\n",
      " tailnum      | N103US               \n",
      " year         | 1999                 \n",
      " type         | Fixed wing multi ... \n",
      " manufacturer | AIRBUS INDUSTRIE     \n",
      " model        | A320-214             \n",
      " engines      | 2                    \n",
      " seats        | 182                  \n",
      " speed        | null                 \n",
      " engine       | Turbo-fan            \n",
      " tailchar     | 103US                \n",
      " age          | 23                   \n",
      "-RECORD 2----------------------------\n",
      " tailnum      | N104UW               \n",
      " year         | 1999                 \n",
      " type         | Fixed wing multi ... \n",
      " manufacturer | AIRBUS INDUSTRIE     \n",
      " model        | A320-214             \n",
      " engines      | 2                    \n",
      " seats        | 182                  \n",
      " speed        | null                 \n",
      " engine       | Turbo-fan            \n",
      " tailchar     | 104UW                \n",
      " age          | 23                   \n",
      "-RECORD 3----------------------------\n",
      " tailnum      | N105UW               \n",
      " year         | 1999                 \n",
      " type         | Fixed wing multi ... \n",
      " manufacturer | AIRBUS INDUSTRIE     \n",
      " model        | A320-214             \n",
      " engines      | 2                    \n",
      " seats        | 182                  \n",
      " speed        | null                 \n",
      " engine       | Turbo-fan            \n",
      " tailchar     | 105UW                \n",
      " age          | 23                   \n",
      "-RECORD 4----------------------------\n",
      " tailnum      | N107US               \n",
      " year         | 1999                 \n",
      " type         | Fixed wing multi ... \n",
      " manufacturer | AIRBUS INDUSTRIE     \n",
      " model        | A320-214             \n",
      " engines      | 2                    \n",
      " seats        | 182                  \n",
      " speed        | null                 \n",
      " engine       | Turbo-fan            \n",
      " tailchar     | 107US                \n",
      " age          | 23                   \n",
      "-RECORD 5----------------------------\n",
      " tailnum      | N108UW               \n",
      " year         | 1999                 \n",
      " type         | Fixed wing multi ... \n",
      " manufacturer | AIRBUS INDUSTRIE     \n",
      " model        | A320-214             \n",
      " engines      | 2                    \n",
      " seats        | 182                  \n",
      " speed        | null                 \n",
      " engine       | Turbo-fan            \n",
      " tailchar     | 108UW                \n",
      " age          | 23                   \n",
      "-RECORD 6----------------------------\n",
      " tailnum      | N109UW               \n",
      " year         | 1999                 \n",
      " type         | Fixed wing multi ... \n",
      " manufacturer | AIRBUS INDUSTRIE     \n",
      " model        | A320-214             \n",
      " engines      | 2                    \n",
      " seats        | 182                  \n",
      " speed        | null                 \n",
      " engine       | Turbo-fan            \n",
      " tailchar     | 109UW                \n",
      " age          | 23                   \n",
      "-RECORD 7----------------------------\n",
      " tailnum      | N110UW               \n",
      " year         | 1999                 \n",
      " type         | Fixed wing multi ... \n",
      " manufacturer | AIRBUS INDUSTRIE     \n",
      " model        | A320-214             \n",
      " engines      | 2                    \n",
      " seats        | 182                  \n",
      " speed        | null                 \n",
      " engine       | Turbo-fan            \n",
      " tailchar     | 110UW                \n",
      " age          | 23                   \n",
      "-RECORD 8----------------------------\n",
      " tailnum      | N111US               \n",
      " year         | 1999                 \n",
      " type         | Fixed wing multi ... \n",
      " manufacturer | AIRBUS INDUSTRIE     \n",
      " model        | A320-214             \n",
      " engines      | 2                    \n",
      " seats        | 182                  \n",
      " speed        | null                 \n",
      " engine       | Turbo-fan            \n",
      " tailchar     | 111US                \n",
      " age          | 23                   \n",
      "-RECORD 9----------------------------\n",
      " tailnum      | N11206               \n",
      " year         | 2000                 \n",
      " type         | Fixed wing multi ... \n",
      " manufacturer | BOEING               \n",
      " model        | 737-824              \n",
      " engines      | 2                    \n",
      " seats        | 149                  \n",
      " speed        | null                 \n",
      " engine       | Turbo-fan            \n",
      " tailchar     | 11206                \n",
      " age          | 22                   \n",
      "-RECORD 10---------------------------\n",
      " tailnum      | N112US               \n",
      " year         | 1999                 \n",
      " type         | Fixed wing multi ... \n",
      " manufacturer | AIRBUS INDUSTRIE     \n",
      " model        | A320-214             \n",
      " engines      | 2                    \n",
      " seats        | 182                  \n",
      " speed        | null                 \n",
      " engine       | Turbo-fan            \n",
      " tailchar     | 112US                \n",
      " age          | 23                   \n",
      "-RECORD 11---------------------------\n",
      " tailnum      | N113UW               \n",
      " year         | 1999                 \n",
      " type         | Fixed wing multi ... \n",
      " manufacturer | AIRBUS INDUSTRIE     \n",
      " model        | A320-214             \n",
      " engines      | 2                    \n",
      " seats        | 182                  \n",
      " speed        | null                 \n",
      " engine       | Turbo-fan            \n",
      " tailchar     | 113UW                \n",
      " age          | 23                   \n",
      "-RECORD 12---------------------------\n",
      " tailnum      | N114UW               \n",
      " year         | 1999                 \n",
      " type         | Fixed wing multi ... \n",
      " manufacturer | AIRBUS INDUSTRIE     \n",
      " model        | A320-214             \n",
      " engines      | 2                    \n",
      " seats        | 182                  \n",
      " speed        | null                 \n",
      " engine       | Turbo-fan            \n",
      " tailchar     | 114UW                \n",
      " age          | 23                   \n",
      "-RECORD 13---------------------------\n",
      " tailnum      | N117UW               \n",
      " year         | 2000                 \n",
      " type         | Fixed wing multi ... \n",
      " manufacturer | AIRBUS INDUSTRIE     \n",
      " model        | A320-214             \n",
      " engines      | 2                    \n",
      " seats        | 182                  \n",
      " speed        | null                 \n",
      " engine       | Turbo-fan            \n",
      " tailchar     | 117UW                \n",
      " age          | 22                   \n",
      "-RECORD 14---------------------------\n",
      " tailnum      | N118US               \n",
      " year         | 2000                 \n",
      " type         | Fixed wing multi ... \n",
      " manufacturer | AIRBUS INDUSTRIE     \n",
      " model        | A320-214             \n",
      " engines      | 2                    \n",
      " seats        | 182                  \n",
      " speed        | null                 \n",
      " engine       | Turbo-fan            \n",
      " tailchar     | 118US                \n",
      " age          | 22                   \n",
      "-RECORD 15---------------------------\n",
      " tailnum      | N119US               \n",
      " year         | 2000                 \n",
      " type         | Fixed wing multi ... \n",
      " manufacturer | AIRBUS INDUSTRIE     \n",
      " model        | A320-214             \n",
      " engines      | 2                    \n",
      " seats        | 182                  \n",
      " speed        | null                 \n",
      " engine       | Turbo-fan            \n",
      " tailchar     | 119US                \n",
      " age          | 22                   \n",
      "-RECORD 16---------------------------\n",
      " tailnum      | N1200K               \n",
      " year         | 1998                 \n",
      " type         | Fixed wing multi ... \n",
      " manufacturer | BOEING               \n",
      " model        | 767-332              \n",
      " engines      | 2                    \n",
      " seats        | 330                  \n",
      " speed        | null                 \n",
      " engine       | Turbo-fan            \n",
      " tailchar     | 1200K                \n",
      " age          | 24                   \n",
      "-RECORD 17---------------------------\n",
      " tailnum      | N1201P               \n",
      " year         | 1998                 \n",
      " type         | Fixed wing multi ... \n",
      " manufacturer | BOEING               \n",
      " model        | 767-332              \n",
      " engines      | 2                    \n",
      " seats        | 330                  \n",
      " speed        | null                 \n",
      " engine       | Turbo-fan            \n",
      " tailchar     | 1201P                \n",
      " age          | 24                   \n",
      "-RECORD 18---------------------------\n",
      " tailnum      | N12114               \n",
      " year         | 1995                 \n",
      " type         | Fixed wing multi ... \n",
      " manufacturer | BOEING               \n",
      " model        | 757-224              \n",
      " engines      | 2                    \n",
      " seats        | 178                  \n",
      " speed        | null                 \n",
      " engine       | Turbo-jet            \n",
      " tailchar     | 12114                \n",
      " age          | 27                   \n",
      "-RECORD 19---------------------------\n",
      " tailnum      | N121DE               \n",
      " year         | 1987                 \n",
      " type         | Fixed wing multi ... \n",
      " manufacturer | BOEING               \n",
      " model        | 767-332              \n",
      " engines      | 2                    \n",
      " seats        | 330                  \n",
      " speed        | null                 \n",
      " engine       | Turbo-fan            \n",
      " tailchar     | 121DE                \n",
      " age          | 35                   \n",
      "only showing top 20 rows\n",
      "\n"
     ]
    }
   ],
   "source": [
    "# coluna criada\n",
    "df_planes = df_planes.withColumn('age',(\n",
    "                F.when(\n",
    "                   check_empty_column('year'), None\n",
    "                ).otherwise(format_year_date(F.col(\"year\")))\n",
    "            ))\n",
    "\n",
    "df_planes.show(vertical=True)"
   ]
  },
  {
   "cell_type": "code",
   "execution_count": null,
   "id": "d0243220",
   "metadata": {},
   "outputs": [],
   "source": []
  },
  {
   "cell_type": "markdown",
   "id": "dad5fc31",
   "metadata": {},
   "source": [
    "### Pergunta 5"
   ]
  },
  {
   "cell_type": "code",
   "execution_count": 39,
   "id": "f041d3d0",
   "metadata": {},
   "outputs": [
    {
     "name": "stdout",
     "output_type": "stream",
     "text": [
      "+----------+\n",
      "|      type|\n",
      "+----------+\n",
      "|SINGLE_ENG|\n",
      "| MULTI_ENG|\n",
      "|ROTORCRAFT|\n",
      "+----------+\n",
      "\n"
     ]
    }
   ],
   "source": [
    "# Usando data Frame\n",
    "\n",
    "df_planes= df_planes.withColumn(\"type\",(\n",
    "        F.when(\n",
    "            (F.col('type') ==\"Fixed wing multi engine\"), 'MULTI_ENG')\n",
    "         .when(\n",
    "            (F.col('type') ==\"Fixed wing single engine\"), 'SINGLE_ENG')\n",
    "     .when(\n",
    "            (F.col('type') ==\"Rotorcraft\"), 'ROTORCRAFT')\n",
    "))\n",
    "\n",
    "\n",
    "df_planes.select(F.col(\"type\")).distinct().show()"
   ]
  },
  {
   "cell_type": "code",
   "execution_count": null,
   "id": "5f4b391c",
   "metadata": {},
   "outputs": [],
   "source": []
  },
  {
   "cell_type": "markdown",
   "id": "cbeae170",
   "metadata": {},
   "source": [
    "### Pergunta 6"
   ]
  },
  {
   "cell_type": "code",
   "execution_count": 40,
   "id": "77b3d772",
   "metadata": {},
   "outputs": [],
   "source": [
    "### Usando DataFrame\n",
    "df_planes = df_planes.withColumn(\"manufacturer\",(\n",
    "    F.when(\n",
    "        (F.col('manufacturer').contains('AIRBUS')),\"AIRBUS\")\n",
    "     .when((F.col('manufacturer').contains('BOEING')),\"BOEING\")\n",
    "     .when((F.col('manufacturer').contains('BOEING')),\"BOEING\")\n",
    "     .when((F.col('manufacturer').contains('CESSNA')),\"CESSNA\")\n",
    "     .when((F.col('manufacturer').contains('EMBRAER')),\"EMBRAER\")\n",
    "     .when((F.col('manufacturer').contains('SIKORSKY')),\"SIKORSKY\")\n",
    "     .when((F.col('manufacturer').contains('CANADAIR')),\"CANADAIR\")\n",
    "     .when((F.col('manufacturer').contains('PIPER')),\"PIPER\")\n",
    "     .when((F.col('manufacturer').contains('MCDONNELL DOUGLAS')),\"MCDONNELL DOUGLAS\")\n",
    "     .when((F.col('manufacturer').contains('CIRRUS')),\"CIRRUS\")\n",
    "     .when((F.col('manufacturer').contains('BELL')),\"BELL\")\n",
    "     .when((F.col('manufacturer').contains('KILDALL GARY')),\"KILDALL GARY\")\n",
    "     .when((F.col('manufacturer').contains('LAMBERT RICHARD')),\"LAMBERT RICHARD\")\n",
    "     .when((F.col('manufacturer').contains('BARKER JACK')),\"BARKER JACK\")\n",
    "     .when((F.col('manufacturer').contains('ROBINSON HELICOPTER')),\"ROBINSON HELICOPTER\")\n",
    "     .when((F.col('manufacturer').contains('GULFSTREAM')),\"GULFSTREAM\")\n",
    "     .when((F.col('manufacturer').contains('BOMBARDIER')),\"BOMBARDIER\")\n",
    "     .when((F.col('manufacturer').contains('MARZ BARRY')),\"MARZ BARRY\")\n",
    "     ))"
   ]
  },
  {
   "cell_type": "code",
   "execution_count": 41,
   "id": "7010dd66",
   "metadata": {},
   "outputs": [
    {
     "name": "stdout",
     "output_type": "stream",
     "text": [
      "+-------+----+----+------------+-----+-------+-----+-----+------+--------+---+\n",
      "|tailnum|year|type|manufacturer|model|engines|seats|speed|engine|tailchar|age|\n",
      "+-------+----+----+------------+-----+-------+-----+-----+------+--------+---+\n",
      "+-------+----+----+------------+-----+-------+-----+-----+------+--------+---+\n",
      "\n"
     ]
    }
   ],
   "source": [
    "df_planes.filter(F.col('manufacturer') == 'BARKER JACK L').show()"
   ]
  },
  {
   "cell_type": "code",
   "execution_count": null,
   "id": "9556ce63",
   "metadata": {},
   "outputs": [],
   "source": []
  },
  {
   "cell_type": "markdown",
   "id": "8e396bb9",
   "metadata": {},
   "source": [
    "### Pergunta 7"
   ]
  },
  {
   "cell_type": "code",
   "execution_count": 46,
   "id": "4d094b39",
   "metadata": {},
   "outputs": [],
   "source": [
    "df_planes = df_planes.withColumn('model',(\n",
    "          F.regexp_replace(F.col(\"model\"),REGEX_PARENTESE,\"\")))"
   ]
  },
  {
   "cell_type": "code",
   "execution_count": 47,
   "id": "1d059002",
   "metadata": {},
   "outputs": [
    {
     "name": "stdout",
     "output_type": "stream",
     "text": [
      "+-------+----+----+------------+-----+-------+-----+-----+------+--------+---+\n",
      "|tailnum|year|type|manufacturer|model|engines|seats|speed|engine|tailchar|age|\n",
      "+-------+----+----+------------+-----+-------+-----+-----+------+--------+---+\n",
      "+-------+----+----+------------+-----+-------+-----+-----+------+--------+---+\n",
      "\n",
      "+-------+----+---------+-----------------+------------+-------+-----+-----+---------+--------+---+\n",
      "|tailnum|year|     type|     manufacturer|       model|engines|seats|speed|   engine|tailchar|age|\n",
      "+-------+----+---------+-----------------+------------+-------+-----+-----+---------+--------+---+\n",
      "| N426AA|1986|MULTI_ENG|MCDONNELL DOUGLAS|DC-9-82MD-82|      2|  172| null|Turbo-fan|   426AA| 36|\n",
      "| N456AA|1988|MULTI_ENG|MCDONNELL DOUGLAS|DC-9-82MD-82|      2|  172| null|Turbo-fan|   456AA| 34|\n",
      "| N467AA|1988|MULTI_ENG|MCDONNELL DOUGLAS|DC-9-82MD-82|      2|  172| null|Turbo-fan|   467AA| 34|\n",
      "| N468AA|1988|MULTI_ENG|MCDONNELL DOUGLAS|DC-9-82MD-82|      2|  172| null|Turbo-fan|   468AA| 34|\n",
      "| N470AA|1988|MULTI_ENG|MCDONNELL DOUGLAS|DC-9-82MD-82|      2|  172| null|Turbo-fan|   470AA| 34|\n",
      "| N472AA|1988|MULTI_ENG|MCDONNELL DOUGLAS|DC-9-82MD-82|      2|  172| null|Turbo-fan|   472AA| 34|\n",
      "| N473AA|1988|MULTI_ENG|MCDONNELL DOUGLAS|DC-9-82MD-82|      2|  172| null|Turbo-fan|   473AA| 34|\n",
      "| N476AA|1988|MULTI_ENG|MCDONNELL DOUGLAS|DC-9-82MD-82|      2|  172| null|Turbo-fan|   476AA| 34|\n",
      "| N477AA|1988|MULTI_ENG|MCDONNELL DOUGLAS|DC-9-82MD-82|      2|  172| null|Turbo-fan|   477AA| 34|\n",
      "| N478AA|1988|MULTI_ENG|MCDONNELL DOUGLAS|DC-9-82MD-82|      2|  172| null|Turbo-fan|   478AA| 34|\n",
      "| N480AA|1988|MULTI_ENG|MCDONNELL DOUGLAS|DC-9-82MD-82|      2|  172| null|Turbo-fan|   480AA| 34|\n",
      "| N481AA|1988|MULTI_ENG|MCDONNELL DOUGLAS|DC-9-82MD-82|      2|  172| null|Turbo-fan|   481AA| 34|\n",
      "| N486AA|1988|MULTI_ENG|MCDONNELL DOUGLAS|DC-9-82MD-82|      2|  172| null|Turbo-fan|   486AA| 34|\n",
      "| N487AA|1988|MULTI_ENG|MCDONNELL DOUGLAS|DC-9-82MD-82|      2|  172| null|Turbo-fan|   487AA| 34|\n",
      "| N490AA|1989|MULTI_ENG|MCDONNELL DOUGLAS|DC-9-82MD-82|      2|  172| null|Turbo-fan|   490AA| 33|\n",
      "| N496AA|1989|MULTI_ENG|MCDONNELL DOUGLAS|DC-9-82MD-82|      2|  172| null|Turbo-fan|   496AA| 33|\n",
      "| N499AA|1989|MULTI_ENG|MCDONNELL DOUGLAS|DC-9-82MD-82|      2|  172| null|Turbo-fan|   499AA| 33|\n",
      "| N513AA|1990|MULTI_ENG|MCDONNELL DOUGLAS|DC-9-82MD-82|      2|  172| null|Turbo-fan|   513AA| 32|\n",
      "| N553AA|1991|MULTI_ENG|MCDONNELL DOUGLAS|DC-9-82MD-82|      2|  172| null|Turbo-fan|   553AA| 31|\n",
      "| N554AA|1991|MULTI_ENG|MCDONNELL DOUGLAS|DC-9-82MD-82|      2|  172| null|Turbo-fan|   554AA| 31|\n",
      "+-------+----+---------+-----------------+------------+-------+-----+-----+---------+--------+---+\n",
      "only showing top 20 rows\n",
      "\n",
      "+-------+----+----+------------+-----+-------+-----+-----+------+--------+---+\n",
      "|tailnum|year|type|manufacturer|model|engines|seats|speed|engine|tailchar|age|\n",
      "+-------+----+----+------------+-----+-------+-----+-----+------+--------+---+\n",
      "+-------+----+----+------------+-----+-------+-----+-----+------+--------+---+\n",
      "\n"
     ]
    }
   ],
   "source": [
    "df_planes.filter((F.col('model').contains('(')) | (F.col('model').contains(')'))).show()\n",
    "df_planes.filter(F.col('model').contains('DC-9-82')).show()\n",
    "df_planes.filter(F.col(\"model\").contains('(')).distinct().show()"
   ]
  },
  {
   "cell_type": "markdown",
   "id": "7a8ac506",
   "metadata": {},
   "source": [
    "### Pergunta 8\n"
   ]
  },
  {
   "cell_type": "code",
   "execution_count": 48,
   "id": "ed25975a",
   "metadata": {},
   "outputs": [],
   "source": [
    "df_planes = df_planes.withColumn('speed',(\n",
    "                F.when(check_empty_column('speed'),  F.ceil(F.col('seats') / 0.36))\n",
    "))"
   ]
  },
  {
   "cell_type": "markdown",
   "id": "f129648f",
   "metadata": {},
   "source": [
    "### Pergunta 9"
   ]
  },
  {
   "cell_type": "code",
   "execution_count": 49,
   "id": "06e25ee0",
   "metadata": {},
   "outputs": [],
   "source": [
    "df_planes = df_planes.withColumn(\"engine_type\",(\n",
    "     F.when(\n",
    "         (F.col('engine') ==\"Turbo-fan\"), 'FAN')\n",
    "     .when(\n",
    "         (F.col('engine') ==\"Turbo-jet\"), 'JET')\n",
    "     .when(\n",
    "         (F.col('engine') ==\"Turbo-shaft\"), 'SHAFT')\n",
    "     .when(\n",
    "         (F.col('engine') ==\"4 Cycle\"), 'CYCLE')\n",
    "))"
   ]
  },
  {
   "cell_type": "markdown",
   "id": "1e3d5e52",
   "metadata": {},
   "source": [
    "# Dataset Flights "
   ]
  },
  {
   "cell_type": "markdown",
   "id": "9aa85d69",
   "metadata": {},
   "source": [
    "### Pergunta 1 "
   ]
  },
  {
   "cell_type": "code",
   "execution_count": 57,
   "id": "a1adf060",
   "metadata": {},
   "outputs": [],
   "source": [
    "df_flights =df_flights.withColumn('hour',(\n",
    "                            F.when(check_empty_column('hour'), 0)\n",
    "                                 .otherwise(F.col('hour'))))\\\n",
    "                      .withColumn('minute',(\n",
    "                              F.when(check_empty_column('minute'), 0)\n",
    "                                 .otherwise(F.col('minute'))))"
   ]
  },
  {
   "cell_type": "code",
   "execution_count": 58,
   "id": "f5d612b5",
   "metadata": {},
   "outputs": [
    {
     "data": {
      "text/plain": [
       "226"
      ]
     },
     "execution_count": 58,
     "metadata": {},
     "output_type": "execute_result"
    }
   ],
   "source": [
    "df_flights.where(F.col('minute')==0).count()"
   ]
  },
  {
   "cell_type": "code",
   "execution_count": null,
   "id": "1f8f8253",
   "metadata": {},
   "outputs": [],
   "source": []
  },
  {
   "cell_type": "markdown",
   "id": "cb448ed1",
   "metadata": {},
   "source": [
    "### Pergunta 2"
   ]
  },
  {
   "cell_type": "code",
   "execution_count": 59,
   "id": "b36f804d",
   "metadata": {},
   "outputs": [],
   "source": [
    "df_flights =df_flights.withColumn('hour',(\n",
    "                            F.when(\n",
    "                                F.col('hour')==24,0)\n",
    "                                 .otherwise(F.col('hour'))\n",
    "))"
   ]
  },
  {
   "cell_type": "code",
   "execution_count": 60,
   "id": "b0fa8366",
   "metadata": {},
   "outputs": [
    {
     "data": {
      "text/plain": [
       "0"
      ]
     },
     "execution_count": 60,
     "metadata": {},
     "output_type": "execute_result"
    }
   ],
   "source": [
    "df_flights.where(F.col('hour')==24).count()"
   ]
  },
  {
   "cell_type": "markdown",
   "id": "81a762ae",
   "metadata": {},
   "source": [
    "### Pergunta 3"
   ]
  },
  {
   "cell_type": "code",
   "execution_count": 61,
   "id": "7708a9ff",
   "metadata": {},
   "outputs": [
    {
     "name": "stdout",
     "output_type": "stream",
     "text": [
      "-RECORD 0---------------------------\n",
      " year         | 2014                \n",
      " month        | 12                  \n",
      " day          | 8                   \n",
      " dep_time     | 658                 \n",
      " dep_delay    | -7                  \n",
      " arr_time     | 935                 \n",
      " arr_delay    | -5                  \n",
      " carrier      | VX                  \n",
      " tailnum      | N846VA              \n",
      " flight       | 1780                \n",
      " origin       | SEA                 \n",
      " dest         | LAX                 \n",
      " air_time     | 132                 \n",
      " distance     | 954                 \n",
      " hour         | 6                   \n",
      " minute       | 58                  \n",
      " dep_datetime | 2014-12-08 06:58:00 \n",
      "-RECORD 1---------------------------\n",
      " year         | 2014                \n",
      " month        | 1                   \n",
      " day          | 22                  \n",
      " dep_time     | 1040                \n",
      " dep_delay    | 5                   \n",
      " arr_time     | 1505                \n",
      " arr_delay    | 5                   \n",
      " carrier      | AS                  \n",
      " tailnum      | N559AS              \n",
      " flight       | 851                 \n",
      " origin       | SEA                 \n",
      " dest         | HNL                 \n",
      " air_time     | 360                 \n",
      " distance     | 2677                \n",
      " hour         | 10                  \n",
      " minute       | 40                  \n",
      " dep_datetime | 2014-01-22 10:40:00 \n",
      "-RECORD 2---------------------------\n",
      " year         | 2014                \n",
      " month        | 3                   \n",
      " day          | 9                   \n",
      " dep_time     | 1443                \n",
      " dep_delay    | -2                  \n",
      " arr_time     | 1652                \n",
      " arr_delay    | 2                   \n",
      " carrier      | VX                  \n",
      " tailnum      | N847VA              \n",
      " flight       | 755                 \n",
      " origin       | SEA                 \n",
      " dest         | SFO                 \n",
      " air_time     | 111                 \n",
      " distance     | 679                 \n",
      " hour         | 14                  \n",
      " minute       | 43                  \n",
      " dep_datetime | 2014-03-09 14:43:00 \n",
      "-RECORD 3---------------------------\n",
      " year         | 2014                \n",
      " month        | 4                   \n",
      " day          | 9                   \n",
      " dep_time     | 1705                \n",
      " dep_delay    | 45                  \n",
      " arr_time     | 1839                \n",
      " arr_delay    | 34                  \n",
      " carrier      | WN                  \n",
      " tailnum      | N360SW              \n",
      " flight       | 344                 \n",
      " origin       | PDX                 \n",
      " dest         | SJC                 \n",
      " air_time     | 83                  \n",
      " distance     | 569                 \n",
      " hour         | 17                  \n",
      " minute       | 5                   \n",
      " dep_datetime | 2014-04-09 17:05:00 \n",
      "-RECORD 4---------------------------\n",
      " year         | 2014                \n",
      " month        | 3                   \n",
      " day          | 9                   \n",
      " dep_time     | 754                 \n",
      " dep_delay    | -1                  \n",
      " arr_time     | 1015                \n",
      " arr_delay    | 1                   \n",
      " carrier      | AS                  \n",
      " tailnum      | N612AS              \n",
      " flight       | 522                 \n",
      " origin       | SEA                 \n",
      " dest         | BUR                 \n",
      " air_time     | 127                 \n",
      " distance     | 937                 \n",
      " hour         | 7                   \n",
      " minute       | 54                  \n",
      " dep_datetime | 2014-03-09 07:54:00 \n",
      "-RECORD 5---------------------------\n",
      " year         | 2014                \n",
      " month        | 1                   \n",
      " day          | 15                  \n",
      " dep_time     | 1037                \n",
      " dep_delay    | 7                   \n",
      " arr_time     | 1352                \n",
      " arr_delay    | 2                   \n",
      " carrier      | WN                  \n",
      " tailnum      | N646SW              \n",
      " flight       | 48                  \n",
      " origin       | PDX                 \n",
      " dest         | DEN                 \n",
      " air_time     | 121                 \n",
      " distance     | 991                 \n",
      " hour         | 10                  \n",
      " minute       | 37                  \n",
      " dep_datetime | 2014-01-15 10:37:00 \n",
      "-RECORD 6---------------------------\n",
      " year         | 2014                \n",
      " month        | 7                   \n",
      " day          | 2                   \n",
      " dep_time     | 847                 \n",
      " dep_delay    | 42                  \n",
      " arr_time     | 1041                \n",
      " arr_delay    | 51                  \n",
      " carrier      | WN                  \n",
      " tailnum      | N422WN              \n",
      " flight       | 1520                \n",
      " origin       | PDX                 \n",
      " dest         | OAK                 \n",
      " air_time     | 90                  \n",
      " distance     | 543                 \n",
      " hour         | 8                   \n",
      " minute       | 47                  \n",
      " dep_datetime | 2014-07-02 08:47:00 \n",
      "-RECORD 7---------------------------\n",
      " year         | 2014                \n",
      " month        | 5                   \n",
      " day          | 12                  \n",
      " dep_time     | 1655                \n",
      " dep_delay    | -5                  \n",
      " arr_time     | 1842                \n",
      " arr_delay    | -18                 \n",
      " carrier      | VX                  \n",
      " tailnum      | N361VA              \n",
      " flight       | 755                 \n",
      " origin       | SEA                 \n",
      " dest         | SFO                 \n",
      " air_time     | 98                  \n",
      " distance     | 679                 \n",
      " hour         | 16                  \n",
      " minute       | 55                  \n",
      " dep_datetime | 2014-05-12 16:55:00 \n",
      "-RECORD 8---------------------------\n",
      " year         | 2014                \n",
      " month        | 4                   \n",
      " day          | 19                  \n",
      " dep_time     | 1236                \n",
      " dep_delay    | -4                  \n",
      " arr_time     | 1508                \n",
      " arr_delay    | -7                  \n",
      " carrier      | AS                  \n",
      " tailnum      | N309AS              \n",
      " flight       | 490                 \n",
      " origin       | SEA                 \n",
      " dest         | SAN                 \n",
      " air_time     | 135                 \n",
      " distance     | 1050                \n",
      " hour         | 12                  \n",
      " minute       | 36                  \n",
      " dep_datetime | 2014-04-19 12:36:00 \n",
      "-RECORD 9---------------------------\n",
      " year         | 2014                \n",
      " month        | 11                  \n",
      " day          | 19                  \n",
      " dep_time     | 1812                \n",
      " dep_delay    | -3                  \n",
      " arr_time     | 2352                \n",
      " arr_delay    | -4                  \n",
      " carrier      | AS                  \n",
      " tailnum      | N564AS              \n",
      " flight       | 26                  \n",
      " origin       | SEA                 \n",
      " dest         | ORD                 \n",
      " air_time     | 198                 \n",
      " distance     | 1721                \n",
      " hour         | 18                  \n",
      " minute       | 12                  \n",
      " dep_datetime | 2014-11-19 18:12:00 \n",
      "-RECORD 10--------------------------\n",
      " year         | 2014                \n",
      " month        | 11                  \n",
      " day          | 8                   \n",
      " dep_time     | 1653                \n",
      " dep_delay    | -2                  \n",
      " arr_time     | 1924                \n",
      " arr_delay    | -1                  \n",
      " carrier      | AS                  \n",
      " tailnum      | N323AS              \n",
      " flight       | 448                 \n",
      " origin       | SEA                 \n",
      " dest         | LAX                 \n",
      " air_time     | 130                 \n",
      " distance     | 954                 \n",
      " hour         | 16                  \n",
      " minute       | 53                  \n",
      " dep_datetime | 2014-11-08 16:53:00 \n",
      "-RECORD 11--------------------------\n",
      " year         | 2014                \n",
      " month        | 8                   \n",
      " day          | 3                   \n",
      " dep_time     | 1120                \n",
      " dep_delay    | 0                   \n",
      " arr_time     | 1415                \n",
      " arr_delay    | 2                   \n",
      " carrier      | AS                  \n",
      " tailnum      | N305AS              \n",
      " flight       | 656                 \n",
      " origin       | SEA                 \n",
      " dest         | PHX                 \n",
      " air_time     | 154                 \n",
      " distance     | 1107                \n",
      " hour         | 11                  \n",
      " minute       | 20                  \n",
      " dep_datetime | 2014-08-03 11:20:00 \n",
      "-RECORD 12--------------------------\n",
      " year         | 2014                \n",
      " month        | 10                  \n",
      " day          | 30                  \n",
      " dep_time     | 811                 \n",
      " dep_delay    | 21                  \n",
      " arr_time     | 1038                \n",
      " arr_delay    | 29                  \n",
      " carrier      | AS                  \n",
      " tailnum      | N433AS              \n",
      " flight       | 608                 \n",
      " origin       | SEA                 \n",
      " dest         | LAS                 \n",
      " air_time     | 127                 \n",
      " distance     | 867                 \n",
      " hour         | 8                   \n",
      " minute       | 11                  \n",
      " dep_datetime | 2014-10-30 08:11:00 \n",
      "-RECORD 13--------------------------\n",
      " year         | 2014                \n",
      " month        | 11                  \n",
      " day          | 12                  \n",
      " dep_time     | 2346                \n",
      " dep_delay    | -4                  \n",
      " arr_time     | 217                 \n",
      " arr_delay    | -28                 \n",
      " carrier      | AS                  \n",
      " tailnum      | N765AS              \n",
      " flight       | 121                 \n",
      " origin       | SEA                 \n",
      " dest         | ANC                 \n",
      " air_time     | 183                 \n",
      " distance     | 1448                \n",
      " hour         | 23                  \n",
      " minute       | 46                  \n",
      " dep_datetime | 2014-11-12 23:46:00 \n",
      "-RECORD 14--------------------------\n",
      " year         | 2014                \n",
      " month        | 10                  \n",
      " day          | 31                  \n",
      " dep_time     | 1314                \n",
      " dep_delay    | 89                  \n",
      " arr_time     | 1544                \n",
      " arr_delay    | 111                 \n",
      " carrier      | AS                  \n",
      " tailnum      | N713AS              \n",
      " flight       | 306                 \n",
      " origin       | SEA                 \n",
      " dest         | SFO                 \n",
      " air_time     | 129                 \n",
      " distance     | 679                 \n",
      " hour         | 13                  \n",
      " minute       | 14                  \n",
      " dep_datetime | 2014-10-31 13:14:00 \n",
      "-RECORD 15--------------------------\n",
      " year         | 2014                \n",
      " month        | 1                   \n",
      " day          | 29                  \n",
      " dep_time     | 2009                \n",
      " dep_delay    | 3                   \n",
      " arr_time     | 2159                \n",
      " arr_delay    | 9                   \n",
      " carrier      | UA                  \n",
      " tailnum      | N27205              \n",
      " flight       | 1458                \n",
      " origin       | PDX                 \n",
      " dest         | SFO                 \n",
      " air_time     | 90                  \n",
      " distance     | 550                 \n",
      " hour         | 20                  \n",
      " minute       | 9                   \n",
      " dep_datetime | 2014-01-29 20:09:00 \n",
      "-RECORD 16--------------------------\n",
      " year         | 2014                \n",
      " month        | 12                  \n",
      " day          | 17                  \n",
      " dep_time     | 2015                \n",
      " dep_delay    | 50                  \n",
      " arr_time     | 2150                \n",
      " arr_delay    | 41                  \n",
      " carrier      | AS                  \n",
      " tailnum      | N626AS              \n",
      " flight       | 368                 \n",
      " origin       | SEA                 \n",
      " dest         | SMF                 \n",
      " air_time     | 76                  \n",
      " distance     | 605                 \n",
      " hour         | 20                  \n",
      " minute       | 15                  \n",
      " dep_datetime | 2014-12-17 20:15:00 \n",
      "-RECORD 17--------------------------\n",
      " year         | 2014                \n",
      " month        | 8                   \n",
      " day          | 11                  \n",
      " dep_time     | 1017                \n",
      " dep_delay    | -3                  \n",
      " arr_time     | 1613                \n",
      " arr_delay    | -7                  \n",
      " carrier      | WN                  \n",
      " tailnum      | N8634A              \n",
      " flight       | 827                 \n",
      " origin       | SEA                 \n",
      " dest         | MDW                 \n",
      " air_time     | 216                 \n",
      " distance     | 1733                \n",
      " hour         | 10                  \n",
      " minute       | 17                  \n",
      " dep_datetime | 2014-08-11 10:17:00 \n",
      "-RECORD 18--------------------------\n",
      " year         | 2014                \n",
      " month        | 1                   \n",
      " day          | 13                  \n",
      " dep_time     | 2156                \n",
      " dep_delay    | -9                  \n",
      " arr_time     | 607                 \n",
      " arr_delay    | -15                 \n",
      " carrier      | AS                  \n",
      " tailnum      | N597AS              \n",
      " flight       | 24                  \n",
      " origin       | SEA                 \n",
      " dest         | BOS                 \n",
      " air_time     | 290                 \n",
      " distance     | 2496                \n",
      " hour         | 21                  \n",
      " minute       | 56                  \n",
      " dep_datetime | 2014-01-13 21:56:00 \n",
      "-RECORD 19--------------------------\n",
      " year         | 2014                \n",
      " month        | 6                   \n",
      " day          | 5                   \n",
      " dep_time     | 1733                \n",
      " dep_delay    | -12                 \n",
      " arr_time     | 1945                \n",
      " arr_delay    | -10                 \n",
      " carrier      | OO                  \n",
      " tailnum      | N215AG              \n",
      " flight       | 3488                \n",
      " origin       | PDX                 \n",
      " dest         | BUR                 \n",
      " air_time     | 111                 \n",
      " distance     | 817                 \n",
      " hour         | 17                  \n",
      " minute       | 33                  \n",
      " dep_datetime | 2014-06-05 17:33:00 \n",
      "only showing top 20 rows\n",
      "\n"
     ]
    }
   ],
   "source": [
    "# Incluindo coluna \n",
    "df_flights = df_flights.withColumn(\"dep_datetime\", F.expr(\"make_timestamp(year, month, day, hour, minute, 00)\"))\n",
    "\n",
    "df_flights.show(vertical = True, truncate = False)"
   ]
  },
  {
   "cell_type": "markdown",
   "id": "35fe94c7",
   "metadata": {},
   "source": [
    "### Pergunta 4 "
   ]
  },
  {
   "cell_type": "code",
   "execution_count": 63,
   "id": "6ebd2aa3",
   "metadata": {},
   "outputs": [
    {
     "name": "stdout",
     "output_type": "stream",
     "text": [
      "+--------+----+------+\n",
      "|dep_time|hour|minute|\n",
      "+--------+----+------+\n",
      "|     658|   6|    58|\n",
      "|    1040|  10|    40|\n",
      "|    1443|  14|    43|\n",
      "|    1705|  17|     5|\n",
      "|     754|   7|    54|\n",
      "+--------+----+------+\n",
      "only showing top 5 rows\n",
      "\n"
     ]
    }
   ],
   "source": [
    "df_flights = df_flights.withColumn('dep_time', F.when(check_empty_column('hour'), F.concat(F.col('hour'), F.col('minute')))\n",
    "                                                .otherwise(F.col('dep_time'))   \n",
    "                                  )\n",
    "\n",
    "df_flights.createOrReplaceTempView('flights')\n",
    "\n",
    "spark.getOrCreate().sql(\"select dep_time, hour, minute from flights\").show(5)"
   ]
  },
  {
   "cell_type": "markdown",
   "id": "0f3ae42e",
   "metadata": {},
   "source": [
    "### Pergunta 5"
   ]
  },
  {
   "cell_type": "code",
   "execution_count": 64,
   "id": "82523859",
   "metadata": {},
   "outputs": [],
   "source": [
    "df_flights =df_flights.withColumn('dep_delay',(\n",
    "                            F.when(check_empty_column('dep_delay'), 0)\n",
    "                             .otherwise(F.col('dep_delay'))))"
   ]
  },
  {
   "cell_type": "code",
   "execution_count": 65,
   "id": "2262c708",
   "metadata": {},
   "outputs": [
    {
     "data": {
      "text/plain": [
       "0"
      ]
     },
     "execution_count": 65,
     "metadata": {},
     "output_type": "execute_result"
    }
   ],
   "source": [
    "df_flights.where(F.col('dep_delay').isNull()).count()"
   ]
  },
  {
   "cell_type": "markdown",
   "id": "fbc3eb9f",
   "metadata": {},
   "source": [
    "### Pergunta 6"
   ]
  },
  {
   "cell_type": "code",
   "execution_count": 66,
   "id": "875dc4d5",
   "metadata": {},
   "outputs": [],
   "source": [
    "df_flights =df_flights.withColumn('arr_delay',(\n",
    "                            F.when(check_empty_column('arr_delay'), 0)\n",
    "                             .otherwise(F.col('arr_delay'))))"
   ]
  },
  {
   "cell_type": "markdown",
   "id": "6a2c0831",
   "metadata": {},
   "source": [
    "### Pergunta 7"
   ]
  },
  {
   "cell_type": "code",
   "execution_count": 67,
   "id": "5c4e3849",
   "metadata": {},
   "outputs": [
    {
     "name": "stdout",
     "output_type": "stream",
     "text": [
      "+--------+---------+--------+---------+-------+-------+------+------+----+--------+--------+-------------------+\n",
      "|dep_time|dep_delay|arr_time|arr_delay|carrier|tailnum|flight|origin|dest|air_time|distance|       dep_datetime|\n",
      "+--------+---------+--------+---------+-------+-------+------+------+----+--------+--------+-------------------+\n",
      "|     658|       -7|     935|       -5|     VX| N846VA|  1780|   SEA| LAX|     132|     954|2014-12-08 06:58:00|\n",
      "|    1040|        5|    1505|        5|     AS| N559AS|   851|   SEA| HNL|     360|    2677|2014-01-22 10:40:00|\n",
      "|    1443|       -2|    1652|        2|     VX| N847VA|   755|   SEA| SFO|     111|     679|2014-03-09 14:43:00|\n",
      "|    1705|       45|    1839|       34|     WN| N360SW|   344|   PDX| SJC|      83|     569|2014-04-09 17:05:00|\n",
      "|     754|       -1|    1015|        1|     AS| N612AS|   522|   SEA| BUR|     127|     937|2014-03-09 07:54:00|\n",
      "|    1037|        7|    1352|        2|     WN| N646SW|    48|   PDX| DEN|     121|     991|2014-01-15 10:37:00|\n",
      "|     847|       42|    1041|       51|     WN| N422WN|  1520|   PDX| OAK|      90|     543|2014-07-02 08:47:00|\n",
      "|    1655|       -5|    1842|      -18|     VX| N361VA|   755|   SEA| SFO|      98|     679|2014-05-12 16:55:00|\n",
      "|    1236|       -4|    1508|       -7|     AS| N309AS|   490|   SEA| SAN|     135|    1050|2014-04-19 12:36:00|\n",
      "|    1812|       -3|    2352|       -4|     AS| N564AS|    26|   SEA| ORD|     198|    1721|2014-11-19 18:12:00|\n",
      "|    1653|       -2|    1924|       -1|     AS| N323AS|   448|   SEA| LAX|     130|     954|2014-11-08 16:53:00|\n",
      "|    1120|        0|    1415|        2|     AS| N305AS|   656|   SEA| PHX|     154|    1107|2014-08-03 11:20:00|\n",
      "|     811|       21|    1038|       29|     AS| N433AS|   608|   SEA| LAS|     127|     867|2014-10-30 08:11:00|\n",
      "|    2346|       -4|     217|      -28|     AS| N765AS|   121|   SEA| ANC|     183|    1448|2014-11-12 23:46:00|\n",
      "|    1314|       89|    1544|      111|     AS| N713AS|   306|   SEA| SFO|     129|     679|2014-10-31 13:14:00|\n",
      "|    2009|        3|    2159|        9|     UA| N27205|  1458|   PDX| SFO|      90|     550|2014-01-29 20:09:00|\n",
      "|    2015|       50|    2150|       41|     AS| N626AS|   368|   SEA| SMF|      76|     605|2014-12-17 20:15:00|\n",
      "|    1017|       -3|    1613|       -7|     WN| N8634A|   827|   SEA| MDW|     216|    1733|2014-08-11 10:17:00|\n",
      "|    2156|       -9|     607|      -15|     AS| N597AS|    24|   SEA| BOS|     290|    2496|2014-01-13 21:56:00|\n",
      "|    1733|      -12|    1945|      -10|     OO| N215AG|  3488|   PDX| BUR|     111|     817|2014-06-05 17:33:00|\n",
      "+--------+---------+--------+---------+-------+-------+------+------+----+--------+--------+-------------------+\n",
      "only showing top 20 rows\n",
      "\n"
     ]
    }
   ],
   "source": [
    "df_flights = df_flights.drop('year', 'month', 'day', 'hour', 'minute')\n",
    "\n",
    "df_flights.show()"
   ]
  },
  {
   "cell_type": "markdown",
   "id": "51a5e9bd",
   "metadata": {},
   "source": [
    "### Pergunta 8"
   ]
  },
  {
   "cell_type": "code",
   "execution_count": 81,
   "id": "b640989c",
   "metadata": {},
   "outputs": [],
   "source": [
    "df_flights = df_flights.select(\"*\",\n",
    "                               (F.col('distance') * 0.1 + 20).cast('int').alias('air_time_projected'))"
   ]
  },
  {
   "cell_type": "markdown",
   "id": "d905ef60",
   "metadata": {},
   "source": [
    "### Pergunta 9"
   ]
  },
  {
   "cell_type": "code",
   "execution_count": 69,
   "id": "5f442175",
   "metadata": {},
   "outputs": [],
   "source": [
    "flights_mean = df_flights.groupBy(F.col('dest').alias('dest1'), F.col('origin').alias('origin1'))\\\n",
    "    .agg(F.round(F.avg('air_time'), 0).cast('int').alias('air_time_expected')) #round ou ceil?"
   ]
  },
  {
   "cell_type": "code",
   "execution_count": 70,
   "id": "e37e12d1",
   "metadata": {},
   "outputs": [],
   "source": [
    "df_flights = df_flights.join(flights_mean,\n",
    "             (df_flights.dest == flights_mean.dest1) & \n",
    "             (df_flights.origin == flights_mean.origin1),\n",
    "             'left')"
   ]
  },
  {
   "cell_type": "code",
   "execution_count": 71,
   "id": "be91b7d5",
   "metadata": {},
   "outputs": [],
   "source": [
    "df_flights = df_flights.drop('dest1','origin1')"
   ]
  },
  {
   "cell_type": "code",
   "execution_count": 72,
   "id": "9b4b0e4a",
   "metadata": {},
   "outputs": [
    {
     "name": "stdout",
     "output_type": "stream",
     "text": [
      "-RECORD 0--------------------------------\n",
      " dep_time          | 704                 \n",
      " dep_delay         | 4                   \n",
      " arr_time          | 1033                \n",
      " arr_delay         | -2                  \n",
      " carrier           | WN                  \n",
      " tailnum           | N650SW              \n",
      " flight            | 397                 \n",
      " origin            | PDX                 \n",
      " dest              | ABQ                 \n",
      " air_time          | 133                 \n",
      " distance          | 1111                \n",
      " dep_datetime      | 2014-03-20 07:04:00 \n",
      " air_time_expected | 136                 \n",
      "-RECORD 1--------------------------------\n",
      " dep_time          | 2207                \n",
      " dep_delay         | 72                  \n",
      " arr_time          | 2329                \n",
      " arr_delay         | 64                  \n",
      " carrier           | WN                  \n",
      " tailnum           | N650SW              \n",
      " flight            | 32                  \n",
      " origin            | PDX                 \n",
      " dest              | SMF                 \n",
      " air_time          | 74                  \n",
      " distance          | 479                 \n",
      " dep_datetime      | 2014-04-08 22:07:00 \n",
      " air_time_expected | 68                  \n",
      "\n"
     ]
    }
   ],
   "source": [
    "df_flights.filter(F.col('tailnum') == 'N650SW').show(2,vertical=True)"
   ]
  },
  {
   "cell_type": "markdown",
   "id": "bb4ca447",
   "metadata": {},
   "source": [
    "### Pergunta 10"
   ]
  },
  {
   "cell_type": "code",
   "execution_count": 82,
   "id": "0dc26940",
   "metadata": {},
   "outputs": [
    {
     "data": {
      "text/html": [
       "<div>\n",
       "<style scoped>\n",
       "    .dataframe tbody tr th:only-of-type {\n",
       "        vertical-align: middle;\n",
       "    }\n",
       "\n",
       "    .dataframe tbody tr th {\n",
       "        vertical-align: top;\n",
       "    }\n",
       "\n",
       "    .dataframe thead th {\n",
       "        text-align: right;\n",
       "    }\n",
       "</style>\n",
       "<table border=\"1\" class=\"dataframe\">\n",
       "  <thead>\n",
       "    <tr style=\"text-align: right;\">\n",
       "      <th></th>\n",
       "      <th>dep_time</th>\n",
       "      <th>dep_delay</th>\n",
       "      <th>arr_time</th>\n",
       "      <th>arr_delay</th>\n",
       "      <th>carrier</th>\n",
       "      <th>tailnum</th>\n",
       "      <th>flight</th>\n",
       "      <th>origin</th>\n",
       "      <th>dest</th>\n",
       "      <th>air_time</th>\n",
       "      <th>distance</th>\n",
       "      <th>dep_datetime</th>\n",
       "      <th>air_time_expected</th>\n",
       "      <th>haul_duration</th>\n",
       "      <th>dep_season</th>\n",
       "      <th>dep_delay_category</th>\n",
       "      <th>air_time_projected</th>\n",
       "      <th>max</th>\n",
       "    </tr>\n",
       "  </thead>\n",
       "  <tbody>\n",
       "    <tr>\n",
       "      <th>0</th>\n",
       "      <td>658</td>\n",
       "      <td>-7</td>\n",
       "      <td>935</td>\n",
       "      <td>-5</td>\n",
       "      <td>VX</td>\n",
       "      <td>N846VA</td>\n",
       "      <td>1780</td>\n",
       "      <td>SEA</td>\n",
       "      <td>LAX</td>\n",
       "      <td>132.0</td>\n",
       "      <td>954</td>\n",
       "      <td>2014-12-08 06:58:00</td>\n",
       "      <td>127</td>\n",
       "      <td>SHORT-HAUL</td>\n",
       "      <td>FALL</td>\n",
       "      <td>ANTECIPATED</td>\n",
       "      <td>115</td>\n",
       "      <td>127</td>\n",
       "    </tr>\n",
       "    <tr>\n",
       "      <th>1</th>\n",
       "      <td>1040</td>\n",
       "      <td>5</td>\n",
       "      <td>1505</td>\n",
       "      <td>5</td>\n",
       "      <td>AS</td>\n",
       "      <td>N559AS</td>\n",
       "      <td>851</td>\n",
       "      <td>SEA</td>\n",
       "      <td>HNL</td>\n",
       "      <td>360.0</td>\n",
       "      <td>2677</td>\n",
       "      <td>2014-01-22 10:40:00</td>\n",
       "      <td>344</td>\n",
       "      <td>LONG-HAUL</td>\n",
       "      <td>WINTER</td>\n",
       "      <td>MINOR</td>\n",
       "      <td>287</td>\n",
       "      <td>344</td>\n",
       "    </tr>\n",
       "    <tr>\n",
       "      <th>2</th>\n",
       "      <td>1443</td>\n",
       "      <td>-2</td>\n",
       "      <td>1652</td>\n",
       "      <td>2</td>\n",
       "      <td>VX</td>\n",
       "      <td>N847VA</td>\n",
       "      <td>755</td>\n",
       "      <td>SEA</td>\n",
       "      <td>SFO</td>\n",
       "      <td>111.0</td>\n",
       "      <td>679</td>\n",
       "      <td>2014-03-09 14:43:00</td>\n",
       "      <td>101</td>\n",
       "      <td>SHORT-HAUL</td>\n",
       "      <td>WINTER</td>\n",
       "      <td>ANTECIPATED</td>\n",
       "      <td>87</td>\n",
       "      <td>101</td>\n",
       "    </tr>\n",
       "    <tr>\n",
       "      <th>3</th>\n",
       "      <td>1705</td>\n",
       "      <td>45</td>\n",
       "      <td>1839</td>\n",
       "      <td>34</td>\n",
       "      <td>WN</td>\n",
       "      <td>N360SW</td>\n",
       "      <td>344</td>\n",
       "      <td>PDX</td>\n",
       "      <td>SJC</td>\n",
       "      <td>83.0</td>\n",
       "      <td>569</td>\n",
       "      <td>2014-04-09 17:05:00</td>\n",
       "      <td>86</td>\n",
       "      <td>SHORT-HAUL</td>\n",
       "      <td>SPRING</td>\n",
       "      <td>MINOR</td>\n",
       "      <td>76</td>\n",
       "      <td>86</td>\n",
       "    </tr>\n",
       "    <tr>\n",
       "      <th>4</th>\n",
       "      <td>754</td>\n",
       "      <td>-1</td>\n",
       "      <td>1015</td>\n",
       "      <td>1</td>\n",
       "      <td>AS</td>\n",
       "      <td>N612AS</td>\n",
       "      <td>522</td>\n",
       "      <td>SEA</td>\n",
       "      <td>BUR</td>\n",
       "      <td>127.0</td>\n",
       "      <td>937</td>\n",
       "      <td>2014-03-09 07:54:00</td>\n",
       "      <td>122</td>\n",
       "      <td>SHORT-HAUL</td>\n",
       "      <td>WINTER</td>\n",
       "      <td>ANTECIPATED</td>\n",
       "      <td>113</td>\n",
       "      <td>122</td>\n",
       "    </tr>\n",
       "    <tr>\n",
       "      <th>...</th>\n",
       "      <td>...</td>\n",
       "      <td>...</td>\n",
       "      <td>...</td>\n",
       "      <td>...</td>\n",
       "      <td>...</td>\n",
       "      <td>...</td>\n",
       "      <td>...</td>\n",
       "      <td>...</td>\n",
       "      <td>...</td>\n",
       "      <td>...</td>\n",
       "      <td>...</td>\n",
       "      <td>...</td>\n",
       "      <td>...</td>\n",
       "      <td>...</td>\n",
       "      <td>...</td>\n",
       "      <td>...</td>\n",
       "      <td>...</td>\n",
       "      <td>...</td>\n",
       "    </tr>\n",
       "    <tr>\n",
       "      <th>9995</th>\n",
       "      <td>1806</td>\n",
       "      <td>-4</td>\n",
       "      <td>2104</td>\n",
       "      <td>-6</td>\n",
       "      <td>OO</td>\n",
       "      <td>N225AG</td>\n",
       "      <td>3458</td>\n",
       "      <td>SEA</td>\n",
       "      <td>SLC</td>\n",
       "      <td>89.0</td>\n",
       "      <td>689</td>\n",
       "      <td>2014-06-23 18:06:00</td>\n",
       "      <td>89</td>\n",
       "      <td>SHORT-HAUL</td>\n",
       "      <td>SUMER</td>\n",
       "      <td>ANTECIPATED</td>\n",
       "      <td>88</td>\n",
       "      <td>89</td>\n",
       "    </tr>\n",
       "    <tr>\n",
       "      <th>9996</th>\n",
       "      <td>2336</td>\n",
       "      <td>11</td>\n",
       "      <td>452</td>\n",
       "      <td>-13</td>\n",
       "      <td>AA</td>\n",
       "      <td>N3LEAA</td>\n",
       "      <td>1230</td>\n",
       "      <td>SEA</td>\n",
       "      <td>DFW</td>\n",
       "      <td>178.0</td>\n",
       "      <td>1660</td>\n",
       "      <td>2014-08-31 23:36:00</td>\n",
       "      <td>196</td>\n",
       "      <td>SHORT-HAUL</td>\n",
       "      <td>SUMER</td>\n",
       "      <td>MINOR</td>\n",
       "      <td>186</td>\n",
       "      <td>196</td>\n",
       "    </tr>\n",
       "    <tr>\n",
       "      <th>9997</th>\n",
       "      <td>904</td>\n",
       "      <td>-1</td>\n",
       "      <td>1042</td>\n",
       "      <td>-5</td>\n",
       "      <td>AS</td>\n",
       "      <td>N523AS</td>\n",
       "      <td>360</td>\n",
       "      <td>SEA</td>\n",
       "      <td>SMF</td>\n",
       "      <td>81.0</td>\n",
       "      <td>605</td>\n",
       "      <td>2014-08-08 09:04:00</td>\n",
       "      <td>83</td>\n",
       "      <td>SHORT-HAUL</td>\n",
       "      <td>SUMER</td>\n",
       "      <td>ANTECIPATED</td>\n",
       "      <td>80</td>\n",
       "      <td>83</td>\n",
       "    </tr>\n",
       "    <tr>\n",
       "      <th>9998</th>\n",
       "      <td>1441</td>\n",
       "      <td>26</td>\n",
       "      <td>1820</td>\n",
       "      <td>10</td>\n",
       "      <td>WN</td>\n",
       "      <td>N8647A</td>\n",
       "      <td>2857</td>\n",
       "      <td>SEA</td>\n",
       "      <td>ABQ</td>\n",
       "      <td>133.0</td>\n",
       "      <td>1180</td>\n",
       "      <td>2014-08-29 14:41:00</td>\n",
       "      <td>143</td>\n",
       "      <td>SHORT-HAUL</td>\n",
       "      <td>SUMER</td>\n",
       "      <td>MINOR</td>\n",
       "      <td>138</td>\n",
       "      <td>143</td>\n",
       "    </tr>\n",
       "    <tr>\n",
       "      <th>9999</th>\n",
       "      <td>1702</td>\n",
       "      <td>-3</td>\n",
       "      <td>1950</td>\n",
       "      <td>-10</td>\n",
       "      <td>DL</td>\n",
       "      <td>N583NW</td>\n",
       "      <td>2237</td>\n",
       "      <td>SEA</td>\n",
       "      <td>HNL</td>\n",
       "      <td>332.0</td>\n",
       "      <td>2677</td>\n",
       "      <td>2014-07-13 17:02:00</td>\n",
       "      <td>344</td>\n",
       "      <td>MEDIUM-HAUL</td>\n",
       "      <td>SUMER</td>\n",
       "      <td>ANTECIPATED</td>\n",
       "      <td>287</td>\n",
       "      <td>344</td>\n",
       "    </tr>\n",
       "  </tbody>\n",
       "</table>\n",
       "<p>10000 rows × 18 columns</p>\n",
       "</div>"
      ],
      "text/plain": [
       "     dep_time  dep_delay arr_time  arr_delay carrier tailnum flight origin  \\\n",
       "0         658         -7      935         -5      VX  N846VA   1780    SEA   \n",
       "1        1040          5     1505          5      AS  N559AS    851    SEA   \n",
       "2        1443         -2     1652          2      VX  N847VA    755    SEA   \n",
       "3        1705         45     1839         34      WN  N360SW    344    PDX   \n",
       "4         754         -1     1015          1      AS  N612AS    522    SEA   \n",
       "...       ...        ...      ...        ...     ...     ...    ...    ...   \n",
       "9995     1806         -4     2104         -6      OO  N225AG   3458    SEA   \n",
       "9996     2336         11      452        -13      AA  N3LEAA   1230    SEA   \n",
       "9997      904         -1     1042         -5      AS  N523AS    360    SEA   \n",
       "9998     1441         26     1820         10      WN  N8647A   2857    SEA   \n",
       "9999     1702         -3     1950        -10      DL  N583NW   2237    SEA   \n",
       "\n",
       "     dest  air_time  distance        dep_datetime  air_time_expected  \\\n",
       "0     LAX     132.0       954 2014-12-08 06:58:00                127   \n",
       "1     HNL     360.0      2677 2014-01-22 10:40:00                344   \n",
       "2     SFO     111.0       679 2014-03-09 14:43:00                101   \n",
       "3     SJC      83.0       569 2014-04-09 17:05:00                 86   \n",
       "4     BUR     127.0       937 2014-03-09 07:54:00                122   \n",
       "...   ...       ...       ...                 ...                ...   \n",
       "9995  SLC      89.0       689 2014-06-23 18:06:00                 89   \n",
       "9996  DFW     178.0      1660 2014-08-31 23:36:00                196   \n",
       "9997  SMF      81.0       605 2014-08-08 09:04:00                 83   \n",
       "9998  ABQ     133.0      1180 2014-08-29 14:41:00                143   \n",
       "9999  HNL     332.0      2677 2014-07-13 17:02:00                344   \n",
       "\n",
       "     haul_duration dep_season dep_delay_category  air_time_projected  max  \n",
       "0       SHORT-HAUL       FALL        ANTECIPATED                 115  127  \n",
       "1        LONG-HAUL     WINTER              MINOR                 287  344  \n",
       "2       SHORT-HAUL     WINTER        ANTECIPATED                  87  101  \n",
       "3       SHORT-HAUL     SPRING              MINOR                  76   86  \n",
       "4       SHORT-HAUL     WINTER        ANTECIPATED                 113  122  \n",
       "...            ...        ...                ...                 ...  ...  \n",
       "9995    SHORT-HAUL      SUMER        ANTECIPATED                  88   89  \n",
       "9996    SHORT-HAUL      SUMER              MINOR                 186  196  \n",
       "9997    SHORT-HAUL      SUMER        ANTECIPATED                  80   83  \n",
       "9998    SHORT-HAUL      SUMER              MINOR                 138  143  \n",
       "9999   MEDIUM-HAUL      SUMER        ANTECIPATED                 287  344  \n",
       "\n",
       "[10000 rows x 18 columns]"
      ]
     },
     "execution_count": 82,
     "metadata": {},
     "output_type": "execute_result"
    }
   ],
   "source": [
    "df_flights.withColumn('max', F.greatest(F.col('air_time_projected'), F.col('air_time_expected'))).toPandas()"
   ]
  },
  {
   "cell_type": "code",
   "execution_count": null,
   "id": "5199fcd2",
   "metadata": {},
   "outputs": [],
   "source": []
  },
  {
   "cell_type": "markdown",
   "id": "032f93d7",
   "metadata": {},
   "source": [
    "### Pergunta 11"
   ]
  },
  {
   "cell_type": "code",
   "execution_count": 83,
   "id": "78694f83",
   "metadata": {},
   "outputs": [],
   "source": [
    "# contando valores nulos!!!!\n",
    "df_flights = df_flights.withColumn('air_time',(\n",
    "                        F.when(check_empty_column('air_time'), F.col('dep_time') + F.col('air_time'))\n",
    "                         .otherwise(F.col('air_time'))\n",
    "))"
   ]
  },
  {
   "cell_type": "markdown",
   "id": "7dc1b53b",
   "metadata": {},
   "source": [
    "### Pergunta 12"
   ]
  },
  {
   "cell_type": "code",
   "execution_count": 77,
   "id": "ab7c3a1b",
   "metadata": {},
   "outputs": [],
   "source": [
    "df_flights = df_flights.withColumn('haul_duration',(\n",
    "                    F.when((df_flights.air_time >= 20) &\n",
    "                           (df_flights.air_time < 180),\n",
    "                           'SHORT-HAUL'\n",
    "                          )\n",
    "                     .when((df_flights.air_time >= 180) &\n",
    "                           (df_flights.air_time < 360),\n",
    "                           'MEDIUM-HAUL'\n",
    "                          )\n",
    "                     .when((df_flights.air_time >= 360), \n",
    "                           'LONG-HAUL'\n",
    "                          )))"
   ]
  },
  {
   "cell_type": "markdown",
   "id": "a7b9e94d",
   "metadata": {},
   "source": [
    "### Pergunta 13"
   ]
  },
  {
   "cell_type": "code",
   "execution_count": 79,
   "id": "e94c5534",
   "metadata": {},
   "outputs": [
    {
     "name": "stdout",
     "output_type": "stream",
     "text": [
      "+----------+-----+\n",
      "|dep_season|count|\n",
      "+----------+-----+\n",
      "|    WINTER| 2149|\n",
      "|    SPRING| 2560|\n",
      "|      FALL| 2373|\n",
      "|     SUMER| 2918|\n",
      "+----------+-----+\n",
      "\n"
     ]
    }
   ],
   "source": [
    "df_flights = df_flights.withColumn('dep_season',\n",
    "             F.when(F.col('dep_datetime').between('2013-12-21 21:48:00','2014-03-20 15:33:00'), 'WINTER')\n",
    "              .when(F.col('dep_datetime').between('2014-03-20 15:33:00','2014-06-21 10:14:00'), 'SPRING')\n",
    "              .when(F.col('dep_datetime').between('2014-06-21 10:14:00','2014-09-23 02:04:00'), 'SUMER')\n",
    "              .when(F.col('dep_datetime').between('2014-09-23 02:04:00','2014-12-21 21:48:00'), 'FALL')\n",
    "              .when(F.col('dep_datetime').between('2014-12-21 21:48:00','2015-03-20 15:33:00'), 'WINTER'))\n",
    "\n",
    "\n",
    "df_flights.select('dep_season').groupBy('dep_season').count().show()"
   ]
  },
  {
   "cell_type": "markdown",
   "id": "8f25eb9f",
   "metadata": {},
   "source": [
    "### Pergunta 14"
   ]
  },
  {
   "cell_type": "code",
   "execution_count": 80,
   "id": "b16a7c84",
   "metadata": {},
   "outputs": [],
   "source": [
    "df_flights = df_flights.withColumn('dep_delay_category', (\n",
    "                      F.when((F.col('dep_delay') < 0), \"ANTECIPATED\")\n",
    "                       .when((F.col('dep_delay') == 0), \"INTIME\")\n",
    "                       .when((F.col('dep_delay') >= 60 ), \"MAJOR\")\n",
    "                       .otherwise(\"MINOR\")\n",
    "))\n"
   ]
  },
  {
   "cell_type": "code",
   "execution_count": 56,
   "id": "c2cc8f5e",
   "metadata": {},
   "outputs": [],
   "source": [
    "### Usando SQL"
   ]
  },
  {
   "cell_type": "code",
   "execution_count": null,
   "id": "8ace6682",
   "metadata": {},
   "outputs": [],
   "source": [
    "### Usando RDD"
   ]
  },
  {
   "cell_type": "markdown",
   "id": "423e0187",
   "metadata": {},
   "source": [
    "### SALVANDO ARQUIVO  (DATAFRAME)"
   ]
  },
  {
   "cell_type": "code",
   "execution_count": null,
   "id": "bd981bfc",
   "metadata": {},
   "outputs": [],
   "source": [
    "### SALVANDO ARQUIVO CSV\n",
    "(df_airports.select(df_airports.colRegex(\"`^qa_.*`\"))\n",
    "            .repartition(1) # coalesce\n",
    "            .write.format(\"CSV\")\n",
    "            .mode('overwrite')\n",
    "            .option(\"header\", \"true\")\n",
    "            .save(\"Datasets/airports_qa.CSV\"))\n"
   ]
  },
  {
   "cell_type": "code",
   "execution_count": 85,
   "id": "155093b1",
   "metadata": {},
   "outputs": [],
   "source": [
    "### SALVANDO ARQUIVO PARQUET\n",
    "(df_airports.repartition(1) # coalesce\n",
    "            .write.format(\"parquet\")\n",
    "            .mode('overwrite')\n",
    "            .option(\"header\", \"true\")\n",
    "            .save(\"Datasets/transformacao/airports_proc.parquet\"))\n",
    "            "
   ]
  },
  {
   "cell_type": "markdown",
   "id": "f21ad0af",
   "metadata": {},
   "source": [
    "### SALVANDO ARQUIVO (RDD)"
   ]
  },
  {
   "cell_type": "code",
   "execution_count": null,
   "id": "e3df17fe",
   "metadata": {},
   "outputs": [],
   "source": [
    "(rdd_airports.map(qa_faa)\n",
    "             .map(qa_name)\n",
    "             .map(qa_lat)\n",
    "             .map(qa_lon)\n",
    "             .map(qa_alt)\n",
    "             .map(qa_tz)\n",
    "             .map(qa_dst)\n",
    "             .saveAsTextFile(\"Datasets/airports_.txt\"))"
   ]
  },
  {
   "cell_type": "code",
   "execution_count": 73,
   "id": "11609b17",
   "metadata": {},
   "outputs": [
    {
     "data": {
      "text/plain": [
       "'C:\\\\Academia_Pyspark\\\\exe_rev_douglas'"
      ]
     },
     "execution_count": 73,
     "metadata": {},
     "output_type": "execute_result"
    }
   ],
   "source": [
    "pwd"
   ]
  },
  {
   "cell_type": "code",
   "execution_count": null,
   "id": "9279b559",
   "metadata": {},
   "outputs": [],
   "source": []
  }
 ],
 "metadata": {
  "kernelspec": {
   "display_name": "Python 3 (ipykernel)",
   "language": "python",
   "name": "python3"
  },
  "language_info": {
   "codemirror_mode": {
    "name": "ipython",
    "version": 3
   },
   "file_extension": ".py",
   "mimetype": "text/x-python",
   "name": "python",
   "nbconvert_exporter": "python",
   "pygments_lexer": "ipython3",
   "version": "3.9.7"
  }
 },
 "nbformat": 4,
 "nbformat_minor": 5
}
