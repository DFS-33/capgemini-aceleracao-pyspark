{
 "cells": [
  {
   "cell_type": "markdown",
   "id": "104b4c82",
   "metadata": {},
   "source": [
    "### Qualidade\n",
    "Antes de realizarmos transformações nos dados, é importante estabelecermos processos que apontem\n",
    "erros de qualidade nos dados que estamos trabalhado, dessa forma é possível ter clareza das\n",
    "inconsistências comuns e assim criar formas de melhorar a qualidade dos dados. Pensando nisso, a\n",
    "primeira atividade planejada é criarmos uma coluna adicional reportando o tipo de inconsistência que\n",
    "encontramos nos datasets."
   ]
  },
  {
   "cell_type": "code",
   "execution_count": 1,
   "id": "40e5bc1f",
   "metadata": {},
   "outputs": [
    {
     "name": "stdout",
     "output_type": "stream",
     "text": [
      "Requirement already satisfied: pyspark in c:\\users\\dsilva10\\anaconda3\\lib\\site-packages (3.2.1)\n",
      "Requirement already satisfied: py4j==0.10.9.3 in c:\\users\\dsilva10\\anaconda3\\lib\\site-packages (from pyspark) (0.10.9.3)\n",
      "Requirement already satisfied: findspark in c:\\users\\dsilva10\\anaconda3\\lib\\site-packages (2.0.1)\n"
     ]
    }
   ],
   "source": [
    "# Installing required packages\n",
    "!pip install pyspark\n",
    "!pip install findspark"
   ]
  },
  {
   "cell_type": "markdown",
   "id": "9f5fea52",
   "metadata": {},
   "source": [
    "### Dicionário\n",
    "* <b>faa (string):</b> Identificador do aeroporto determinado pela Federal Aviation Administration. Formato: 3-\n",
    "5 caracteres alfanuméricos.<br>\n",
    "* <b> name (string)</b>: Nome do aeroporto.<br>\n",
    "* <b> lat (float):</b> Latitude do aeroporto. Intervalo de valores [−180, 180]. <br>\n",
    "* <b> lon (float):</b> Longitude do aeroporto Intervalo de valores . [−180, 180] <br>\n",
    "* <b> alt (int):</b> Altitude do aeroporto. Unidade de medida em pés. Intervalo de valores [0,+∞) . <br>\n",
    "* <b> tz (float):</b> Fuso horário baseado no deslocamento de horas a partir de UTC/GMT. Intervalo de valores [−11,+14] \n",
    ". Pode ser fuso fracionário [1] <br>\n",
    "* <b> dst (category):</b> Horário de verão. Descrição dos possíveis valores [2]: <br>\n",
    "*  E (Europe)\n",
    "*  A (US/Canada)\n",
    "*  S (South America) \n",
    "*  O (Australia) \n",
    "*  Z (New Zealand)\n",
    "*  N (None) \n",
    "*  U (Unknown) \n",
    "*  faa"
   ]
  },
  {
   "cell_type": "code",
   "execution_count": 2,
   "id": "dec4f920",
   "metadata": {},
   "outputs": [],
   "source": [
    "# Locate spark\n",
    "import findspark\n",
    "findspark.init()"
   ]
  },
  {
   "cell_type": "code",
   "execution_count": 3,
   "id": "d0876bf5",
   "metadata": {},
   "outputs": [],
   "source": [
    "# Importando pacotes\n",
    "import re\n",
    "from pyspark import SparkContext, SparkConf\n",
    "from pyspark.sql import SparkSession\n",
    "from pyspark.sql import functions as F  # Importando todas as funções \n",
    "from pyspark.sql.types import StructType, StructField, StringType, IntegerType, FloatType"
   ]
  },
  {
   "cell_type": "code",
   "execution_count": 4,
   "id": "d8b13188",
   "metadata": {},
   "outputs": [],
   "source": [
    "# Expressoes regulares comuns\n",
    "# Boas práticas (variáveis constantes em maiusculo)\n",
    "REGEX_ALPHA    = r'[a-zA-Z]+'\n",
    "REGEX_INTEGER  = r'[0-9]+'\n",
    "REGEX_FLOAT    = r'[0-9]+\\.[0-9]+'\n",
    "REGEX_ALPHANUM = r'[0-9a-zA-Z]+'\n",
    "REGEX_EMPTY_STR= r'[\\t ]+$'\n",
    "REGEX_SPECIAL  = r'[!@#$%&*\\(\\)_]+'\n",
    "REGEX_NNUMBER  = r'^N[1-9][0-9]{2,3}([ABCDEFGHJKLMNPRSTUVXWYZ]{1,2})'\n",
    "REGEX_NNUMBER_INVALID = r'(N0.*$)|(.*[IO].*)'\n",
    "REGEX_TIME_FMT = r'^(([0-1]?[0-9])|(2[0-3]))([0-5][0-9])$'"
   ]
  },
  {
   "cell_type": "code",
   "execution_count": 5,
   "id": "8cd9c8a7",
   "metadata": {},
   "outputs": [],
   "source": [
    "# Funcoes auxiliares \n",
    "def split_csv(line):\n",
    "    return tuple(map(lambda x: x.replace('\"',''), line.split(\",\")))\n",
    "\n",
    "def check_empty_column(col):\n",
    "    return (F.col(col).isNull() | (F.col(col) =='') | F.col(col).rlike(REGEX_EMPTY_STR))"
   ]
  },
  {
   "cell_type": "code",
   "execution_count": 6,
   "id": "8835d325",
   "metadata": {},
   "outputs": [],
   "source": [
    "# Criar o contexto do spark\n",
    "sc = SparkContext()\n",
    "\n",
    "# Instancia o criador de sessao do spark\n",
    "spark = (SparkSession.builder\n",
    "                     .master(\"local[7]\")\n",
    "                     .appName(\"Aceleração PySpark - Capgemini\"))"
   ]
  },
  {
   "cell_type": "code",
   "execution_count": 27,
   "id": "b282d7bc",
   "metadata": {},
   "outputs": [],
   "source": [
    "schema_airports = StructType([\n",
    "    StructField(\"faa\",  StringType(),  True),\n",
    "    StructField(\"name\", StringType(),  True),\n",
    "    StructField(\"lat\",  FloatType(),   True),\n",
    "    StructField(\"lon\",  FloatType(),   True),\n",
    "    StructField(\"alt\",  IntegerType(), True),\n",
    "    StructField(\"tz\",   IntegerType(), True),\n",
    "    StructField(\"dst\",  StringType(),  True)\n",
    "])\n",
    "\n",
    "schema_planes = StructType([\n",
    "    StructField(\"tailnum\",      StringType(),  True),\n",
    "    StructField(\"year\",         IntegerType(), True),\n",
    "    StructField(\"type\",         StringType(),  True),\n",
    "    StructField(\"manufacturer\", StringType(),  True),\n",
    "    StructField(\"model\",        StringType(),  True),\n",
    "    StructField(\"engines\",      IntegerType(), True),\n",
    "    StructField(\"seats\",        IntegerType(), True),\n",
    "    StructField(\"speed\",        IntegerType(), True),\n",
    "    StructField(\"engine\",       StringType(),  True)\n",
    "])\n",
    "\n",
    "schema_flights = StructType([\n",
    "    StructField(\"year\",      IntegerType(), True),\n",
    "    StructField(\"month\",     IntegerType(), True),\n",
    "    StructField(\"day\",       IntegerType(), True),\n",
    "    StructField(\"dep_time\",  StringType(),  True),\n",
    "    StructField(\"dep_delay\", IntegerType(), True),\n",
    "    StructField(\"arr_time\",  StringType(),  True),\n",
    "    StructField(\"arr_delay\", IntegerType(), True),\n",
    "    StructField(\"carrier\",   StringType(),  True),\n",
    "    StructField(\"tailnum\",   StringType(),  True),\n",
    "    StructField(\"flight\",    StringType(),  True),\n",
    "    StructField(\"origin\",    StringType(),  True),\n",
    "    StructField(\"dest\",      StringType(),  True),\n",
    "    StructField(\"air_time\",  IntegerType(), True),\n",
    "    StructField(\"distance\",  IntegerType(), True),\n",
    "    StructField(\"hour\",      IntegerType(), True),\n",
    "    StructField(\"minute\",    IntegerType(), True),\n",
    "])"
   ]
  },
  {
   "cell_type": "code",
   "execution_count": 31,
   "id": "b6003f29",
   "metadata": {},
   "outputs": [],
   "source": [
    "# Lendo Datasets \n",
    "df_airports = (spark.getOrCreate().read\n",
    "                   .format(\"csv\")\n",
    "                   .option(\"header\",\"True\")\n",
    "                   .schema(schema_airports)\n",
    "                   .load(\"../../pyspark-capgemini/data/airports.csv\"))\n",
    "\n",
    "\n",
    "df_planes = (spark.getOrCreate().read\n",
    "                   .format(\"csv\")\n",
    "                   .option(\"header\",\"True\")\n",
    "                   .schema(schema_planes)\n",
    "                   .load(\"../../pyspark-capgemini/data/planes.csv\"))\n",
    "\n",
    "\n",
    "df_flights = (spark.getOrCreate().read\n",
    "                   .format(\"csv\")\n",
    "                   .option(\"header\",\"True\")\n",
    "                   .schema(schema_flights)\n",
    "                   .load(\"../../pyspark-capgemini/data/flights.csv\"))"
   ]
  },
  {
   "cell_type": "code",
   "execution_count": 17,
   "id": "94eb5cb7",
   "metadata": {},
   "outputs": [
    {
     "name": "stdout",
     "output_type": "stream",
     "text": [
      "root\n",
      " |-- faa: string (nullable = true)\n",
      " |-- name: string (nullable = true)\n",
      " |-- lat: float (nullable = true)\n",
      " |-- lon: float (nullable = true)\n",
      " |-- alt: integer (nullable = true)\n",
      " |-- tz: integer (nullable = true)\n",
      " |-- dst: string (nullable = true)\n",
      "\n"
     ]
    }
   ],
   "source": [
    "df_airports.printSchema()"
   ]
  },
  {
   "cell_type": "code",
   "execution_count": 18,
   "id": "b68eeac3",
   "metadata": {},
   "outputs": [],
   "source": [
    "# Criacao das visões temporarias\n",
    "df_airports.createOrReplaceTempView('airports')"
   ]
  },
  {
   "cell_type": "code",
   "execution_count": 21,
   "id": "17723e77",
   "metadata": {},
   "outputs": [],
   "source": [
    "# Leitura dos dados como RDD\n",
    "rdd_airports = sc.textFile(\"../../pyspark-capgemini/data/airports.csv\")"
   ]
  },
  {
   "cell_type": "code",
   "execution_count": 22,
   "id": "0c1bbc83",
   "metadata": {},
   "outputs": [],
   "source": [
    "# armazena a primeira linha (colunas) do arquivo como referencia.\n",
    "header_airports = rdd_airports.first()\n",
    "\n",
    "# Remove a primeira linha (colunas) do rdd\n",
    "rdd_airports = rdd_airports.filter(lambda line: line != header_airports).map(split_csv)"
   ]
  },
  {
   "cell_type": "markdown",
   "id": "547fbf49",
   "metadata": {},
   "source": [
    "### Criando função para adicionar linhas e testar o código. "
   ]
  },
  {
   "cell_type": "code",
   "execution_count": 23,
   "id": "870f21a2",
   "metadata": {},
   "outputs": [],
   "source": [
    "def add_test_rows_for_airports(data,_format): #convenção para usar _ para diferenciar de nomes reservados\n",
    "        # Adiciona linhas para testar regras de negócio\n",
    "        values = [\n",
    "        #faa    name  lat       lon               alt       tz    dst\n",
    "        (None , None, None    , None            , None    , None, None),\n",
    "        (''   , ''  , ''      , ''              , ''      , ''  , ''  ),\n",
    "        ('   ', None, '12O.12', '-80.Aa6195833' , '1044Aa', '-2x', '34'),\n",
    "        ('AAA', None, '12O.12', '-80.Aa6195833' , '1044Aa', '-2x', '34'),\n",
    "        ('222', None, None    , '-80.Aa6195833' , '-100'  , '-14', 'K'),\n",
    "        ('__!', None, None    , '-80.Aa6195833' , '-100'  , '-14', 'K')\n",
    "    ]\n",
    "        if _format ==\"df\":\n",
    "            return spark.getOrCreate().createDataFrame(values,data.columns).union(data)\n",
    "        elif _format == \"rdd\":\n",
    "            return sc.parallelize(tuple(values)).union(data)"
   ]
  },
  {
   "cell_type": "code",
   "execution_count": 24,
   "id": "955d561f",
   "metadata": {},
   "outputs": [],
   "source": [
    "# Adicionando linhas ao Dataframe\n",
    "df_airports  = add_test_rows_for_airports(df_airports,  \"df\")\n",
    "rdd_airports = add_test_rows_for_airports(rdd_airports, \"rdd\")"
   ]
  },
  {
   "cell_type": "code",
   "execution_count": 29,
   "id": "0694fdae",
   "metadata": {},
   "outputs": [
    {
     "data": {
      "text/plain": [
       "[(None, None, None, None, None, None, None),\n",
       " ('', '', '', '', '', '', ''),\n",
       " ('   ', None, '12O.12', '-80.Aa6195833', '1044Aa', '-2x', '34'),\n",
       " ('AAA', None, '12O.12', '-80.Aa6195833', '1044Aa', '-2x', '34'),\n",
       " ('222', None, None, '-80.Aa6195833', '-100', '-14', 'K'),\n",
       " ('__!', None, None, '-80.Aa6195833', '-100', '-14', 'K'),\n",
       " ('04G', 'Lansdowne Airport', '41.1304722', '-80.6195833', '1044', '-5', 'A'),\n",
       " ('06A',\n",
       "  'Moton Field Municipal Airport',\n",
       "  '32.4605722',\n",
       "  '-85.6800278',\n",
       "  '264',\n",
       "  '-5',\n",
       "  'A'),\n",
       " ('06C', 'Schaumburg Regional', '41.9893408', '-88.1012428', '801', '-6', 'A'),\n",
       " ('06N', 'Randall Airport', '41.431912', '-74.3915611', '523', '-5', 'A')]"
      ]
     },
     "execution_count": 29,
     "metadata": {},
     "output_type": "execute_result"
    }
   ],
   "source": [
    "rdd_airports.take(10)"
   ]
  },
  {
   "cell_type": "markdown",
   "id": "083c53b0",
   "metadata": {},
   "source": [
    "# Dataset Airports"
   ]
  },
  {
   "cell_type": "markdown",
   "id": "92be721d",
   "metadata": {},
   "source": [
    "### <b>Perguntas\n",
    "Considere o dataset airports.csv para realizar as seguintes tarefas:</b>\n",
    "### Pergunta 1<br>\n"
   ]
  },
  {
   "cell_type": "code",
   "execution_count": 10,
   "id": "e65106cb",
   "metadata": {},
   "outputs": [
    {
     "name": "stdout",
     "output_type": "stream",
     "text": [
      "+---+--------------------+---------+-----------+----+---+---+------+\n",
      "|faa|                name|      lat|        lon| alt| tz|dst|qa_faa|\n",
      "+---+--------------------+---------+-----------+----+---+---+------+\n",
      "|04G|   Lansdowne Airport|41.130474|  -80.61958|1044| -5|  A|  null|\n",
      "|06A|Moton Field Munic...| 32.46057|  -85.68003| 264| -5|  A|  null|\n",
      "|06C| Schaumburg Regional| 41.98934|  -88.10124| 801| -6|  A|  null|\n",
      "|06N|     Randall Airport| 41.43191|  -74.39156| 523| -5|  A|  null|\n",
      "|09J|Jekyll Island Air...|31.074472|  -81.42778|  11| -4|  A|  null|\n",
      "|0A9|Elizabethton Muni...|36.371223| -82.173416|1593| -4|  A|  null|\n",
      "|0G6|Williams County A...|41.467304| -84.506775| 730| -5|  A|  null|\n",
      "|0G7|Finger Lakes Regi...|42.883564| -76.781235| 492| -5|  A|  null|\n",
      "|0P2|Shoestring Aviati...|39.794823| -76.647194|1000| -5|  U|  null|\n",
      "|0S9|Jefferson County ...| 48.05381|-122.810646| 108| -8|  A|  null|\n",
      "+---+--------------------+---------+-----------+----+---+---+------+\n",
      "only showing top 10 rows\n",
      "\n"
     ]
    }
   ],
   "source": [
    "# Usando dataframe\n",
    "df_airports = df_airports.withColumn('qa_faa',(\n",
    "        F.when(check_empty_column('faa'),'M')\n",
    "         .when(\n",
    "             (~F.length(F.col('faa')).between(3,5)  |\n",
    "             (~F.col('faa').rlike(REGEX_ALPHANUM))),\"F\")))\n",
    "\n",
    "\n",
    "df_airports.show(10)"
   ]
  },
  {
   "cell_type": "code",
   "execution_count": 26,
   "id": "971a7deb",
   "metadata": {},
   "outputs": [
    {
     "name": "stdout",
     "output_type": "stream",
     "text": [
      "+---+--------------------+---------+---------+----+---+---+------+\n",
      "|faa|                name|      lat|      lon| alt| tz|dst|qa_faa|\n",
      "+---+--------------------+---------+---------+----+---+---+------+\n",
      "|04G|   Lansdowne Airport|41.130474|-80.61958|1044| -5|  A|  null|\n",
      "|06A|Moton Field Munic...| 32.46057|-85.68003| 264| -5|  A|  null|\n",
      "|06C| Schaumburg Regional| 41.98934|-88.10124| 801| -6|  A|  null|\n",
      "|06N|     Randall Airport| 41.43191|-74.39156| 523| -5|  A|  null|\n",
      "|09J|Jekyll Island Air...|31.074472|-81.42778|  11| -4|  A|  null|\n",
      "+---+--------------------+---------+---------+----+---+---+------+\n",
      "only showing top 5 rows\n",
      "\n"
     ]
    }
   ],
   "source": [
    "# Usando SQL\n",
    "spark.getOrCreate().sql(f\"\"\"\n",
    "SELECT *, CASE \n",
    "            WHEN faa RLIKE '{REGEX_EMPTY_STR}' OR faa IS NULL OR faa LIKE ''           THEN 'M'\n",
    "            WHEN NOT (faa RLIKE'{REGEX_ALPHANUM}') OR NOT (LENGTH(faa) BETWEEN 3 AND 5) THEN 'F'\n",
    "          END AS qa_faa\n",
    "FROM airports\n",
    "\"\"\").show(5)"
   ]
  },
  {
   "cell_type": "code",
   "execution_count": 14,
   "id": "643d486f",
   "metadata": {},
   "outputs": [
    {
     "data": {
      "text/plain": [
       "[(None, None, None, None, None, None, None, 'M'),\n",
       " ('', '', '', '', '', '', '', 'M'),\n",
       " ('   ', None, '12O.12', '-80.Aa6195833', '1044Aa', '-2x', '34', 'M'),\n",
       " ('AAA', None, '12O.12', '-80.Aa6195833', '1044Aa', '-2x', '34', None),\n",
       " ('222', None, None, '-80.Aa6195833', '-100', '-14', 'K', None)]"
      ]
     },
     "execution_count": 14,
     "metadata": {},
     "output_type": "execute_result"
    }
   ],
   "source": [
    "# Usando RDD\n",
    "\n",
    "# Usando rdd\n",
    "def qa_faa(row):\n",
    "    faa, value = row[0], None\n",
    "\n",
    "    if (faa is None) or (faa == '') or re.findall(REGEX_EMPTY_STR, faa):\n",
    "        value = \"M\"\n",
    "    elif (not (3 <= len(faa) <= 5)) or (not faa.isalnum()):\n",
    "        value = \"F\"\n",
    "\n",
    "    return row + (value,)\n",
    "\n",
    "rdd_airports.map(qa_faa).take(5)"
   ]
  },
  {
   "cell_type": "markdown",
   "id": "4a9421e9",
   "metadata": {},
   "source": [
    "### Pergunta 2 \n"
   ]
  },
  {
   "cell_type": "code",
   "execution_count": 11,
   "id": "b9f634db",
   "metadata": {},
   "outputs": [
    {
     "name": "stdout",
     "output_type": "stream",
     "text": [
      "+---+--------------------+---------+---------+----+---+---+------+-------+\n",
      "|faa|                name|      lat|      lon| alt| tz|dst|qa_faa|qa_name|\n",
      "+---+--------------------+---------+---------+----+---+---+------+-------+\n",
      "|04G|   Lansdowne Airport|41.130474|-80.61958|1044| -5|  A|  null|   null|\n",
      "|06A|Moton Field Munic...| 32.46057|-85.68003| 264| -5|  A|  null|   null|\n",
      "|06C| Schaumburg Regional| 41.98934|-88.10124| 801| -6|  A|  null|   null|\n",
      "|06N|     Randall Airport| 41.43191|-74.39156| 523| -5|  A|  null|   null|\n",
      "|09J|Jekyll Island Air...|31.074472|-81.42778|  11| -4|  A|  null|   null|\n",
      "+---+--------------------+---------+---------+----+---+---+------+-------+\n",
      "only showing top 5 rows\n",
      "\n"
     ]
    }
   ],
   "source": [
    "# Usando dataframe\n",
    "df_airports = df_airports.withColumn('qa_name', F.when(check_empty_column('name'), 'M'))\n",
    "df_airports.show(5)"
   ]
  },
  {
   "cell_type": "code",
   "execution_count": 63,
   "id": "728fd31e",
   "metadata": {},
   "outputs": [
    {
     "name": "stdout",
     "output_type": "stream",
     "text": [
      "+---+--------------------+---------+---------+----+---+---+-------+\n",
      "|faa|                name|      lat|      lon| alt| tz|dst|qa_name|\n",
      "+---+--------------------+---------+---------+----+---+---+-------+\n",
      "|04G|   Lansdowne Airport|41.130474|-80.61958|1044| -5|  A|   null|\n",
      "|06A|Moton Field Munic...| 32.46057|-85.68003| 264| -5|  A|   null|\n",
      "|06C| Schaumburg Regional| 41.98934|-88.10124| 801| -6|  A|   null|\n",
      "|06N|     Randall Airport| 41.43191|-74.39156| 523| -5|  A|   null|\n",
      "|09J|Jekyll Island Air...|31.074472|-81.42778|  11| -4|  A|   null|\n",
      "+---+--------------------+---------+---------+----+---+---+-------+\n",
      "only showing top 5 rows\n",
      "\n"
     ]
    }
   ],
   "source": [
    "# Usando SQL\n",
    "spark.getOrCreate().sql(f\"\"\"\n",
    "SELECT *, CASE WHEN name IS NULL OR faa RLIKE '{REGEX_EMPTY_STR}' OR faa LIKE '' THEN 'M' END AS qa_name\n",
    "FROM airports\n",
    "\"\"\").show(5)"
   ]
  },
  {
   "cell_type": "code",
   "execution_count": 64,
   "id": "8577e413",
   "metadata": {},
   "outputs": [
    {
     "data": {
      "text/plain": [
       "[(None, None, None, None, None, None, None, 'M'),\n",
       " ('', '', '', '', '', '', '', None),\n",
       " ('   ', None, '12O.12', '-80.Aa6195833', '1044Aa', '-2x', '34', 'M'),\n",
       " ('AAA', None, '12O.12', '-80.Aa6195833', '1044Aa', '-2x', '34', 'M'),\n",
       " ('222', None, None, '-80.Aa6195833', '-100', '-14', 'K', 'M')]"
      ]
     },
     "execution_count": 64,
     "metadata": {},
     "output_type": "execute_result"
    }
   ],
   "source": [
    "# usando rdd \n",
    "def qa_name(row):\n",
    "    name, value = row[1],None\n",
    "    \n",
    "    if (name is None) or re.findall(REGEX_EMPTY_STR,name):\n",
    "        value = \"M\"\n",
    "        \n",
    "    return row +(value,)\n",
    "\n",
    "rdd_airports.map(qa_name).take(5)"
   ]
  },
  {
   "cell_type": "markdown",
   "id": "6aef052a",
   "metadata": {},
   "source": [
    "### Pergunta 3 "
   ]
  },
  {
   "cell_type": "code",
   "execution_count": 12,
   "id": "869a6f36",
   "metadata": {},
   "outputs": [
    {
     "name": "stdout",
     "output_type": "stream",
     "text": [
      "+---+--------------------+---------+---------+----+---+---+------+-------+------+\n",
      "|faa|                name|      lat|      lon| alt| tz|dst|qa_faa|qa_name|qa_lat|\n",
      "+---+--------------------+---------+---------+----+---+---+------+-------+------+\n",
      "|04G|   Lansdowne Airport|41.130474|-80.61958|1044| -5|  A|  null|   null|     I|\n",
      "|06A|Moton Field Munic...| 32.46057|-85.68003| 264| -5|  A|  null|   null|     I|\n",
      "|06C| Schaumburg Regional| 41.98934|-88.10124| 801| -6|  A|  null|   null|     I|\n",
      "|06N|     Randall Airport| 41.43191|-74.39156| 523| -5|  A|  null|   null|     I|\n",
      "|09J|Jekyll Island Air...|31.074472|-81.42778|  11| -4|  A|  null|   null|     I|\n",
      "+---+--------------------+---------+---------+----+---+---+------+-------+------+\n",
      "only showing top 5 rows\n",
      "\n"
     ]
    }
   ],
   "source": [
    "# Usando Dataframe\n",
    "df_airports = df_airports.withColumn('qa_lat',(\n",
    "      F.when(check_empty_column('lat'), 'M')\n",
    "       .when(F.col('lat').rlike(REGEX_ALPHA),'A')\n",
    "       .when(F.col('lat').between(-180,180),'I')))\n",
    "\n",
    "df_airports.show(5)"
   ]
  },
  {
   "cell_type": "code",
   "execution_count": 67,
   "id": "a1b673f4",
   "metadata": {},
   "outputs": [
    {
     "name": "stdout",
     "output_type": "stream",
     "text": [
      "+---+--------------------+---------+---------+----+---+---+------+\n",
      "|faa|                name|      lat|      lon| alt| tz|dst|qa_lat|\n",
      "+---+--------------------+---------+---------+----+---+---+------+\n",
      "|04G|   Lansdowne Airport|41.130474|-80.61958|1044| -5|  A|  null|\n",
      "|06A|Moton Field Munic...| 32.46057|-85.68003| 264| -5|  A|  null|\n",
      "|06C| Schaumburg Regional| 41.98934|-88.10124| 801| -6|  A|  null|\n",
      "|06N|     Randall Airport| 41.43191|-74.39156| 523| -5|  A|  null|\n",
      "|09J|Jekyll Island Air...|31.074472|-81.42778|  11| -4|  A|  null|\n",
      "+---+--------------------+---------+---------+----+---+---+------+\n",
      "only showing top 5 rows\n",
      "\n"
     ]
    }
   ],
   "source": [
    "# Usando SQL\n",
    "spark.getOrCreate().sql(f\"\"\"\n",
    "SELECT *, CASE\n",
    "            WHEN lat RLIKE '{REGEX_EMPTY_STR}' OR lat IS NULL OR lat LIKE '' THEN 'M'\n",
    "            WHEN lat RLIKE '{REGEX_ALPHA}'  THEN 'A'\n",
    "            WHEN lat <= -180 OR lat >= 180  THEN 'I'\n",
    "          END AS qa_lat\n",
    "FROM airports\n",
    "\"\"\").show(5)"
   ]
  },
  {
   "cell_type": "code",
   "execution_count": 70,
   "id": "b733daec",
   "metadata": {},
   "outputs": [
    {
     "data": {
      "text/plain": [
       "[(None, None, None, None, None, None, None, 'M'),\n",
       " ('', '', '', '', '', '', '', 'M'),\n",
       " ('   ', None, '12O.12', '-80.Aa6195833', '1044Aa', '-2x', '34', 'A'),\n",
       " ('AAA', None, '12O.12', '-80.Aa6195833', '1044Aa', '-2x', '34', 'A'),\n",
       " ('222', None, None, '-80.Aa6195833', '-100', '-14', 'K', 'M')]"
      ]
     },
     "execution_count": 70,
     "metadata": {},
     "output_type": "execute_result"
    }
   ],
   "source": [
    "# Usando rdd  - revisar \n",
    "def qa_lat(row):\n",
    "    lat, value = row[2], None\n",
    "\n",
    "    if not lat or re.findall(REGEX_EMPTY_STR, lat):\n",
    "        value = \"M\"\n",
    "    elif re.findall(REGEX_ALPHA, lat): # prioritade: alfanum > casting\n",
    "        value = \"A\"\n",
    "    elif not (-180 <= float(lat) <= 180):\n",
    "        value = \"I\"\n",
    "\n",
    "    return row + (value,)\n",
    "\n",
    "rdd_airports.map(qa_lat).take(5)"
   ]
  },
  {
   "cell_type": "markdown",
   "id": "74fed75f",
   "metadata": {},
   "source": [
    "### Pergunta 4 \n"
   ]
  },
  {
   "cell_type": "code",
   "execution_count": 13,
   "id": "09e39082",
   "metadata": {},
   "outputs": [
    {
     "name": "stdout",
     "output_type": "stream",
     "text": [
      "+---+--------------------+---------+---------+----+---+---+------+-------+------+------+\n",
      "|faa|                name|      lat|      lon| alt| tz|dst|qa_faa|qa_name|qa_lat|qa_lon|\n",
      "+---+--------------------+---------+---------+----+---+---+------+-------+------+------+\n",
      "|04G|   Lansdowne Airport|41.130474|-80.61958|1044| -5|  A|  null|   null|     I|  null|\n",
      "|06A|Moton Field Munic...| 32.46057|-85.68003| 264| -5|  A|  null|   null|     I|  null|\n",
      "|06C| Schaumburg Regional| 41.98934|-88.10124| 801| -6|  A|  null|   null|     I|  null|\n",
      "|06N|     Randall Airport| 41.43191|-74.39156| 523| -5|  A|  null|   null|     I|  null|\n",
      "|09J|Jekyll Island Air...|31.074472|-81.42778|  11| -4|  A|  null|   null|     I|  null|\n",
      "+---+--------------------+---------+---------+----+---+---+------+-------+------+------+\n",
      "only showing top 5 rows\n",
      "\n"
     ]
    }
   ],
   "source": [
    "# Usando dataframe\n",
    "df_airports = df_airports.withColumn(\"qa_lon\", (\n",
    "    F.when(check_empty_column(\"lon\"), \"M\")\n",
    "     .when(~F.col('lon').rlike(REGEX_FLOAT),\"A\")\n",
    "     .when(~F.col('lon').between(-180,180),\"I\")))\n",
    "\n",
    "df_airports.show(5)"
   ]
  },
  {
   "cell_type": "code",
   "execution_count": 75,
   "id": "dbaac838",
   "metadata": {},
   "outputs": [
    {
     "name": "stdout",
     "output_type": "stream",
     "text": [
      "+---+--------------------+---------+---------+----+---+---+------+\n",
      "|faa|                name|      lat|      lon| alt| tz|dst|qa_lat|\n",
      "+---+--------------------+---------+---------+----+---+---+------+\n",
      "|04G|   Lansdowne Airport|41.130474|-80.61958|1044| -5|  A|  null|\n",
      "|06A|Moton Field Munic...| 32.46057|-85.68003| 264| -5|  A|  null|\n",
      "|06C| Schaumburg Regional| 41.98934|-88.10124| 801| -6|  A|  null|\n",
      "|06N|     Randall Airport| 41.43191|-74.39156| 523| -5|  A|  null|\n",
      "|09J|Jekyll Island Air...|31.074472|-81.42778|  11| -4|  A|  null|\n",
      "+---+--------------------+---------+---------+----+---+---+------+\n",
      "only showing top 5 rows\n",
      "\n"
     ]
    }
   ],
   "source": [
    "# Usando SQL\n",
    "spark.getOrCreate().sql(f\"\"\"\n",
    "SELECT *, CASE\n",
    "            WHEN lon RLIKE '{REGEX_EMPTY_STR}' OR lon IS NULL OR lon LIKE '' THEN 'M'\n",
    "            WHEN lon RLIKE '{REGEX_ALPHA}'  THEN 'A'\n",
    "            WHEN lon <= -180 OR lon >= 180  THEN 'I'\n",
    "          END AS qa_lat\n",
    "FROM airports\n",
    "\"\"\").show(5)"
   ]
  },
  {
   "cell_type": "code",
   "execution_count": 77,
   "id": "97d6df06",
   "metadata": {},
   "outputs": [
    {
     "data": {
      "text/plain": [
       "[(None, None, None, None, None, None, None, 'M'),\n",
       " ('', '', '', '', '', '', '', 'M'),\n",
       " ('   ', None, '12O.12', '-80.Aa6195833', '1044Aa', '-2x', '34', 'A'),\n",
       " ('AAA', None, '12O.12', '-80.Aa6195833', '1044Aa', '-2x', '34', 'A'),\n",
       " ('222', None, None, '-80.Aa6195833', '-100', '-14', 'K', 'A')]"
      ]
     },
     "execution_count": 77,
     "metadata": {},
     "output_type": "execute_result"
    }
   ],
   "source": [
    "# Usando rdd\n",
    "def qa_lon(row):\n",
    "    lon,value = row[3],None\n",
    "    \n",
    "    if not lon or re.findall(REGEX_EMPTY_STR,lon):\n",
    "        value = \"M\"\n",
    "        \n",
    "    elif re.findall(REGEX_ALPHANUM,lon):\n",
    "        value=\"A\"\n",
    "    elif  not (-180 <= float(lon) <= 180):\n",
    "        value =\"I\"\n",
    "    return row + (value,)\n",
    "\n",
    "rdd_airports.map(qa_lon).take(5)"
   ]
  },
  {
   "cell_type": "markdown",
   "id": "59bdecdc",
   "metadata": {},
   "source": [
    "###  Pergunta 5 "
   ]
  },
  {
   "cell_type": "code",
   "execution_count": 14,
   "id": "40af92c4",
   "metadata": {},
   "outputs": [
    {
     "name": "stdout",
     "output_type": "stream",
     "text": [
      "+---+--------------------+---------+---------+----+---+---+------+-------+------+------+------+\n",
      "|faa|                name|      lat|      lon| alt| tz|dst|qa_faa|qa_name|qa_lat|qa_lon|qa_alt|\n",
      "+---+--------------------+---------+---------+----+---+---+------+-------+------+------+------+\n",
      "|04G|   Lansdowne Airport|41.130474|-80.61958|1044| -5|  A|  null|   null|     I|  null|  null|\n",
      "|06A|Moton Field Munic...| 32.46057|-85.68003| 264| -5|  A|  null|   null|     I|  null|  null|\n",
      "|06C| Schaumburg Regional| 41.98934|-88.10124| 801| -6|  A|  null|   null|     I|  null|  null|\n",
      "|06N|     Randall Airport| 41.43191|-74.39156| 523| -5|  A|  null|   null|     I|  null|  null|\n",
      "|09J|Jekyll Island Air...|31.074472|-81.42778|  11| -4|  A|  null|   null|     I|  null|  null|\n",
      "+---+--------------------+---------+---------+----+---+---+------+-------+------+------+------+\n",
      "only showing top 5 rows\n",
      "\n"
     ]
    }
   ],
   "source": [
    "# Usando dataframe\n",
    "df_airports = df_airports.withColumn('qa_alt', (\n",
    "            F.when(check_empty_column('alt'), 'M')\n",
    "             .when(~F.col('alt').rlike(REGEX_INTEGER), 'A')             \n",
    "             .when(F.col('alt') < 0, 'I')))\n",
    "\n",
    "df_airports.show(5)"
   ]
  },
  {
   "cell_type": "code",
   "execution_count": 79,
   "id": "a125e05a",
   "metadata": {},
   "outputs": [
    {
     "name": "stdout",
     "output_type": "stream",
     "text": [
      "+---+--------------------+---------+---------+----+---+---+------+\n",
      "|faa|                name|      lat|      lon| alt| tz|dst|qa_alt|\n",
      "+---+--------------------+---------+---------+----+---+---+------+\n",
      "|04G|   Lansdowne Airport|41.130474|-80.61958|1044| -5|  A|     A|\n",
      "|06A|Moton Field Munic...| 32.46057|-85.68003| 264| -5|  A|     A|\n",
      "|06C| Schaumburg Regional| 41.98934|-88.10124| 801| -6|  A|     A|\n",
      "|06N|     Randall Airport| 41.43191|-74.39156| 523| -5|  A|     A|\n",
      "|09J|Jekyll Island Air...|31.074472|-81.42778|  11| -4|  A|     A|\n",
      "+---+--------------------+---------+---------+----+---+---+------+\n",
      "only showing top 5 rows\n",
      "\n"
     ]
    }
   ],
   "source": [
    "# Usando SQL\n",
    "spark.getOrCreate().sql(f\"\"\"\n",
    "SELECT *, CASE\n",
    "            WHEN alt RLIKE '{REGEX_EMPTY_STR}' OR alt IS NULL OR alt LIKE '' THEN 'M'\n",
    "            WHEN alt RLIKE '{REGEX_ALPHANUM}' THEN 'A'\n",
    "            WHEN alt < 0 THEN 'I'\n",
    "          END AS qa_alt\n",
    "FROM airports\n",
    "\"\"\").show(5)"
   ]
  },
  {
   "cell_type": "code",
   "execution_count": 80,
   "id": "19c88147",
   "metadata": {},
   "outputs": [
    {
     "data": {
      "text/plain": [
       "[(None, None, None, None, None, None, None, 'M'),\n",
       " ('', '', '', '', '', '', '', 'M'),\n",
       " ('   ', None, '12O.12', '-80.Aa6195833', '1044Aa', '-2x', '34', 'A'),\n",
       " ('AAA', None, '12O.12', '-80.Aa6195833', '1044Aa', '-2x', '34', 'A'),\n",
       " ('222', None, None, '-80.Aa6195833', '-100', '-14', 'K', 'A')]"
      ]
     },
     "execution_count": 80,
     "metadata": {},
     "output_type": "execute_result"
    }
   ],
   "source": [
    "# Usando rdd\n",
    "def qa_alt(row):\n",
    "    alt, value = row[4], None\n",
    "\n",
    "    if not alt or re.findall(REGEX_EMPTY_STR, alt):\n",
    "        value = \"M\"\n",
    "    elif re.findall(REGEX_ALPHANUM, alt):\n",
    "        value = \"A\"\n",
    "    elif int(alt) < 0:\n",
    "        value = \"I\"\n",
    "\n",
    "    return row + (value,)\n",
    "\n",
    "rdd_airports.map(qa_alt).take(5)"
   ]
  },
  {
   "cell_type": "markdown",
   "id": "fa28ea62",
   "metadata": {},
   "source": [
    "### Pergunta 6.<br>"
   ]
  },
  {
   "cell_type": "code",
   "execution_count": 15,
   "id": "9ef7d2d9",
   "metadata": {},
   "outputs": [
    {
     "name": "stdout",
     "output_type": "stream",
     "text": [
      "+---+--------------------+---------+---------+----+---+---+------+-------+------+------+------+-----+\n",
      "|faa|                name|      lat|      lon| alt| tz|dst|qa_faa|qa_name|qa_lat|qa_lon|qa_alt|qa_tz|\n",
      "+---+--------------------+---------+---------+----+---+---+------+-------+------+------+------+-----+\n",
      "|04G|   Lansdowne Airport|41.130474|-80.61958|1044| -5|  A|  null|   null|     I|  null|  null| null|\n",
      "|06A|Moton Field Munic...| 32.46057|-85.68003| 264| -5|  A|  null|   null|     I|  null|  null| null|\n",
      "|06C| Schaumburg Regional| 41.98934|-88.10124| 801| -6|  A|  null|   null|     I|  null|  null| null|\n",
      "|06N|     Randall Airport| 41.43191|-74.39156| 523| -5|  A|  null|   null|     I|  null|  null| null|\n",
      "|09J|Jekyll Island Air...|31.074472|-81.42778|  11| -4|  A|  null|   null|     I|  null|  null| null|\n",
      "+---+--------------------+---------+---------+----+---+---+------+-------+------+------+------+-----+\n",
      "only showing top 5 rows\n",
      "\n"
     ]
    }
   ],
   "source": [
    "# Usando dataframe\n",
    "df_airports = df_airports.withColumn('qa_tz', (\n",
    "            F.when(check_empty_column('tz'), 'M')\n",
    "             .when(~F.col('tz').rlike(REGEX_INTEGER + '$'), 'A')         \n",
    "             .when(~F.col('tz').between(-11, 14), 'I')))\n",
    "\n",
    "df_airports.show(5)"
   ]
  },
  {
   "cell_type": "code",
   "execution_count": 82,
   "id": "68817744",
   "metadata": {},
   "outputs": [
    {
     "name": "stdout",
     "output_type": "stream",
     "text": [
      "+---+--------------------+---------+---------+----+---+---+-----+\n",
      "|faa|                name|      lat|      lon| alt| tz|dst|qa_tz|\n",
      "+---+--------------------+---------+---------+----+---+---+-----+\n",
      "|04G|   Lansdowne Airport|41.130474|-80.61958|1044| -5|  A|    A|\n",
      "|06A|Moton Field Munic...| 32.46057|-85.68003| 264| -5|  A|    A|\n",
      "|06C| Schaumburg Regional| 41.98934|-88.10124| 801| -6|  A|    A|\n",
      "|06N|     Randall Airport| 41.43191|-74.39156| 523| -5|  A|    A|\n",
      "|09J|Jekyll Island Air...|31.074472|-81.42778|  11| -4|  A|    A|\n",
      "+---+--------------------+---------+---------+----+---+---+-----+\n",
      "only showing top 5 rows\n",
      "\n"
     ]
    }
   ],
   "source": [
    "# Usando SQL\n",
    "spark.getOrCreate().sql(f\"\"\"\n",
    "SELECT *, CASE\n",
    "            WHEN tz RLIKE '{REGEX_EMPTY_STR}' OR tz IS NULL OR tz LIKE '' THEN 'M'\n",
    "            WHEN tz RLIKE '{REGEX_INTEGER}' THEN 'A'\n",
    "            WHEN tz < -11 OR tz > 14 THEN 'I'\n",
    "          END AS qa_tz\n",
    "FROM airports\n",
    "\"\"\").show(5)"
   ]
  },
  {
   "cell_type": "code",
   "execution_count": 83,
   "id": "d1821d4d",
   "metadata": {},
   "outputs": [
    {
     "data": {
      "text/plain": [
       "[(None, None, None, None, None, None, None, 'M'),\n",
       " ('', '', '', '', '', '', '', 'M'),\n",
       " ('   ', None, '12O.12', '-80.Aa6195833', '1044Aa', '-2x', '34', 'A'),\n",
       " ('AAA', None, '12O.12', '-80.Aa6195833', '1044Aa', '-2x', '34', 'A'),\n",
       " ('222', None, None, '-80.Aa6195833', '-100', '-14', 'K', None)]"
      ]
     },
     "execution_count": 83,
     "metadata": {},
     "output_type": "execute_result"
    }
   ],
   "source": [
    "# Usando rdd\n",
    "def qa_tz(row):\n",
    "    tz, value = row[5], None\n",
    "\n",
    "    if not tz or re.findall(REGEX_EMPTY_STR, tz):\n",
    "        value = \"M\"\n",
    "    elif not re.findall(REGEX_INTEGER + '$', tz):\n",
    "        value = \"A\"\n",
    "    elif -11 <= int(tz) <= 14:\n",
    "        value = \"I\"\n",
    "\n",
    "    return row + (value,)\n",
    "\n",
    "rdd_airports.map(qa_tz).take(5)"
   ]
  },
  {
   "cell_type": "markdown",
   "id": "34316ae6",
   "metadata": {},
   "source": [
    "### Pergunta 7<br>\n"
   ]
  },
  {
   "cell_type": "code",
   "execution_count": 16,
   "id": "12379f02",
   "metadata": {},
   "outputs": [],
   "source": [
    "DST_CATEGORIES = ['E', 'A', 'S', 'O', 'Z', 'N', 'U']"
   ]
  },
  {
   "cell_type": "code",
   "execution_count": 17,
   "id": "20ccd881",
   "metadata": {},
   "outputs": [
    {
     "name": "stdout",
     "output_type": "stream",
     "text": [
      "+---+--------------------+---------+---------+----+---+---+------+-------+------+------+------+-----+------+\n",
      "|faa|                name|      lat|      lon| alt| tz|dst|qa_faa|qa_name|qa_lat|qa_lon|qa_alt|qa_tz|qa_dst|\n",
      "+---+--------------------+---------+---------+----+---+---+------+-------+------+------+------+-----+------+\n",
      "|04G|   Lansdowne Airport|41.130474|-80.61958|1044| -5|  A|  null|   null|     I|  null|  null| null|  null|\n",
      "|06A|Moton Field Munic...| 32.46057|-85.68003| 264| -5|  A|  null|   null|     I|  null|  null| null|  null|\n",
      "|06C| Schaumburg Regional| 41.98934|-88.10124| 801| -6|  A|  null|   null|     I|  null|  null| null|  null|\n",
      "|06N|     Randall Airport| 41.43191|-74.39156| 523| -5|  A|  null|   null|     I|  null|  null| null|  null|\n",
      "|09J|Jekyll Island Air...|31.074472|-81.42778|  11| -4|  A|  null|   null|     I|  null|  null| null|  null|\n",
      "+---+--------------------+---------+---------+----+---+---+------+-------+------+------+------+-----+------+\n",
      "only showing top 5 rows\n",
      "\n"
     ]
    }
   ],
   "source": [
    "# Usando dataframe\n",
    "df_airports = df_airports.withColumn('qa_dst', (\n",
    "            F.when(check_empty_column('dst'), 'M')\n",
    "             .when(F.col('dst').rlike(REGEX_INTEGER), 'N')\n",
    "             .when(~F.col('dst').isin(DST_CATEGORIES), 'C')))\n",
    "\n",
    "df_airports.show(5)"
   ]
  },
  {
   "cell_type": "code",
   "execution_count": 86,
   "id": "8346249f",
   "metadata": {},
   "outputs": [
    {
     "name": "stdout",
     "output_type": "stream",
     "text": [
      "+---+--------------------+---------+---------+----+---+---+------+\n",
      "|faa|                name|      lat|      lon| alt| tz|dst|qa_dst|\n",
      "+---+--------------------+---------+---------+----+---+---+------+\n",
      "|04G|   Lansdowne Airport|41.130474|-80.61958|1044| -5|  A|  null|\n",
      "|06A|Moton Field Munic...| 32.46057|-85.68003| 264| -5|  A|  null|\n",
      "|06C| Schaumburg Regional| 41.98934|-88.10124| 801| -6|  A|  null|\n",
      "|06N|     Randall Airport| 41.43191|-74.39156| 523| -5|  A|  null|\n",
      "|09J|Jekyll Island Air...|31.074472|-81.42778|  11| -4|  A|  null|\n",
      "+---+--------------------+---------+---------+----+---+---+------+\n",
      "only showing top 5 rows\n",
      "\n"
     ]
    }
   ],
   "source": [
    "# Usando SQL\n",
    "spark.getOrCreate().sql(f\"\"\"\n",
    "SELECT *, CASE\n",
    "            WHEN dst RLIKE '{REGEX_EMPTY_STR}' OR dst IS NULL OR dst LIKE '' THEN 'M'\n",
    "            WHEN dst RLIKE '{REGEX_INTEGER}' THEN 'N'\n",
    "            WHEN dst NOT IN {tuple(DST_CATEGORIES)} THEN 'C'\n",
    "          END AS qa_dst\n",
    "FROM airports\n",
    "\"\"\").show(5)"
   ]
  },
  {
   "cell_type": "code",
   "execution_count": 87,
   "id": "bfe4283d",
   "metadata": {},
   "outputs": [
    {
     "data": {
      "text/plain": [
       "[(None, None, None, None, None, None, None, 'M'),\n",
       " ('', '', '', '', '', '', '', 'M'),\n",
       " ('   ', None, '12O.12', '-80.Aa6195833', '1044Aa', '-2x', '34', 'N'),\n",
       " ('AAA', None, '12O.12', '-80.Aa6195833', '1044Aa', '-2x', '34', 'N'),\n",
       " ('222', None, None, '-80.Aa6195833', '-100', '-14', 'K', 'C')]"
      ]
     },
     "execution_count": 87,
     "metadata": {},
     "output_type": "execute_result"
    }
   ],
   "source": [
    "# Usando rdd\n",
    "def qa_dst(row):\n",
    "    dst, value = row[6], None\n",
    "\n",
    "    if not dst or re.findall(REGEX_EMPTY_STR, dst):\n",
    "        value = \"M\"\n",
    "    elif re.findall(REGEX_INTEGER, dst):\n",
    "        value = \"N\"\n",
    "    elif dst not in DST_CATEGORIES:\n",
    "        value = \"C\"\n",
    "\n",
    "    return row + (value,)\n",
    "\n",
    "rdd_airports.map(qa_dst).take(5)"
   ]
  },
  {
   "cell_type": "markdown",
   "id": "dd876ce1",
   "metadata": {},
   "source": [
    "# Dataset Planes\n",
    "  "
   ]
  },
  {
   "cell_type": "markdown",
   "id": "71c11414",
   "metadata": {},
   "source": [
    "###  Pergunta 1 "
   ]
  },
  {
   "cell_type": "code",
   "execution_count": 32,
   "id": "cee5584b",
   "metadata": {},
   "outputs": [
    {
     "name": "stdout",
     "output_type": "stream",
     "text": [
      "+-------+----+--------------------+----------------+--------+-------+-----+-----+---------+----------+\n",
      "|tailnum|year|                type|    manufacturer|   model|engines|seats|speed|   engine|qa_tailnum|\n",
      "+-------+----+--------------------+----------------+--------+-------+-----+-----+---------+----------+\n",
      "| N102UW|1998|Fixed wing multi ...|AIRBUS INDUSTRIE|A320-214|      2|  182| null|Turbo-fan|      null|\n",
      "| N103US|1999|Fixed wing multi ...|AIRBUS INDUSTRIE|A320-214|      2|  182| null|Turbo-fan|      null|\n",
      "| N104UW|1999|Fixed wing multi ...|AIRBUS INDUSTRIE|A320-214|      2|  182| null|Turbo-fan|      null|\n",
      "| N105UW|1999|Fixed wing multi ...|AIRBUS INDUSTRIE|A320-214|      2|  182| null|Turbo-fan|      null|\n",
      "| N107US|1999|Fixed wing multi ...|AIRBUS INDUSTRIE|A320-214|      2|  182| null|Turbo-fan|      null|\n",
      "+-------+----+--------------------+----------------+--------+-------+-----+-----+---------+----------+\n",
      "only showing top 5 rows\n",
      "\n"
     ]
    }
   ],
   "source": [
    "df_planes = df_planes.withColumn('qa_tailnum', (\n",
    "        F.when(check_empty_column('tailnum'), 'M')\n",
    "         .when(~F.length(F.col('tailnum')).between(5, 6), 'S')\n",
    "         .when(~F.col('tailnum').startswith('N'), 'FN')\n",
    "         .when( F.col('tailnum').rlike(REGEX_NNUMBER_INVALID), 'FE')\n",
    "         .when(~F.col('tailnum').rlike(REGEX_NNUMBER), 'F')))\n",
    "\n",
    "df_planes.show(5)"
   ]
  },
  {
   "cell_type": "markdown",
   "id": "cbe9530f",
   "metadata": {},
   "source": [
    "### Pergunta 2 "
   ]
  },
  {
   "cell_type": "code",
   "execution_count": 33,
   "id": "7c494e97",
   "metadata": {},
   "outputs": [
    {
     "name": "stdout",
     "output_type": "stream",
     "text": [
      "+-------+----+--------------------+----------------+--------+-------+-----+-----+---------+----------+-------+\n",
      "|tailnum|year|                type|    manufacturer|   model|engines|seats|speed|   engine|qa_tailnum|qa_year|\n",
      "+-------+----+--------------------+----------------+--------+-------+-----+-----+---------+----------+-------+\n",
      "| N102UW|1998|Fixed wing multi ...|AIRBUS INDUSTRIE|A320-214|      2|  182| null|Turbo-fan|      null|   null|\n",
      "| N103US|1999|Fixed wing multi ...|AIRBUS INDUSTRIE|A320-214|      2|  182| null|Turbo-fan|      null|   null|\n",
      "| N104UW|1999|Fixed wing multi ...|AIRBUS INDUSTRIE|A320-214|      2|  182| null|Turbo-fan|      null|   null|\n",
      "| N105UW|1999|Fixed wing multi ...|AIRBUS INDUSTRIE|A320-214|      2|  182| null|Turbo-fan|      null|   null|\n",
      "| N107US|1999|Fixed wing multi ...|AIRBUS INDUSTRIE|A320-214|      2|  182| null|Turbo-fan|      null|   null|\n",
      "+-------+----+--------------------+----------------+--------+-------+-----+-----+---------+----------+-------+\n",
      "only showing top 5 rows\n",
      "\n"
     ]
    }
   ],
   "source": [
    "# Usando dataframe\n",
    "df_planes = df_planes.withColumn('qa_year', (\n",
    "        F.when(check_empty_column('year'), 'M')\n",
    "         .when(F.col('year') < 1950, 'I')))\n",
    "\n",
    "df_planes.show(5)"
   ]
  },
  {
   "cell_type": "markdown",
   "id": "cbc4da1a",
   "metadata": {},
   "source": [
    "### Pergunta 3"
   ]
  },
  {
   "cell_type": "code",
   "execution_count": 34,
   "id": "8271b83b",
   "metadata": {},
   "outputs": [
    {
     "name": "stdout",
     "output_type": "stream",
     "text": [
      "+-------+----+--------------------+----------------+--------+-------+-----+-----+---------+----------+-------+-------+\n",
      "|tailnum|year|                type|    manufacturer|   model|engines|seats|speed|   engine|qa_tailnum|qa_year|qa_type|\n",
      "+-------+----+--------------------+----------------+--------+-------+-----+-----+---------+----------+-------+-------+\n",
      "| N102UW|1998|Fixed wing multi ...|AIRBUS INDUSTRIE|A320-214|      2|  182| null|Turbo-fan|      null|   null|   null|\n",
      "| N103US|1999|Fixed wing multi ...|AIRBUS INDUSTRIE|A320-214|      2|  182| null|Turbo-fan|      null|   null|   null|\n",
      "| N104UW|1999|Fixed wing multi ...|AIRBUS INDUSTRIE|A320-214|      2|  182| null|Turbo-fan|      null|   null|   null|\n",
      "| N105UW|1999|Fixed wing multi ...|AIRBUS INDUSTRIE|A320-214|      2|  182| null|Turbo-fan|      null|   null|   null|\n",
      "| N107US|1999|Fixed wing multi ...|AIRBUS INDUSTRIE|A320-214|      2|  182| null|Turbo-fan|      null|   null|   null|\n",
      "+-------+----+--------------------+----------------+--------+-------+-----+-----+---------+----------+-------+-------+\n",
      "only showing top 5 rows\n",
      "\n"
     ]
    }
   ],
   "source": [
    "# Usando dataframe\n",
    "PLANE_TYPES = [\"Fixed wing multi engine\", \"Fixed wing single engine\", \"Rotorcraft\"]\n",
    "df_planes = df_planes.withColumn('qa_type', (\n",
    "        F.when(check_empty_column('type'), 'M')\n",
    "         .when(~F.col('type').isin(PLANE_TYPES), 'C')))\n",
    "\n",
    "df_planes.show(5)"
   ]
  },
  {
   "cell_type": "markdown",
   "id": "7a020e88",
   "metadata": {},
   "source": [
    "### Pergunta 4"
   ]
  },
  {
   "cell_type": "code",
   "execution_count": 35,
   "id": "228f156a",
   "metadata": {},
   "outputs": [
    {
     "name": "stdout",
     "output_type": "stream",
     "text": [
      "-RECORD 0-------------------------------\n",
      " tailnum         | N102UW               \n",
      " year            | 1998                 \n",
      " type            | Fixed wing multi ... \n",
      " manufacturer    | AIRBUS INDUSTRIE     \n",
      " model           | A320-214             \n",
      " engines         | 2                    \n",
      " seats           | 182                  \n",
      " speed           | null                 \n",
      " engine          | Turbo-fan            \n",
      " qa_tailnum      | null                 \n",
      " qa_year         | null                 \n",
      " qa_type         | null                 \n",
      " qa_manufacturer | null                 \n",
      "-RECORD 1-------------------------------\n",
      " tailnum         | N103US               \n",
      " year            | 1999                 \n",
      " type            | Fixed wing multi ... \n",
      " manufacturer    | AIRBUS INDUSTRIE     \n",
      " model           | A320-214             \n",
      " engines         | 2                    \n",
      " seats           | 182                  \n",
      " speed           | null                 \n",
      " engine          | Turbo-fan            \n",
      " qa_tailnum      | null                 \n",
      " qa_year         | null                 \n",
      " qa_type         | null                 \n",
      " qa_manufacturer | null                 \n",
      "-RECORD 2-------------------------------\n",
      " tailnum         | N104UW               \n",
      " year            | 1999                 \n",
      " type            | Fixed wing multi ... \n",
      " manufacturer    | AIRBUS INDUSTRIE     \n",
      " model           | A320-214             \n",
      " engines         | 2                    \n",
      " seats           | 182                  \n",
      " speed           | null                 \n",
      " engine          | Turbo-fan            \n",
      " qa_tailnum      | null                 \n",
      " qa_year         | null                 \n",
      " qa_type         | null                 \n",
      " qa_manufacturer | null                 \n",
      "only showing top 3 rows\n",
      "\n"
     ]
    }
   ],
   "source": [
    "# Usando dataframe\n",
    "PLANES_MANUFACTURERS = [\"AIRBUS\",\"BOEING\",\"BOMBARDIER\",\"CESSNA\",\"EMBRAER\",\"SIKORSKY\",\"CANADAIR\",\"PIPER\",\"MCDONNELL DOUGLAS\",\"CIRRUS\",\"BELL\",\"KILDALL GARY\",\"LAMBERT RICHARD\",\"BARKER JACK\",\"ROBINSON HELICOPTER\",\"GULFSTREAM\",\"MARZ BARRY\"]\n",
    "REGEX_MANUFACTURERS = r'|'.join(map(lambda x : f\".*({x}).*\", PLANES_MANUFACTURERS))\n",
    "\n",
    "df_planes = df_planes.withColumn('qa_manufacturer', (\n",
    "        F.when(check_empty_column('manufacturer'), 'M')\n",
    "         .when(~F.col('manufacturer').rlike(REGEX_MANUFACTURERS), 'C')))\n",
    "\n",
    "df_planes.show(3,vertical=True)"
   ]
  },
  {
   "cell_type": "markdown",
   "id": "77f89da6",
   "metadata": {},
   "source": [
    "### Pergunta 5"
   ]
  },
  {
   "cell_type": "code",
   "execution_count": 37,
   "id": "7cf71a03",
   "metadata": {},
   "outputs": [
    {
     "name": "stdout",
     "output_type": "stream",
     "text": [
      "+-------+----+--------------------+----------------+--------+-------+-----+-----+---------+----------+-------+-------+---------------+--------+\n",
      "|tailnum|year|                type|    manufacturer|   model|engines|seats|speed|   engine|qa_tailnum|qa_year|qa_type|qa_manufacturer|qa_model|\n",
      "+-------+----+--------------------+----------------+--------+-------+-----+-----+---------+----------+-------+-------+---------------+--------+\n",
      "| N102UW|1998|Fixed wing multi ...|AIRBUS INDUSTRIE|A320-214|      2|  182| null|Turbo-fan|      null|   null|   null|           null|    null|\n",
      "| N103US|1999|Fixed wing multi ...|AIRBUS INDUSTRIE|A320-214|      2|  182| null|Turbo-fan|      null|   null|   null|           null|    null|\n",
      "| N104UW|1999|Fixed wing multi ...|AIRBUS INDUSTRIE|A320-214|      2|  182| null|Turbo-fan|      null|   null|   null|           null|    null|\n",
      "| N105UW|1999|Fixed wing multi ...|AIRBUS INDUSTRIE|A320-214|      2|  182| null|Turbo-fan|      null|   null|   null|           null|    null|\n",
      "| N107US|1999|Fixed wing multi ...|AIRBUS INDUSTRIE|A320-214|      2|  182| null|Turbo-fan|      null|   null|   null|           null|    null|\n",
      "+-------+----+--------------------+----------------+--------+-------+-----+-----+---------+----------+-------+-------+---------------+--------+\n",
      "only showing top 5 rows\n",
      "\n"
     ]
    }
   ],
   "source": [
    "# Usando dataframe\n",
    "df_planes = df_planes.withColumn('qa_model', (\n",
    "        F.when(check_empty_column('model'), 'M')\n",
    "         .when(\n",
    "             ((F.col('manufacturer').rlike(r'.*AIRBUS.*') & ~F.col('model').startswith('A')) |\n",
    "              (F.col('manufacturer').rlike(r'.*BOEING.*') & ~F.col('model').startswith('7')) |\n",
    "              (F.col('manufacturer').rlike(r'.*(BOMBARDIER|CANADAIR).*') & ~F.col('model').startswith('CL')) |\n",
    "              (F.col('manufacturer').rlike(r'.*MCDONNELL DOUGLAS.*') &  ~(F.col('model').startswith('MD') | F.col('model').startswith('DC')) )), 'F')))\n",
    "\n",
    "df_planes.show(5)"
   ]
  },
  {
   "cell_type": "markdown",
   "id": "3f1ca274",
   "metadata": {},
   "source": [
    "### Pergunta 6"
   ]
  },
  {
   "cell_type": "code",
   "execution_count": 38,
   "id": "a054536b",
   "metadata": {},
   "outputs": [
    {
     "name": "stdout",
     "output_type": "stream",
     "text": [
      "-RECORD 0-------------------------------\n",
      " tailnum         | N102UW               \n",
      " year            | 1998                 \n",
      " type            | Fixed wing multi ... \n",
      " manufacturer    | AIRBUS INDUSTRIE     \n",
      " model           | A320-214             \n",
      " engines         | 2                    \n",
      " seats           | 182                  \n",
      " speed           | null                 \n",
      " engine          | Turbo-fan            \n",
      " qa_tailnum      | null                 \n",
      " qa_year         | null                 \n",
      " qa_type         | null                 \n",
      " qa_manufacturer | null                 \n",
      " qa_model        | null                 \n",
      " qa_engines      | I                    \n",
      "-RECORD 1-------------------------------\n",
      " tailnum         | N103US               \n",
      " year            | 1999                 \n",
      " type            | Fixed wing multi ... \n",
      " manufacturer    | AIRBUS INDUSTRIE     \n",
      " model           | A320-214             \n",
      " engines         | 2                    \n",
      " seats           | 182                  \n",
      " speed           | null                 \n",
      " engine          | Turbo-fan            \n",
      " qa_tailnum      | null                 \n",
      " qa_year         | null                 \n",
      " qa_type         | null                 \n",
      " qa_manufacturer | null                 \n",
      " qa_model        | null                 \n",
      " qa_engines      | I                    \n",
      "only showing top 2 rows\n",
      "\n"
     ]
    }
   ],
   "source": [
    "df_planes = df_planes.withColumn('qa_engines', (\n",
    "        F.when(check_empty_column('engines'), 'M')\n",
    "         .when(F.col(\"engines\").between(1,4),'I')\n",
    "         .when(F.col(\"engines\").rlike(REGEX_ALPHA),'A')\n",
    "))\n",
    "\n",
    "df_planes.show(2,vertical=True)"
   ]
  },
  {
   "cell_type": "markdown",
   "id": "0ee35284",
   "metadata": {},
   "source": [
    "### Pergunta 7"
   ]
  },
  {
   "cell_type": "code",
   "execution_count": 39,
   "id": "86b56569",
   "metadata": {},
   "outputs": [
    {
     "name": "stdout",
     "output_type": "stream",
     "text": [
      "-RECORD 0-------------------------------\n",
      " tailnum         | N102UW               \n",
      " year            | 1998                 \n",
      " type            | Fixed wing multi ... \n",
      " manufacturer    | AIRBUS INDUSTRIE     \n",
      " model           | A320-214             \n",
      " engines         | 2                    \n",
      " seats           | 182                  \n",
      " speed           | null                 \n",
      " engine          | Turbo-fan            \n",
      " qa_tailnum      | null                 \n",
      " qa_year         | null                 \n",
      " qa_type         | null                 \n",
      " qa_manufacturer | null                 \n",
      " qa_model        | null                 \n",
      " qa_engines      | I                    \n",
      " qa_seats        | I                    \n",
      "-RECORD 1-------------------------------\n",
      " tailnum         | N103US               \n",
      " year            | 1999                 \n",
      " type            | Fixed wing multi ... \n",
      " manufacturer    | AIRBUS INDUSTRIE     \n",
      " model           | A320-214             \n",
      " engines         | 2                    \n",
      " seats           | 182                  \n",
      " speed           | null                 \n",
      " engine          | Turbo-fan            \n",
      " qa_tailnum      | null                 \n",
      " qa_year         | null                 \n",
      " qa_type         | null                 \n",
      " qa_manufacturer | null                 \n",
      " qa_model        | null                 \n",
      " qa_engines      | I                    \n",
      " qa_seats        | I                    \n",
      "only showing top 2 rows\n",
      "\n"
     ]
    }
   ],
   "source": [
    "df_planes = df_planes.withColumn('qa_seats', (\n",
    "        F.when(check_empty_column('seats'), 'M')\n",
    "         .when(\n",
    "              F.col('seats').between(2, 500), 'I')\n",
    "         .when(\n",
    "             F.col('seats').rlike(REGEX_ALPHANUM), 'A')))\n",
    "\n",
    "df_planes.show(2,vertical=True)"
   ]
  },
  {
   "cell_type": "markdown",
   "id": "752a44be",
   "metadata": {},
   "source": [
    "### Pergunta 8"
   ]
  },
  {
   "cell_type": "code",
   "execution_count": 40,
   "id": "7e543358",
   "metadata": {},
   "outputs": [
    {
     "name": "stdout",
     "output_type": "stream",
     "text": [
      "-RECORD 0-------------------------------\n",
      " tailnum         | N102UW               \n",
      " year            | 1998                 \n",
      " type            | Fixed wing multi ... \n",
      " manufacturer    | AIRBUS INDUSTRIE     \n",
      " model           | A320-214             \n",
      " engines         | 2                    \n",
      " seats           | 182                  \n",
      " speed           | null                 \n",
      " engine          | Turbo-fan            \n",
      " qa_tailnum      | null                 \n",
      " qa_year         | null                 \n",
      " qa_type         | null                 \n",
      " qa_manufacturer | null                 \n",
      " qa_model        | null                 \n",
      " qa_engines      | I                    \n",
      " qa_seats        | I                    \n",
      " qa_speed        | M                    \n",
      "-RECORD 1-------------------------------\n",
      " tailnum         | N103US               \n",
      " year            | 1999                 \n",
      " type            | Fixed wing multi ... \n",
      " manufacturer    | AIRBUS INDUSTRIE     \n",
      " model           | A320-214             \n",
      " engines         | 2                    \n",
      " seats           | 182                  \n",
      " speed           | null                 \n",
      " engine          | Turbo-fan            \n",
      " qa_tailnum      | null                 \n",
      " qa_year         | null                 \n",
      " qa_type         | null                 \n",
      " qa_manufacturer | null                 \n",
      " qa_model        | null                 \n",
      " qa_engines      | I                    \n",
      " qa_seats        | I                    \n",
      " qa_speed        | M                    \n",
      "only showing top 2 rows\n",
      "\n"
     ]
    }
   ],
   "source": [
    "df_planes = df_planes.withColumn('qa_speed', (\n",
    "        F.when(check_empty_column('speed'), 'M')\n",
    "         .when(\n",
    "               F.col('speed').between(50, 150), 'I')\n",
    "         .when(\n",
    "              F.col('speed').rlike(REGEX_ALPHANUM), 'A')\n",
    "))\n",
    "\n",
    "df_planes.show(2,vertical=True)"
   ]
  },
  {
   "cell_type": "markdown",
   "id": "a17b110b",
   "metadata": {},
   "source": [
    "### Pergunta 9 "
   ]
  },
  {
   "cell_type": "code",
   "execution_count": 41,
   "id": "6c7df06f",
   "metadata": {},
   "outputs": [
    {
     "name": "stdout",
     "output_type": "stream",
     "text": [
      "-RECORD 0-------------------------------\n",
      " tailnum         | N102UW               \n",
      " year            | 1998                 \n",
      " type            | Fixed wing multi ... \n",
      " manufacturer    | AIRBUS INDUSTRIE     \n",
      " model           | A320-214             \n",
      " engines         | 2                    \n",
      " seats           | 182                  \n",
      " speed           | null                 \n",
      " engine          | Turbo-fan            \n",
      " qa_tailnum      | null                 \n",
      " qa_year         | null                 \n",
      " qa_type         | null                 \n",
      " qa_manufacturer | null                 \n",
      " qa_model        | null                 \n",
      " qa_engines      | I                    \n",
      " qa_seats        | I                    \n",
      " qa_speed        | M                    \n",
      " qa_engine       | null                 \n",
      "-RECORD 1-------------------------------\n",
      " tailnum         | N103US               \n",
      " year            | 1999                 \n",
      " type            | Fixed wing multi ... \n",
      " manufacturer    | AIRBUS INDUSTRIE     \n",
      " model           | A320-214             \n",
      " engines         | 2                    \n",
      " seats           | 182                  \n",
      " speed           | null                 \n",
      " engine          | Turbo-fan            \n",
      " qa_tailnum      | null                 \n",
      " qa_year         | null                 \n",
      " qa_type         | null                 \n",
      " qa_manufacturer | null                 \n",
      " qa_model        | null                 \n",
      " qa_engines      | I                    \n",
      " qa_seats        | I                    \n",
      " qa_speed        | M                    \n",
      " qa_engine       | null                 \n",
      "only showing top 2 rows\n",
      "\n"
     ]
    }
   ],
   "source": [
    "nome = [\"Turbo-fan\",\"Turbo-jet\",\"Turbo-prop\",\"Turbo-shaft\",\"4 Cycle\"]\n",
    "\n",
    "df_planes = df_planes.withColumn('qa_engine', (\n",
    "        F.when(\n",
    "            check_empty_column('engine'), 'M')\n",
    "         .when(\n",
    "             ~F.col('engine').isin(nome), 'C')))\n",
    "\n",
    "df_planes.show(2,vertical=True)"
   ]
  },
  {
   "cell_type": "markdown",
   "id": "594a0b11",
   "metadata": {},
   "source": [
    "# Dataset Flights"
   ]
  },
  {
   "cell_type": "markdown",
   "id": "884b2a01",
   "metadata": {},
   "source": [
    "### Pergunta 1"
   ]
  },
  {
   "cell_type": "code",
   "execution_count": 45,
   "id": "d6a12c73",
   "metadata": {},
   "outputs": [],
   "source": [
    "df_flights = df_flights.withColumn('qa_year_month_day',(\n",
    "        F.when(check_empty_column('year'),'MY')\n",
    "         .when(check_empty_column('month'),'MM')\n",
    "         .when(check_empty_column('day'),'MD')\n",
    "         .when(\n",
    "             (F.col('year') > 1950),'IY')\n",
    "         .when(\n",
    "             (F.col('month').between(1,12)),'IM')\n",
    "         .when(\n",
    "             (F.col('day').between(1,31)) &\n",
    "             (F.col('day') =='2'),'ID')\n",
    "         )) "
   ]
  },
  {
   "cell_type": "markdown",
   "id": "db25724f",
   "metadata": {},
   "source": [
    "### Pergunta 2 "
   ]
  },
  {
   "cell_type": "code",
   "execution_count": 47,
   "id": "63fd374d",
   "metadata": {},
   "outputs": [],
   "source": [
    "df_flights = df_flights.withColumn('qa_hour_minute' , (\n",
    "        F.when(\n",
    "               check_empty_column('hour'), 'MH')\n",
    "         .when(\n",
    "               check_empty_column('minute'), 'MM')\n",
    "         .when(\n",
    "               F.col('hour').between(0,24) ,\"IH\")\n",
    "         .when(\n",
    "              F.col('minute').between(0,59) ,\"IM\")                            \n",
    "        \n",
    "))"
   ]
  },
  {
   "cell_type": "markdown",
   "id": "3b1a448f",
   "metadata": {},
   "source": [
    "### Pergunta 3 "
   ]
  },
  {
   "cell_type": "code",
   "execution_count": null,
   "id": "6761e9cf",
   "metadata": {},
   "outputs": [],
   "source": [
    "df_flights = df_flights.withColumn('qa_dep_arr_time', (\n",
    "    F.when(\n",
    "        (F.col('dep_time').isNull()) | \n",
    "        (F.col('dep_time') == ''), 'MD')\n",
    "     .when(\n",
    "          (F.col('arr_time').isNull())| \n",
    "          (F.col('arr_time') == ''), 'MA')\n",
    "     .when(\n",
    "          (F.col('dep_time').rlike('/^(0?[1-9]|1[0-2]):[0-5][0-9]$/')) |\n",
    "          (F.col('dep_time').rlike('^[0-9][0-5][0-9]$')), 'FD')\n",
    "                                \n",
    "     .when(\n",
    "          (F.col('arr_time').rlike('/^(0?[1-9]|1[0-2]):[0-5][0-9]$/')) |\n",
    "          (F.col('arr_time').rlike('^[0-9][0-5][0-9]$')), 'FA')\n",
    "))"
   ]
  },
  {
   "cell_type": "code",
   "execution_count": null,
   "id": "056be07b",
   "metadata": {},
   "outputs": [],
   "source": [
    "df.filter(~col('dep_time').rlike('/^(0?[1-9]|1[0-2]):[0-5][0-9]$/')).show()"
   ]
  },
  {
   "cell_type": "markdown",
   "id": "673b57f6",
   "metadata": {},
   "source": [
    "### Pergunta 4"
   ]
  },
  {
   "cell_type": "code",
   "execution_count": 48,
   "id": "1bd86900",
   "metadata": {},
   "outputs": [],
   "source": [
    "df_flights = df_flights.withColumn('qa_dep_arr_delay', (\n",
    "        F.when(\n",
    "             (F.col('dep_delay').isNull()) | \n",
    "             (F.col('dep_delay') == ''), 'MD')\n",
    "        .when(\n",
    "             (F.col('arr_delay').isNull())| \n",
    "             (F.col('arr_delay') == ''), 'MA')\n",
    "        \n",
    "\n",
    "))"
   ]
  },
  {
   "cell_type": "markdown",
   "id": "628492f2",
   "metadata": {},
   "source": [
    "### Pergunta 5"
   ]
  },
  {
   "cell_type": "code",
   "execution_count": 49,
   "id": "927cadee",
   "metadata": {},
   "outputs": [],
   "source": [
    "df_flights = df_flights.withColumn ('qa_carrier', (\n",
    "    F.when(\n",
    "         (F.col('carrier').isNull()) | \n",
    "         (F.col('carrier') == ''), 'M')\n",
    "     .when(\n",
    "          (~F.col('carrier').rlike(\"[0-9a-zA-Z]{2}\")),'F') \n",
    "\n",
    "))"
   ]
  },
  {
   "cell_type": "markdown",
   "id": "faf69ee8",
   "metadata": {},
   "source": [
    "### Pergunta 6"
   ]
  },
  {
   "cell_type": "code",
   "execution_count": 52,
   "id": "c115e4bb",
   "metadata": {},
   "outputs": [],
   "source": [
    "invalid_characters_list = ['I', 'O', 0]\n",
    "\n",
    "df_flights = df_flights.withColumn('qa_tailnum' , (\n",
    "    F.when(\n",
    "         (F.col('tailnum').isNull()) | \n",
    "         (F.col('tailnum') == ''), 'M')\n",
    "     .when(\n",
    "         F.col('tailnum').rlike(\"^N([0-9]{1,4})([A-Z]{1,2}$)\") == False, \"F\")\n",
    "     .when(\n",
    "         F.col('tailnum').rlike('^[0-9]*$'), 'A')\n",
    "     .when(\n",
    "         ~F.col('tailnum').startswith('N'), 'FN')\n",
    "     .when(\n",
    "         F.col('tailnum').substr(1, 1).isin(invalid_characters_list), 'FE')\n",
    "    \n",
    "))"
   ]
  },
  {
   "cell_type": "markdown",
   "id": "f112d05a",
   "metadata": {},
   "source": [
    "### Pergunta 7"
   ]
  },
  {
   "cell_type": "code",
   "execution_count": 54,
   "id": "3a69c288",
   "metadata": {},
   "outputs": [],
   "source": [
    "df_flights = df_flights.withColumn ('qa_flight',   (\n",
    "    F.when(\n",
    "         (F.col('flight').isNull()) | \n",
    "         (F.col('flight') == ''), 'M')\n",
    "     .when(\n",
    "         (~F.col('flight').rlike(\"[0-9]{4}\")),'F')\n",
    "    \n",
    "))"
   ]
  },
  {
   "cell_type": "markdown",
   "id": "2783883f",
   "metadata": {},
   "source": [
    "### Pergunta 8"
   ]
  },
  {
   "cell_type": "code",
   "execution_count": 55,
   "id": "04ebd830",
   "metadata": {},
   "outputs": [],
   "source": [
    "df_flights = df_flights.withColumn('qa_origin_dest', (\n",
    "    F.when(\n",
    "          (F.col('origin').isNull()) | \n",
    "          (F.col('origin') == ''), 'MO')\n",
    "     .when(\n",
    "           (F.col('dest').isNull())| \n",
    "           (F.col('dest') == ''), 'MD')\n",
    "     .when(\n",
    "           (F.col('origin').rlike(\"[0-9a-zA-Z]{3}\")),'FO')\n",
    "                            \n",
    "     .when(\n",
    "            (F.col('dest').rlike(\"[0-9a-zA-Z]{3}\")),'FD')\n",
    "    \n",
    "))"
   ]
  },
  {
   "cell_type": "markdown",
   "id": "766fe8c3",
   "metadata": {},
   "source": [
    "### Pergunta 9"
   ]
  },
  {
   "cell_type": "code",
   "execution_count": 56,
   "id": "48d4714d",
   "metadata": {},
   "outputs": [],
   "source": [
    "df_flights = df_flights.withColumn('qa_air_time', (\n",
    "    F.when(\n",
    "            (F.col('air_time').isNull()) | \n",
    "            (F.col('air_time') == ''), 'M')\n",
    "    .when(\n",
    "            (F.col('air_time').between(20,500)) ,\"I\")\n",
    "                            \n",
    "))     "
   ]
  },
  {
   "cell_type": "code",
   "execution_count": 57,
   "id": "83e69efe",
   "metadata": {},
   "outputs": [
    {
     "data": {
      "text/html": [
       "<div>\n",
       "<style scoped>\n",
       "    .dataframe tbody tr th:only-of-type {\n",
       "        vertical-align: middle;\n",
       "    }\n",
       "\n",
       "    .dataframe tbody tr th {\n",
       "        vertical-align: top;\n",
       "    }\n",
       "\n",
       "    .dataframe thead th {\n",
       "        text-align: right;\n",
       "    }\n",
       "</style>\n",
       "<table border=\"1\" class=\"dataframe\">\n",
       "  <thead>\n",
       "    <tr style=\"text-align: right;\">\n",
       "      <th></th>\n",
       "      <th>year</th>\n",
       "      <th>month</th>\n",
       "      <th>day</th>\n",
       "      <th>dep_time</th>\n",
       "      <th>dep_delay</th>\n",
       "      <th>arr_time</th>\n",
       "      <th>arr_delay</th>\n",
       "      <th>carrier</th>\n",
       "      <th>tailnum</th>\n",
       "      <th>flight</th>\n",
       "      <th>...</th>\n",
       "      <th>hour</th>\n",
       "      <th>minute</th>\n",
       "      <th>qa_year_month_day</th>\n",
       "      <th>qa_hour_minute</th>\n",
       "      <th>qa_dep_arr_delay</th>\n",
       "      <th>qa_carrier</th>\n",
       "      <th>qa_tailnum</th>\n",
       "      <th>qa_flight</th>\n",
       "      <th>qa_origin_dest</th>\n",
       "      <th>qa_air_time</th>\n",
       "    </tr>\n",
       "  </thead>\n",
       "  <tbody>\n",
       "    <tr>\n",
       "      <th>0</th>\n",
       "      <td>2014</td>\n",
       "      <td>12</td>\n",
       "      <td>8</td>\n",
       "      <td>658</td>\n",
       "      <td>-7.0</td>\n",
       "      <td>935</td>\n",
       "      <td>-5.0</td>\n",
       "      <td>VX</td>\n",
       "      <td>N846VA</td>\n",
       "      <td>1780</td>\n",
       "      <td>...</td>\n",
       "      <td>6.0</td>\n",
       "      <td>58.0</td>\n",
       "      <td>IY</td>\n",
       "      <td>IH</td>\n",
       "      <td>None</td>\n",
       "      <td>None</td>\n",
       "      <td>None</td>\n",
       "      <td>None</td>\n",
       "      <td>FO</td>\n",
       "      <td>I</td>\n",
       "    </tr>\n",
       "    <tr>\n",
       "      <th>1</th>\n",
       "      <td>2014</td>\n",
       "      <td>1</td>\n",
       "      <td>22</td>\n",
       "      <td>1040</td>\n",
       "      <td>5.0</td>\n",
       "      <td>1505</td>\n",
       "      <td>5.0</td>\n",
       "      <td>AS</td>\n",
       "      <td>N559AS</td>\n",
       "      <td>851</td>\n",
       "      <td>...</td>\n",
       "      <td>10.0</td>\n",
       "      <td>40.0</td>\n",
       "      <td>IY</td>\n",
       "      <td>IH</td>\n",
       "      <td>None</td>\n",
       "      <td>None</td>\n",
       "      <td>None</td>\n",
       "      <td>F</td>\n",
       "      <td>FO</td>\n",
       "      <td>I</td>\n",
       "    </tr>\n",
       "    <tr>\n",
       "      <th>2</th>\n",
       "      <td>2014</td>\n",
       "      <td>3</td>\n",
       "      <td>9</td>\n",
       "      <td>1443</td>\n",
       "      <td>-2.0</td>\n",
       "      <td>1652</td>\n",
       "      <td>2.0</td>\n",
       "      <td>VX</td>\n",
       "      <td>N847VA</td>\n",
       "      <td>755</td>\n",
       "      <td>...</td>\n",
       "      <td>14.0</td>\n",
       "      <td>43.0</td>\n",
       "      <td>IY</td>\n",
       "      <td>IH</td>\n",
       "      <td>None</td>\n",
       "      <td>None</td>\n",
       "      <td>None</td>\n",
       "      <td>F</td>\n",
       "      <td>FO</td>\n",
       "      <td>I</td>\n",
       "    </tr>\n",
       "    <tr>\n",
       "      <th>3</th>\n",
       "      <td>2014</td>\n",
       "      <td>4</td>\n",
       "      <td>9</td>\n",
       "      <td>1705</td>\n",
       "      <td>45.0</td>\n",
       "      <td>1839</td>\n",
       "      <td>34.0</td>\n",
       "      <td>WN</td>\n",
       "      <td>N360SW</td>\n",
       "      <td>344</td>\n",
       "      <td>...</td>\n",
       "      <td>17.0</td>\n",
       "      <td>5.0</td>\n",
       "      <td>IY</td>\n",
       "      <td>IH</td>\n",
       "      <td>None</td>\n",
       "      <td>None</td>\n",
       "      <td>None</td>\n",
       "      <td>F</td>\n",
       "      <td>FO</td>\n",
       "      <td>I</td>\n",
       "    </tr>\n",
       "    <tr>\n",
       "      <th>4</th>\n",
       "      <td>2014</td>\n",
       "      <td>3</td>\n",
       "      <td>9</td>\n",
       "      <td>754</td>\n",
       "      <td>-1.0</td>\n",
       "      <td>1015</td>\n",
       "      <td>1.0</td>\n",
       "      <td>AS</td>\n",
       "      <td>N612AS</td>\n",
       "      <td>522</td>\n",
       "      <td>...</td>\n",
       "      <td>7.0</td>\n",
       "      <td>54.0</td>\n",
       "      <td>IY</td>\n",
       "      <td>IH</td>\n",
       "      <td>None</td>\n",
       "      <td>None</td>\n",
       "      <td>None</td>\n",
       "      <td>F</td>\n",
       "      <td>FO</td>\n",
       "      <td>I</td>\n",
       "    </tr>\n",
       "    <tr>\n",
       "      <th>...</th>\n",
       "      <td>...</td>\n",
       "      <td>...</td>\n",
       "      <td>...</td>\n",
       "      <td>...</td>\n",
       "      <td>...</td>\n",
       "      <td>...</td>\n",
       "      <td>...</td>\n",
       "      <td>...</td>\n",
       "      <td>...</td>\n",
       "      <td>...</td>\n",
       "      <td>...</td>\n",
       "      <td>...</td>\n",
       "      <td>...</td>\n",
       "      <td>...</td>\n",
       "      <td>...</td>\n",
       "      <td>...</td>\n",
       "      <td>...</td>\n",
       "      <td>...</td>\n",
       "      <td>...</td>\n",
       "      <td>...</td>\n",
       "      <td>...</td>\n",
       "    </tr>\n",
       "    <tr>\n",
       "      <th>9995</th>\n",
       "      <td>2014</td>\n",
       "      <td>6</td>\n",
       "      <td>23</td>\n",
       "      <td>1806</td>\n",
       "      <td>-4.0</td>\n",
       "      <td>2104</td>\n",
       "      <td>-6.0</td>\n",
       "      <td>OO</td>\n",
       "      <td>N225AG</td>\n",
       "      <td>3458</td>\n",
       "      <td>...</td>\n",
       "      <td>18.0</td>\n",
       "      <td>6.0</td>\n",
       "      <td>IY</td>\n",
       "      <td>IH</td>\n",
       "      <td>None</td>\n",
       "      <td>None</td>\n",
       "      <td>None</td>\n",
       "      <td>None</td>\n",
       "      <td>FO</td>\n",
       "      <td>I</td>\n",
       "    </tr>\n",
       "    <tr>\n",
       "      <th>9996</th>\n",
       "      <td>2014</td>\n",
       "      <td>8</td>\n",
       "      <td>31</td>\n",
       "      <td>2336</td>\n",
       "      <td>11.0</td>\n",
       "      <td>452</td>\n",
       "      <td>-13.0</td>\n",
       "      <td>AA</td>\n",
       "      <td>N3LEAA</td>\n",
       "      <td>1230</td>\n",
       "      <td>...</td>\n",
       "      <td>23.0</td>\n",
       "      <td>36.0</td>\n",
       "      <td>IY</td>\n",
       "      <td>IH</td>\n",
       "      <td>None</td>\n",
       "      <td>None</td>\n",
       "      <td>F</td>\n",
       "      <td>None</td>\n",
       "      <td>FO</td>\n",
       "      <td>I</td>\n",
       "    </tr>\n",
       "    <tr>\n",
       "      <th>9997</th>\n",
       "      <td>2014</td>\n",
       "      <td>8</td>\n",
       "      <td>8</td>\n",
       "      <td>904</td>\n",
       "      <td>-1.0</td>\n",
       "      <td>1042</td>\n",
       "      <td>-5.0</td>\n",
       "      <td>AS</td>\n",
       "      <td>N523AS</td>\n",
       "      <td>360</td>\n",
       "      <td>...</td>\n",
       "      <td>9.0</td>\n",
       "      <td>4.0</td>\n",
       "      <td>IY</td>\n",
       "      <td>IH</td>\n",
       "      <td>None</td>\n",
       "      <td>None</td>\n",
       "      <td>None</td>\n",
       "      <td>F</td>\n",
       "      <td>FO</td>\n",
       "      <td>I</td>\n",
       "    </tr>\n",
       "    <tr>\n",
       "      <th>9998</th>\n",
       "      <td>2014</td>\n",
       "      <td>8</td>\n",
       "      <td>29</td>\n",
       "      <td>1441</td>\n",
       "      <td>26.0</td>\n",
       "      <td>1820</td>\n",
       "      <td>10.0</td>\n",
       "      <td>WN</td>\n",
       "      <td>N8647A</td>\n",
       "      <td>2857</td>\n",
       "      <td>...</td>\n",
       "      <td>14.0</td>\n",
       "      <td>41.0</td>\n",
       "      <td>IY</td>\n",
       "      <td>IH</td>\n",
       "      <td>None</td>\n",
       "      <td>None</td>\n",
       "      <td>None</td>\n",
       "      <td>None</td>\n",
       "      <td>FO</td>\n",
       "      <td>I</td>\n",
       "    </tr>\n",
       "    <tr>\n",
       "      <th>9999</th>\n",
       "      <td>2014</td>\n",
       "      <td>7</td>\n",
       "      <td>13</td>\n",
       "      <td>1702</td>\n",
       "      <td>-3.0</td>\n",
       "      <td>1950</td>\n",
       "      <td>-10.0</td>\n",
       "      <td>DL</td>\n",
       "      <td>N583NW</td>\n",
       "      <td>2237</td>\n",
       "      <td>...</td>\n",
       "      <td>17.0</td>\n",
       "      <td>2.0</td>\n",
       "      <td>IY</td>\n",
       "      <td>IH</td>\n",
       "      <td>None</td>\n",
       "      <td>None</td>\n",
       "      <td>None</td>\n",
       "      <td>None</td>\n",
       "      <td>FO</td>\n",
       "      <td>I</td>\n",
       "    </tr>\n",
       "  </tbody>\n",
       "</table>\n",
       "<p>10000 rows × 24 columns</p>\n",
       "</div>"
      ],
      "text/plain": [
       "      year  month  day dep_time  dep_delay arr_time  arr_delay carrier  \\\n",
       "0     2014     12    8      658       -7.0      935       -5.0      VX   \n",
       "1     2014      1   22     1040        5.0     1505        5.0      AS   \n",
       "2     2014      3    9     1443       -2.0     1652        2.0      VX   \n",
       "3     2014      4    9     1705       45.0     1839       34.0      WN   \n",
       "4     2014      3    9      754       -1.0     1015        1.0      AS   \n",
       "...    ...    ...  ...      ...        ...      ...        ...     ...   \n",
       "9995  2014      6   23     1806       -4.0     2104       -6.0      OO   \n",
       "9996  2014      8   31     2336       11.0      452      -13.0      AA   \n",
       "9997  2014      8    8      904       -1.0     1042       -5.0      AS   \n",
       "9998  2014      8   29     1441       26.0     1820       10.0      WN   \n",
       "9999  2014      7   13     1702       -3.0     1950      -10.0      DL   \n",
       "\n",
       "     tailnum flight  ...  hour minute  qa_year_month_day  qa_hour_minute  \\\n",
       "0     N846VA   1780  ...   6.0   58.0                 IY              IH   \n",
       "1     N559AS    851  ...  10.0   40.0                 IY              IH   \n",
       "2     N847VA    755  ...  14.0   43.0                 IY              IH   \n",
       "3     N360SW    344  ...  17.0    5.0                 IY              IH   \n",
       "4     N612AS    522  ...   7.0   54.0                 IY              IH   \n",
       "...      ...    ...  ...   ...    ...                ...             ...   \n",
       "9995  N225AG   3458  ...  18.0    6.0                 IY              IH   \n",
       "9996  N3LEAA   1230  ...  23.0   36.0                 IY              IH   \n",
       "9997  N523AS    360  ...   9.0    4.0                 IY              IH   \n",
       "9998  N8647A   2857  ...  14.0   41.0                 IY              IH   \n",
       "9999  N583NW   2237  ...  17.0    2.0                 IY              IH   \n",
       "\n",
       "      qa_dep_arr_delay  qa_carrier qa_tailnum qa_flight qa_origin_dest  \\\n",
       "0                 None        None       None      None             FO   \n",
       "1                 None        None       None         F             FO   \n",
       "2                 None        None       None         F             FO   \n",
       "3                 None        None       None         F             FO   \n",
       "4                 None        None       None         F             FO   \n",
       "...                ...         ...        ...       ...            ...   \n",
       "9995              None        None       None      None             FO   \n",
       "9996              None        None          F      None             FO   \n",
       "9997              None        None       None         F             FO   \n",
       "9998              None        None       None      None             FO   \n",
       "9999              None        None       None      None             FO   \n",
       "\n",
       "     qa_air_time  \n",
       "0              I  \n",
       "1              I  \n",
       "2              I  \n",
       "3              I  \n",
       "4              I  \n",
       "...          ...  \n",
       "9995           I  \n",
       "9996           I  \n",
       "9997           I  \n",
       "9998           I  \n",
       "9999           I  \n",
       "\n",
       "[10000 rows x 24 columns]"
      ]
     },
     "execution_count": 57,
     "metadata": {},
     "output_type": "execute_result"
    }
   ],
   "source": [
    "df_flights.toPandas()"
   ]
  },
  {
   "cell_type": "markdown",
   "id": "85628404",
   "metadata": {},
   "source": [
    "### Pergunta 10"
   ]
  },
  {
   "cell_type": "code",
   "execution_count": 59,
   "id": "296f2526",
   "metadata": {},
   "outputs": [],
   "source": [
    "df_flights= df_flights.withColumn('qa_distance', (\n",
    "    F.when(\n",
    "         (F.col('distance').isNull()) | \n",
    "         (F.col('distance') == ''), 'M')\n",
    "    .when(\n",
    "         (F.col('distance').between(50,3000)) ,\"I\")\n",
    "                            \n",
    "))    "
   ]
  },
  {
   "cell_type": "markdown",
   "id": "ba5fd82c",
   "metadata": {},
   "source": [
    "### Pergunta 11"
   ]
  },
  {
   "cell_type": "code",
   "execution_count": 60,
   "id": "a465512d",
   "metadata": {},
   "outputs": [],
   "source": [
    "df_flights = df_flights.withColumn('qa_distance_airtime', (\n",
    "    F.when(\n",
    "         (F.col('distance').isNull()) | \n",
    "         (F.col('distance') == ''), 'M')\n",
    "     .when(\n",
    "          (F.col('air_time').isNull()) | \n",
    "          (F.col('air_time') == ''), 'M')\n",
    "     .when(\n",
    "          (F.col('distance').between(50,3000)) ,\"TL\")\n",
    "                         \n",
    "     .when(\n",
    "          (F.col('air_time') >= (F.col('distance') * 0.1 + 30)) ,\"TL\")\n",
    "                                 \n",
    "    .when(\n",
    "          (F.col('air_time') <= (F.col('distance') * 0.1 + 10)) ,\"TS\")\n",
    "                            \n",
    "                            \n",
    "))"
   ]
  },
  {
   "cell_type": "markdown",
   "id": "3ffe4da7",
   "metadata": {},
   "source": [
    "### SALVANDO ARQUIVO  (DATAFRAME)"
   ]
  },
  {
   "cell_type": "code",
   "execution_count": 89,
   "id": "8fc0845a",
   "metadata": {},
   "outputs": [],
   "source": [
    "### SALVANDO ARQUIVO CSV\n",
    "(df_airports.select(df_airports.colRegex(\"`^qa_.*`\"))\n",
    "            .repartition(1) # coalesce\n",
    "            .write.format(\"parquet\")\n",
    "            .mode('overwrite')\n",
    "            .option(\"header\", \"true\")\n",
    "            .save(\"Datasets/airports_qa.parquet\"))\n"
   ]
  },
  {
   "cell_type": "code",
   "execution_count": 18,
   "id": "9219b701",
   "metadata": {},
   "outputs": [],
   "source": [
    "### SALVANDO ARQUIVO PARQUET\n",
    "(df_airports.repartition(1) # coalesce\n",
    "            .write.format(\"parquet\")\n",
    "            .mode('overwrite')\n",
    "            .option(\"header\", \"true\")\n",
    "            .save(\"Datasets/airports_qa.parquet\"))\n",
    "            "
   ]
  },
  {
   "cell_type": "markdown",
   "id": "1e321d78",
   "metadata": {},
   "source": [
    "### SALVANDO ARQUIVO (RDD)"
   ]
  },
  {
   "cell_type": "code",
   "execution_count": 90,
   "id": "84a8236b",
   "metadata": {},
   "outputs": [],
   "source": [
    "(rdd_airports.map(qa_faa)\n",
    "             .map(qa_name)\n",
    "             .map(qa_lat)\n",
    "             .map(qa_lon)\n",
    "             .map(qa_alt)\n",
    "             .map(qa_tz)\n",
    "             .map(qa_dst)\n",
    "             .saveAsTextFile(\"Datasets/airports_qa.txt\"))"
   ]
  }
 ],
 "metadata": {
  "kernelspec": {
   "display_name": "Python 3 (ipykernel)",
   "language": "python",
   "name": "python3"
  },
  "language_info": {
   "codemirror_mode": {
    "name": "ipython",
    "version": 3
   },
   "file_extension": ".py",
   "mimetype": "text/x-python",
   "name": "python",
   "nbconvert_exporter": "python",
   "pygments_lexer": "ipython3",
   "version": "3.9.7"
  }
 },
 "nbformat": 4,
 "nbformat_minor": 5
}
